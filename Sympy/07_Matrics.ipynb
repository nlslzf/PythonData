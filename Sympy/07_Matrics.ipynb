{
 "cells": [
  {
   "cell_type": "code",
   "execution_count": 2,
   "metadata": {},
   "outputs": [
    {
     "name": "stdout",
     "output_type": "stream",
     "text": [
      "IPython console for SymPy 1.6 (Python 3.7.6-64-bit) (ground types: python)\n",
      "\n",
      "These commands were executed:\n",
      ">>> from __future__ import division\n",
      ">>> from sympy import *\n",
      ">>> x, y, z, t = symbols('x y z t')\n",
      ">>> k, m, n = symbols('k m n', integer=True)\n",
      ">>> f, g, h = symbols('f g h', cls=Function)\n",
      ">>> init_printing()\n",
      "\n",
      "Documentation can be found at https://docs.sympy.org/1.6/\n",
      "\n"
     ]
    },
    {
     "data": {
      "text/latex": [
       "$\\displaystyle \\left[\\begin{matrix}1 & -1\\\\3 & 4\\\\0 & -2\\end{matrix}\\right]$"
      ],
      "text/plain": [
       "⎡1  -1⎤\n",
       "⎢     ⎥\n",
       "⎢3  4 ⎥\n",
       "⎢     ⎥\n",
       "⎣0  -2⎦"
      ]
     },
     "execution_count": 2,
     "metadata": {},
     "output_type": "execute_result"
    }
   ],
   "source": [
    "from sympy import init_session\n",
    "init_session()\n",
    "Matrix([[1,-1],[3,4],[0,-2]])"
   ]
  },
  {
   "cell_type": "code",
   "execution_count": 3,
   "metadata": {},
   "outputs": [
    {
     "data": {
      "text/latex": [
       "$\\displaystyle \\left[\\begin{matrix}1\\\\2\\\\3\\end{matrix}\\right]$"
      ],
      "text/plain": [
       "⎡1⎤\n",
       "⎢ ⎥\n",
       "⎢2⎥\n",
       "⎢ ⎥\n",
       "⎣3⎦"
      ]
     },
     "execution_count": 3,
     "metadata": {},
     "output_type": "execute_result"
    }
   ],
   "source": [
    "Matrix([1,2,3])"
   ]
  },
  {
   "cell_type": "code",
   "execution_count": 6,
   "metadata": {},
   "outputs": [
    {
     "data": {
      "text/latex": [
       "$\\displaystyle \\left[\\begin{matrix}11\\\\5\\end{matrix}\\right]$"
      ],
      "text/plain": [
       "⎡11⎤\n",
       "⎢  ⎥\n",
       "⎣5 ⎦"
      ]
     },
     "execution_count": 6,
     "metadata": {},
     "output_type": "execute_result"
    }
   ],
   "source": [
    "M = Matrix([[1,2,3],[3,2,1]])\n",
    "N = Matrix([0,1,3])\n",
    "M*N"
   ]
  },
  {
   "cell_type": "code",
   "execution_count": 8,
   "metadata": {},
   "outputs": [
    {
     "data": {
      "image/png": "[encoded data removed]",
      "text/latex": [
       "$\\displaystyle \\left( 2, \\  3\\right)$"
      ],
      "text/plain": [
       "(2, 3)"
      ]
     },
     "execution_count": 8,
     "metadata": {},
     "output_type": "execute_result"
    }
   ],
   "source": [
    "M.shape"
   ]
  },
  {
   "cell_type": "code",
   "execution_count": 9,
   "metadata": {},
   "outputs": [],
   "source": [
    "M.col_del(0)"
   ]
  },
  {
   "cell_type": "code",
   "execution_count": 10,
   "metadata": {},
   "outputs": [
    {
     "data": {
      "text/latex": [
       "$\\displaystyle \\left[\\begin{matrix}2 & 3\\\\2 & 1\\end{matrix}\\right]$"
      ],
      "text/plain": [
       "⎡2  3⎤\n",
       "⎢    ⎥\n",
       "⎣2  1⎦"
      ]
     },
     "execution_count": 10,
     "metadata": {},
     "output_type": "execute_result"
    }
   ],
   "source": [
    "M"
   ]
  },
  {
   "cell_type": "code",
   "execution_count": 11,
   "metadata": {},
   "outputs": [],
   "source": [
    "M.row_del(1)"
   ]
  },
  {
   "cell_type": "code",
   "execution_count": 12,
   "metadata": {},
   "outputs": [
    {
     "data": {
      "text/latex": [
       "$\\displaystyle \\left[\\begin{matrix}2 & 3\\end{matrix}\\right]$"
      ],
      "text/plain": [
       "[2  3]"
      ]
     },
     "execution_count": 12,
     "metadata": {},
     "output_type": "execute_result"
    }
   ],
   "source": [
    "M"
   ]
  },
  {
   "cell_type": "code",
   "execution_count": 25,
   "metadata": {},
   "outputs": [
    {
     "data": {
      "text/latex": [
       "$\\displaystyle \\left[\\begin{matrix}-2 & -2 & -1 & -1.0 & 2 & 3\\end{matrix}\\right]$"
      ],
      "text/plain": [
       "[-2  -2  -1  -1.0  2  3]"
      ]
     },
     "execution_count": 25,
     "metadata": {},
     "output_type": "execute_result"
    }
   ],
   "source": [
    "M.col_insert(0,Matrix([-2]))"
   ]
  },
  {
   "cell_type": "code",
   "execution_count": 26,
   "metadata": {},
   "outputs": [
    {
     "data": {
      "text/latex": [
       "$\\displaystyle \\left[\\begin{matrix}-2\\\\-1\\\\-1.0\\\\2\\\\3\\end{matrix}\\right]$"
      ],
      "text/plain": [
       "⎡ -2 ⎤\n",
       "⎢    ⎥\n",
       "⎢ -1 ⎥\n",
       "⎢    ⎥\n",
       "⎢-1.0⎥\n",
       "⎢    ⎥\n",
       "⎢ 2  ⎥\n",
       "⎢    ⎥\n",
       "⎣ 3  ⎦"
      ]
     },
     "execution_count": 26,
     "metadata": {},
     "output_type": "execute_result"
    }
   ],
   "source": [
    "M.T"
   ]
  },
  {
   "cell_type": "code",
   "execution_count": 27,
   "metadata": {},
   "outputs": [
    {
     "data": {
      "text/latex": [
       "$\\displaystyle \\left[\\begin{matrix}1 & 0 & 0\\\\0 & 1 & 0\\\\0 & 0 & 1\\end{matrix}\\right]$"
      ],
      "text/plain": [
       "⎡1  0  0⎤\n",
       "⎢       ⎥\n",
       "⎢0  1  0⎥\n",
       "⎢       ⎥\n",
       "⎣0  0  1⎦"
      ]
     },
     "execution_count": 27,
     "metadata": {},
     "output_type": "execute_result"
    }
   ],
   "source": [
    "eye(3)"
   ]
  },
  {
   "cell_type": "code",
   "execution_count": 28,
   "metadata": {},
   "outputs": [
    {
     "data": {
      "text/latex": [
       "$\\displaystyle \\left[\\begin{matrix}0 & 0 & 0 & 0\\\\0 & 0 & 0 & 0\\\\0 & 0 & 0 & 0\\\\0 & 0 & 0 & 0\\end{matrix}\\right]$"
      ],
      "text/plain": [
       "⎡0  0  0  0⎤\n",
       "⎢          ⎥\n",
       "⎢0  0  0  0⎥\n",
       "⎢          ⎥\n",
       "⎢0  0  0  0⎥\n",
       "⎢          ⎥\n",
       "⎣0  0  0  0⎦"
      ]
     },
     "execution_count": 28,
     "metadata": {},
     "output_type": "execute_result"
    }
   ],
   "source": [
    "zeros(4)"
   ]
  },
  {
   "cell_type": "code",
   "execution_count": 29,
   "metadata": {},
   "outputs": [
    {
     "data": {
      "text/latex": [
       "$\\displaystyle \\left[\\begin{matrix}1 & 1 & 1\\\\1 & 1 & 1\\\\1 & 1 & 1\\end{matrix}\\right]$"
      ],
      "text/plain": [
       "⎡1  1  1⎤\n",
       "⎢       ⎥\n",
       "⎢1  1  1⎥\n",
       "⎢       ⎥\n",
       "⎣1  1  1⎦"
      ]
     },
     "execution_count": 29,
     "metadata": {},
     "output_type": "execute_result"
    }
   ],
   "source": [
    "ones(3)"
   ]
  },
  {
   "cell_type": "code",
   "execution_count": 30,
   "metadata": {},
   "outputs": [
    {
     "data": {
      "text/latex": [
       "$\\displaystyle \\left[\\begin{matrix}1 & 0 & 0 & 0 & 0\\\\0 & 2 & 0 & 0 & 0\\\\0 & 0 & 3 & 0 & 0\\\\0 & 0 & 0 & 4 & 0\\\\0 & 0 & 0 & 0 & 5\\end{matrix}\\right]$"
      ],
      "text/plain": [
       "⎡1  0  0  0  0⎤\n",
       "⎢             ⎥\n",
       "⎢0  2  0  0  0⎥\n",
       "⎢             ⎥\n",
       "⎢0  0  3  0  0⎥\n",
       "⎢             ⎥\n",
       "⎢0  0  0  4  0⎥\n",
       "⎢             ⎥\n",
       "⎣0  0  0  0  5⎦"
      ]
     },
     "execution_count": 30,
     "metadata": {},
     "output_type": "execute_result"
    }
   ],
   "source": [
    "diag(1,2,3,4,5)"
   ]
  },
  {
   "cell_type": "code",
   "execution_count": 31,
   "metadata": {},
   "outputs": [
    {
     "data": {
      "text/latex": [
       "$\\displaystyle \\left[\\begin{matrix}-1 & 0 & 0 & 0\\\\0 & 1 & 1 & 0\\\\0 & 1 & 1 & 0\\\\0 & 0 & 0 & 5\\\\0 & 0 & 0 & 7\\\\0 & 0 & 0 & 5\\end{matrix}\\right]$"
      ],
      "text/plain": [
       "⎡-1  0  0  0⎤\n",
       "⎢           ⎥\n",
       "⎢0   1  1  0⎥\n",
       "⎢           ⎥\n",
       "⎢0   1  1  0⎥\n",
       "⎢           ⎥\n",
       "⎢0   0  0  5⎥\n",
       "⎢           ⎥\n",
       "⎢0   0  0  7⎥\n",
       "⎢           ⎥\n",
       "⎣0   0  0  5⎦"
      ]
     },
     "execution_count": 31,
     "metadata": {},
     "output_type": "execute_result"
    }
   ],
   "source": [
    "diag(-1,ones(2),Matrix([5,7,5]))"
   ]
  },
  {
   "cell_type": "code",
   "execution_count": 32,
   "metadata": {},
   "outputs": [
    {
     "data": {
      "text/latex": [
       "$\\displaystyle \\left[\\begin{matrix}1 & 0 & 1\\\\2 & -1 & 3\\\\4 & 3 & 2\\end{matrix}\\right]$"
      ],
      "text/plain": [
       "⎡1  0   1⎤\n",
       "⎢        ⎥\n",
       "⎢2  -1  3⎥\n",
       "⎢        ⎥\n",
       "⎣4  3   2⎦"
      ]
     },
     "execution_count": 32,
     "metadata": {},
     "output_type": "execute_result"
    }
   ],
   "source": [
    "M = Matrix([[1, 0, 1], [2, -1, 3], [4, 3, 2]])\n",
    "M"
   ]
  },
  {
   "cell_type": "code",
   "execution_count": 33,
   "metadata": {},
   "outputs": [
    {
     "data": {
      "image/png": "[encoded data removed]",
      "text/latex": [
       "$\\displaystyle -1$"
      ],
      "text/plain": [
       "-1"
      ]
     },
     "execution_count": 33,
     "metadata": {},
     "output_type": "execute_result"
    }
   ],
   "source": [
    "M.det()"
   ]
  },
  {
   "cell_type": "code",
   "execution_count": 35,
   "metadata": {},
   "outputs": [
    {
     "data": {
      "text/latex": [
       "$\\displaystyle \\left( \\left[\\begin{matrix}1 & 0 & 0\\\\0 & 1 & 0\\\\0 & 0 & 1\\end{matrix}\\right], \\  \\left( 0, \\  1, \\  2\\right)\\right)$"
      ],
      "text/plain": [
       "⎛⎡1  0  0⎤           ⎞\n",
       "⎜⎢       ⎥           ⎟\n",
       "⎜⎢0  1  0⎥, (0, 1, 2)⎟\n",
       "⎜⎢       ⎥           ⎟\n",
       "⎝⎣0  0  1⎦           ⎠"
      ]
     },
     "execution_count": 35,
     "metadata": {},
     "output_type": "execute_result"
    }
   ],
   "source": [
    "M.rref()"
   ]
  },
  {
   "cell_type": "code",
   "execution_count": 36,
   "metadata": {},
   "outputs": [
    {
     "data": {
      "image/png": "[encoded data removed]",
      "text/latex": [
       "$\\displaystyle \\left[ \\right]$"
      ],
      "text/plain": [
       "[]"
      ]
     },
     "execution_count": 36,
     "metadata": {},
     "output_type": "execute_result"
    }
   ],
   "source": [
    "M.nullspace()"
   ]
  },
  {
   "cell_type": "code",
   "execution_count": 38,
   "metadata": {},
   "outputs": [
    {
     "data": {
      "text/latex": [
       "$\\displaystyle \\left[\\begin{matrix}1 & 2 & 3 & 0 & 0\\\\4 & 10 & 0 & 0 & 1\\end{matrix}\\right]$"
      ],
      "text/plain": [
       "⎡1  2   3  0  0⎤\n",
       "⎢              ⎥\n",
       "⎣4  10  0  0  1⎦"
      ]
     },
     "execution_count": 38,
     "metadata": {},
     "output_type": "execute_result"
    }
   ],
   "source": [
    "M = Matrix([[1,2,3,0,0],[4,10,0,0,1]])\n",
    "M"
   ]
  },
  {
   "cell_type": "code",
   "execution_count": 39,
   "metadata": {},
   "outputs": [
    {
     "data": {
      "text/latex": [
       "$\\displaystyle \\left[ \\left[\\begin{matrix}-15\\\\6\\\\1\\\\0\\\\0\\end{matrix}\\right], \\  \\left[\\begin{matrix}0\\\\0\\\\0\\\\1\\\\0\\end{matrix}\\right], \\  \\left[\\begin{matrix}1\\\\- \\frac{1}{2}\\\\0\\\\0\\\\1\\end{matrix}\\right]\\right]$"
      ],
      "text/plain": [
       "⎡⎡-15⎤  ⎡0⎤  ⎡ 1  ⎤⎤\n",
       "⎢⎢   ⎥  ⎢ ⎥  ⎢    ⎥⎥\n",
       "⎢⎢ 6 ⎥  ⎢0⎥  ⎢-1/2⎥⎥\n",
       "⎢⎢   ⎥  ⎢ ⎥  ⎢    ⎥⎥\n",
       "⎢⎢ 1 ⎥, ⎢0⎥, ⎢ 0  ⎥⎥\n",
       "⎢⎢   ⎥  ⎢ ⎥  ⎢    ⎥⎥\n",
       "⎢⎢ 0 ⎥  ⎢1⎥  ⎢ 0  ⎥⎥\n",
       "⎢⎢   ⎥  ⎢ ⎥  ⎢    ⎥⎥\n",
       "⎣⎣ 0 ⎦  ⎣0⎦  ⎣ 1  ⎦⎦"
      ]
     },
     "execution_count": 39,
     "metadata": {},
     "output_type": "execute_result"
    }
   ],
   "source": [
    "M.nullspace()"
   ]
  },
  {
   "cell_type": "code",
   "execution_count": 40,
   "metadata": {},
   "outputs": [
    {
     "data": {
      "text/latex": [
       "$\\displaystyle \\left[ \\left[\\begin{matrix}1\\\\4\\end{matrix}\\right], \\  \\left[\\begin{matrix}2\\\\10\\end{matrix}\\right]\\right]$"
      ],
      "text/plain": [
       "⎡⎡1⎤  ⎡2 ⎤⎤\n",
       "⎢⎢ ⎥, ⎢  ⎥⎥\n",
       "⎣⎣4⎦  ⎣10⎦⎦"
      ]
     },
     "execution_count": 40,
     "metadata": {},
     "output_type": "execute_result"
    }
   ],
   "source": [
    "M.columnspace()"
   ]
  },
  {
   "cell_type": "code",
   "execution_count": 43,
   "metadata": {},
   "outputs": [
    {
     "data": {
      "text/latex": [
       "$\\displaystyle \\left[\\begin{matrix}3 & -2 & 4 & -2\\\\5 & 3 & -3 & -2\\\\5 & -2 & 2 & -2\\\\5 & -2 & -3 & 3\\end{matrix}\\right]$"
      ],
      "text/plain": [
       "⎡3  -2  4   -2⎤\n",
       "⎢             ⎥\n",
       "⎢5  3   -3  -2⎥\n",
       "⎢             ⎥\n",
       "⎢5  -2  2   -2⎥\n",
       "⎢             ⎥\n",
       "⎣5  -2  -3  3 ⎦"
      ]
     },
     "execution_count": 43,
     "metadata": {},
     "output_type": "execute_result"
    }
   ],
   "source": [
    "M = Matrix([[3,-2,4,-2],[5,3,-3,-2],[5,-2,2,-2],[5,-2,-3,3]])\n",
    "M"
   ]
  },
  {
   "cell_type": "code",
   "execution_count": 44,
   "metadata": {},
   "outputs": [
    {
     "data": {
      "image/png": "[encoded data removed]",
      "text/latex": [
       "$\\displaystyle \\left\\{ -2 : 1, \\  3 : 1, \\  5 : 2\\right\\}$"
      ],
      "text/plain": [
       "{-2: 1, 3: 1, 5: 2}"
      ]
     },
     "execution_count": 44,
     "metadata": {},
     "output_type": "execute_result"
    }
   ],
   "source": [
    "M.eigenvals()"
   ]
  },
  {
   "cell_type": "code",
   "execution_count": 45,
   "metadata": {},
   "outputs": [
    {
     "data": {
      "text/latex": [
       "$\\displaystyle \\left[ \\left( -2, \\  1, \\  \\left[ \\left[\\begin{matrix}0\\\\1\\\\1\\\\1\\end{matrix}\\right]\\right]\\right), \\  \\left( 3, \\  1, \\  \\left[ \\left[\\begin{matrix}1\\\\1\\\\1\\\\1\\end{matrix}\\right]\\right]\\right), \\  \\left( 5, \\  2, \\  \\left[ \\left[\\begin{matrix}1\\\\1\\\\1\\\\0\\end{matrix}\\right], \\  \\left[\\begin{matrix}0\\\\-1\\\\0\\\\1\\end{matrix}\\right]\\right]\\right)\\right]$"
      ],
      "text/plain": [
       "⎡⎛       ⎡⎡0⎤⎤⎞  ⎛      ⎡⎡1⎤⎤⎞  ⎛      ⎡⎡1⎤  ⎡0 ⎤⎤⎞⎤\n",
       "⎢⎜       ⎢⎢ ⎥⎥⎟  ⎜      ⎢⎢ ⎥⎥⎟  ⎜      ⎢⎢ ⎥  ⎢  ⎥⎥⎟⎥\n",
       "⎢⎜       ⎢⎢1⎥⎥⎟  ⎜      ⎢⎢1⎥⎥⎟  ⎜      ⎢⎢1⎥  ⎢-1⎥⎥⎟⎥\n",
       "⎢⎜-2, 1, ⎢⎢ ⎥⎥⎟, ⎜3, 1, ⎢⎢ ⎥⎥⎟, ⎜5, 2, ⎢⎢ ⎥, ⎢  ⎥⎥⎟⎥\n",
       "⎢⎜       ⎢⎢1⎥⎥⎟  ⎜      ⎢⎢1⎥⎥⎟  ⎜      ⎢⎢1⎥  ⎢0 ⎥⎥⎟⎥\n",
       "⎢⎜       ⎢⎢ ⎥⎥⎟  ⎜      ⎢⎢ ⎥⎥⎟  ⎜      ⎢⎢ ⎥  ⎢  ⎥⎥⎟⎥\n",
       "⎣⎝       ⎣⎣1⎦⎦⎠  ⎝      ⎣⎣1⎦⎦⎠  ⎝      ⎣⎣0⎦  ⎣1 ⎦⎦⎠⎦"
      ]
     },
     "execution_count": 45,
     "metadata": {},
     "output_type": "execute_result"
    }
   ],
   "source": [
    "M.eigenvects()"
   ]
  },
  {
   "cell_type": "code",
   "execution_count": 46,
   "metadata": {},
   "outputs": [],
   "source": [
    "P,D = M.diagonalize()"
   ]
  },
  {
   "cell_type": "code",
   "execution_count": 47,
   "metadata": {},
   "outputs": [
    {
     "data": {
      "text/latex": [
       "$\\displaystyle \\left[\\begin{matrix}0 & 1 & 1 & 0\\\\1 & 1 & 1 & -1\\\\1 & 1 & 1 & 0\\\\1 & 1 & 0 & 1\\end{matrix}\\right]$"
      ],
      "text/plain": [
       "⎡0  1  1  0 ⎤\n",
       "⎢           ⎥\n",
       "⎢1  1  1  -1⎥\n",
       "⎢           ⎥\n",
       "⎢1  1  1  0 ⎥\n",
       "⎢           ⎥\n",
       "⎣1  1  0  1 ⎦"
      ]
     },
     "execution_count": 47,
     "metadata": {},
     "output_type": "execute_result"
    }
   ],
   "source": [
    "P"
   ]
  },
  {
   "cell_type": "code",
   "execution_count": 48,
   "metadata": {},
   "outputs": [
    {
     "data": {
      "text/latex": [
       "$\\displaystyle \\left[\\begin{matrix}-2 & 0 & 0 & 0\\\\0 & 3 & 0 & 0\\\\0 & 0 & 5 & 0\\\\0 & 0 & 0 & 5\\end{matrix}\\right]$"
      ],
      "text/plain": [
       "⎡-2  0  0  0⎤\n",
       "⎢           ⎥\n",
       "⎢0   3  0  0⎥\n",
       "⎢           ⎥\n",
       "⎢0   0  5  0⎥\n",
       "⎢           ⎥\n",
       "⎣0   0  0  5⎦"
      ]
     },
     "execution_count": 48,
     "metadata": {},
     "output_type": "execute_result"
    }
   ],
   "source": [
    "D"
   ]
  },
  {
   "cell_type": "code",
   "execution_count": 49,
   "metadata": {},
   "outputs": [
    {
     "data": {
      "text/latex": [
       "$\\displaystyle \\left[\\begin{matrix}3 & -2 & 4 & -2\\\\5 & 3 & -3 & -2\\\\5 & -2 & 2 & -2\\\\5 & -2 & -3 & 3\\end{matrix}\\right]$"
      ],
      "text/plain": [
       "⎡3  -2  4   -2⎤\n",
       "⎢             ⎥\n",
       "⎢5  3   -3  -2⎥\n",
       "⎢             ⎥\n",
       "⎢5  -2  2   -2⎥\n",
       "⎢             ⎥\n",
       "⎣5  -2  -3  3 ⎦"
      ]
     },
     "execution_count": 49,
     "metadata": {},
     "output_type": "execute_result"
    }
   ],
   "source": [
    "P*D*P**-1"
   ]
  },
  {
   "cell_type": "code",
   "execution_count": 50,
   "metadata": {},
   "outputs": [
    {
     "data": {
      "text/plain": [
       "True"
      ]
     },
     "execution_count": 50,
     "metadata": {},
     "output_type": "execute_result"
    }
   ],
   "source": [
    "P*D*P**-1 == M"
   ]
  },
  {
   "cell_type": "code",
   "execution_count": 56,
   "metadata": {},
   "outputs": [
    {
     "data": {
      "image/png": "[encoded data removed]",
      "text/latex": [
       "$\\displaystyle \\lambda^{4} - 11 \\lambda^{3} + 29 \\lambda^{2} + 35 \\lambda - 150$"
      ],
      "text/plain": [
       " 4       3       2             \n",
       "λ  - 11⋅λ  + 29⋅λ  + 35⋅λ - 150"
      ]
     },
     "execution_count": 56,
     "metadata": {},
     "output_type": "execute_result"
    }
   ],
   "source": [
    "lamda = symbols('lamda')\n",
    "p = M.charpoly(lamda)\n",
    "factor(p.as_expr())\n"
   ]
  },
  {
   "cell_type": "code",
   "execution_count": 59,
   "metadata": {},
   "outputs": [
    {
     "name": "stderr",
     "output_type": "stream",
     "text": [
      "/root/miniconda3/lib/python3.7/site-packages/ipykernel_launcher.py:10: UserWarning: Zero testing of 4*cosh(q/3)**2 - 1 eavluated into None\n",
      "  # Remove the CWD from sys.path while we load stuff.\n",
      "/root/miniconda3/lib/python3.7/site-packages/ipykernel_launcher.py:10: UserWarning: Zero testing of 2*exp(q)*cosh(q/3) - 16*cosh(q/3)**4 + 12*cosh(q/3)**2 + 2*exp(-q)*cosh(q/3) eavluated into None\n",
      "  # Remove the CWD from sys.path while we load stuff.\n",
      "/root/miniconda3/lib/python3.7/site-packages/ipykernel_launcher.py:10: UserWarning: Zero testing of 2*((exp(q) - 8*cosh(q/3)**3 + 6*cosh(q/3))*exp(q) + 1)*exp(-q)*cosh(q/3) eavluated into None\n",
      "  # Remove the CWD from sys.path while we load stuff.\n"
     ]
    },
    {
     "data": {
      "image/png": "[encoded data removed]",
      "text/latex": [
       "$\\displaystyle \\left[ \\right]$"
      ],
      "text/plain": [
       "[]"
      ]
     },
     "execution_count": 59,
     "metadata": {},
     "output_type": "execute_result"
    }
   ],
   "source": [
    "import warnings\n",
    "\n",
    "def my_iszero(x):\n",
    "    try:\n",
    "        result = x.is_zero\n",
    "    except:\n",
    "        result = None\n",
    "\n",
    "    if result is None:\n",
    "        warnings.warn(\"Zero testing of {} eavluated into None\".format(x))\n",
    "    return result\n",
    "\n",
    "from sympy import *\n",
    "q = Symbol(\"q\",positive=True)\n",
    "m = Matrix([[-2*cosh(q/3),exp(-q),1],[exp(q),-2*cosh(q/3),1],[1,1,-2*cosh(q/3)]])\n",
    "m.nullspace(iszerofunc=my_iszero)"
   ]
  },
  {
   "cell_type": "code",
   "execution_count": 60,
   "metadata": {},
   "outputs": [
    {
     "name": "stderr",
     "output_type": "stream",
     "text": [
      "/root/miniconda3/lib/python3.7/site-packages/ipykernel_launcher.py:9: UserWarning: Zero testing of -2*cosh(q/3) - exp(-q) evaluated into None\n",
      "  if __name__ == '__main__':\n"
     ]
    },
    {
     "data": {
      "text/latex": [
       "$\\displaystyle \\left[ \\left[\\begin{matrix}\\frac{2 e^{q} \\cosh{\\left(\\frac{q}{3} \\right)} + 1}{4 e^{q} \\cosh^{2}{\\left(\\frac{q}{3} \\right)} - e^{q}}\\\\\\frac{e^{q} + 2 \\cosh{\\left(\\frac{q}{3} \\right)}}{4 \\cosh^{2}{\\left(\\frac{q}{3} \\right)} - 1}\\\\1\\end{matrix}\\right]\\right]$"
      ],
      "text/plain": [
       "⎡⎡    q     ⎛q⎞     ⎤⎤\n",
       "⎢⎢ 2⋅ℯ ⋅cosh⎜─⎟ + 1 ⎥⎥\n",
       "⎢⎢          ⎝3⎠     ⎥⎥\n",
       "⎢⎢──────────────────⎥⎥\n",
       "⎢⎢   q     2⎛q⎞    q⎥⎥\n",
       "⎢⎢4⋅ℯ ⋅cosh ⎜─⎟ - ℯ ⎥⎥\n",
       "⎢⎢          ⎝3⎠     ⎥⎥\n",
       "⎢⎢                  ⎥⎥\n",
       "⎢⎢   q         ⎛q⎞  ⎥⎥\n",
       "⎢⎢  ℯ  + 2⋅cosh⎜─⎟  ⎥⎥\n",
       "⎢⎢             ⎝3⎠  ⎥⎥\n",
       "⎢⎢  ──────────────  ⎥⎥\n",
       "⎢⎢        2⎛q⎞      ⎥⎥\n",
       "⎢⎢  4⋅cosh ⎜─⎟ - 1  ⎥⎥\n",
       "⎢⎢         ⎝3⎠      ⎥⎥\n",
       "⎢⎢                  ⎥⎥\n",
       "⎣⎣        1         ⎦⎦"
      ]
     },
     "execution_count": 60,
     "metadata": {},
     "output_type": "execute_result"
    }
   ],
   "source": [
    "def my_iszero2(x):\n",
    "    try:\n",
    "        result = x.rewrite(exp).simplify().is_zero\n",
    "    except AttributeError:\n",
    "        result = None\n",
    "\n",
    "    # Warnings if evaluated into None\n",
    "    if result is None:\n",
    "        warnings.warn(\"Zero testing of {} evaluated into None\".format(x))\n",
    "    return result\n",
    "\n",
    "m.nullspace(iszerofunc=my_iszero2)"
   ]
  },
  {
   "cell_type": "code",
   "execution_count": null,
   "metadata": {},
   "outputs": [],
   "source": []
  }
 ],
 "metadata": {
  "kernelspec": {
   "display_name": "Python 3",
   "language": "python",
   "name": "python3"
  },
  "language_info": {
   "codemirror_mode": {
    "name": "ipython",
    "version": 3
   },
   "file_extension": ".py",
   "mimetype": "text/x-python",
   "name": "python",
   "nbconvert_exporter": "python",
   "pygments_lexer": "ipython3",
   "version": "3.7.6"
  }
 },
 "nbformat": 4,
 "nbformat_minor": 4
}
