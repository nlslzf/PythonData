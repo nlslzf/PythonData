{
 "cells": [
  {
   "cell_type": "code",
   "execution_count": 4,
   "metadata": {},
   "outputs": [
    {
     "data": {
      "text/plain": [
       "<PyQt5.QtGui.QColor at 0x1237506a668>"
      ]
     },
     "execution_count": 4,
     "metadata": {},
     "output_type": "execute_result"
    }
   ],
   "source": [
    "from traits.api import HasTraits, Color\n",
    "class Circle(HasTraits):\n",
    "    color = Color\n",
    "c = Circle()\n",
    "c.color"
   ]
  },
  {
   "cell_type": "code",
   "execution_count": 6,
   "metadata": {},
   "outputs": [
    {
     "data": {
      "text/plain": [
       "(255, 0, 0, 255)"
      ]
     },
     "execution_count": 6,
     "metadata": {},
     "output_type": "execute_result"
    }
   ],
   "source": [
    "c.color='red'\n",
    "c.color.getRgb()"
   ]
  },
  {
   "cell_type": "code",
   "execution_count": 7,
   "metadata": {},
   "outputs": [
    {
     "data": {
      "text/plain": [
       "True"
      ]
     },
     "execution_count": 7,
     "metadata": {},
     "output_type": "execute_result"
    }
   ],
   "source": [
    "c.configure_traits()"
   ]
  },
  {
   "cell_type": "code",
   "execution_count": 8,
   "metadata": {},
   "outputs": [
    {
     "data": {
      "text/plain": [
       "(137, 188, 255, 255)"
      ]
     },
     "execution_count": 8,
     "metadata": {},
     "output_type": "execute_result"
    }
   ],
   "source": [
    "c.color.getRgb()"
   ]
  },
  {
   "cell_type": "markdown",
   "metadata": {},
   "source": [
    "## Trait属性的功能\n",
    "1. 初始化\n",
    "2. 验证\n",
    "3. 代理\n",
    "4. 监听\n",
    "5. 可视化"
   ]
  },
  {
   "cell_type": "code",
   "execution_count": 9,
   "metadata": {},
   "outputs": [],
   "source": [
    "from traits.api import Delegate, HasTraits, Instance, Int, Str\n",
    " \n",
    "class Parent(HasTraits):\n",
    "    # 初始化\n",
    "    last_name = Str('Zhang')\n",
    " \n",
    "class Child(HasTraits):\n",
    "    age = Int\n",
    "    # 验证\n",
    "    father = Instance(Parent)\n",
    "    # 代理\n",
    "    last_name = Delegate('father')\n",
    "    # 监听\n",
    "    def _age_changed(self, old, new):\n",
    "        print('Age change from %s to %s' % (old, new))"
   ]
  },
  {
   "cell_type": "code",
   "execution_count": 12,
   "metadata": {},
   "outputs": [
    {
     "ename": "AttributeError",
     "evalue": "'NoneType' object has no attribute 'last_name'",
     "output_type": "error",
     "traceback": [
      "\u001b[1;31m---------------------------------------------------------------------------\u001b[0m",
      "\u001b[1;31mAttributeError\u001b[0m                            Traceback (most recent call last)",
      "\u001b[1;32m<ipython-input-12-a4cae36ffe6b>\u001b[0m in \u001b[0;36m<module>\u001b[1;34m\u001b[0m\n\u001b[0;32m      1\u001b[0m \u001b[0mp\u001b[0m \u001b[1;33m=\u001b[0m \u001b[0mParent\u001b[0m\u001b[1;33m(\u001b[0m\u001b[1;33m)\u001b[0m\u001b[1;33m\u001b[0m\u001b[1;33m\u001b[0m\u001b[0m\n\u001b[0;32m      2\u001b[0m \u001b[0mc\u001b[0m \u001b[1;33m=\u001b[0m \u001b[0mChild\u001b[0m\u001b[1;33m(\u001b[0m\u001b[1;33m)\u001b[0m\u001b[1;33m\u001b[0m\u001b[1;33m\u001b[0m\u001b[0m\n\u001b[1;32m----> 3\u001b[1;33m \u001b[0mc\u001b[0m\u001b[1;33m.\u001b[0m\u001b[0mlast_name\u001b[0m\u001b[1;33m\u001b[0m\u001b[1;33m\u001b[0m\u001b[0m\n\u001b[0m",
      "\u001b[1;31mAttributeError\u001b[0m: 'NoneType' object has no attribute 'last_name'"
     ]
    }
   ],
   "source": [
    "p = Parent()\n",
    "c = Child()\n",
    "c.last_name"
   ]
  },
  {
   "cell_type": "code",
   "execution_count": 15,
   "metadata": {},
   "outputs": [
    {
     "data": {
      "text/plain": [
       "'Zhang'"
      ]
     },
     "execution_count": 15,
     "metadata": {},
     "output_type": "execute_result"
    }
   ],
   "source": [
    "c.father = p\n",
    "c.last_name"
   ]
  },
  {
   "cell_type": "code",
   "execution_count": 16,
   "metadata": {},
   "outputs": [
    {
     "data": {
      "text/plain": [
       "True"
      ]
     },
     "execution_count": 16,
     "metadata": {},
     "output_type": "execute_result"
    }
   ],
   "source": [
    "c.configure_traits()"
   ]
  },
  {
   "cell_type": "code",
   "execution_count": 17,
   "metadata": {},
   "outputs": [
    {
     "name": "stdout",
     "output_type": "stream",
     "text": [
      "age:       0\n",
      "father:    <__main__.Parent object at 0x00000123055E7A68>\n",
      "last_name: 'Lili'\n"
     ]
    }
   ],
   "source": [
    "c.print_traits()"
   ]
  },
  {
   "cell_type": "code",
   "execution_count": 18,
   "metadata": {},
   "outputs": [
    {
     "name": "stderr",
     "output_type": "stream",
     "text": [
      "c:\\users\\szj81\\miniconda3\\lib\\site-packages\\ipykernel_launcher.py:1: DeprecationWarning: use \"HasTraits.trait_get\" instead\n",
      "  \"\"\"Entry point for launching an IPython kernel.\n"
     ]
    },
    {
     "data": {
      "text/plain": [
       "{'age': 0, 'father': <__main__.Parent at 0x123055e7a68>, 'last_name': 'Lili'}"
      ]
     },
     "execution_count": 18,
     "metadata": {},
     "output_type": "execute_result"
    }
   ],
   "source": [
    "c.get()"
   ]
  },
  {
   "cell_type": "code",
   "execution_count": 19,
   "metadata": {},
   "outputs": [
    {
     "name": "stdout",
     "output_type": "stream",
     "text": [
      "Age change from 0 to 8\n"
     ]
    },
    {
     "name": "stderr",
     "output_type": "stream",
     "text": [
      "c:\\users\\szj81\\miniconda3\\lib\\site-packages\\ipykernel_launcher.py:1: DeprecationWarning: use \"HasTraits.trait_set\" instead\n",
      "  \"\"\"Entry point for launching an IPython kernel.\n"
     ]
    },
    {
     "data": {
      "text/plain": [
       "<__main__.Child at 0x123055e7ac8>"
      ]
     },
     "execution_count": 19,
     "metadata": {},
     "output_type": "execute_result"
    }
   ],
   "source": [
    "c.set(age=8)"
   ]
  },
  {
   "cell_type": "markdown",
   "metadata": {},
   "source": [
    "### Trait属性监听"
   ]
  },
  {
   "cell_type": "code",
   "execution_count": 20,
   "metadata": {},
   "outputs": [
    {
     "name": "stdout",
     "output_type": "stream",
     "text": [
      "anytrait changed: ZhangSan<123053dec48>.name from  to ZhangSan\n",
      "anytrait changed: ZhangSan<123053dec48>.age from 0 to 4\n",
      "ZhangSan<123053dec48>.age changed: form 0 to 4\n",
      "anytrait changed: LiSi<123053dee28>.name from  to LiSi\n",
      "anytrait changed: LiSi<123053dee28>.age from 0 to 1\n",
      "LiSi<123053dee28>.age changed: form 0 to 1\n"
     ]
    }
   ],
   "source": [
    "from traits.api import HasTraits, Str, Int\n",
    " \n",
    "class Child ( HasTraits ):          \n",
    "    name = Str\n",
    "    age = Int\n",
    "    doing = Str\n",
    "     \n",
    "    def __str__(self):\n",
    "        return \"%s<%x>\" % (self.name, id(self))\n",
    "    # 静态监听age属性的变化\n",
    "    def _age_changed ( self, old, new ):\n",
    "        print (\"%s.age changed: form %s to %s\" % (self, old, new))\n",
    "    # 静态监听任何Trait属性的变化\n",
    "    def _anytrait_changed(self, name, old, new):\n",
    "        print (\"anytrait changed: %s.%s from %s to %s\" % (self, name, old, new))\n",
    " \n",
    "def log_trait_changed(obj, name, old, new):\n",
    "    print (\"log: %s.%s changed from %s to %s\" % (obj, name, old, new))\n",
    " \n",
    "z = Child(name = \"ZhangSan\", age=4)\n",
    "l = Child(name = \"LiSi\", age=1)\n",
    "# 动态监听doing属性的变化\n",
    "z.on_trait_change(log_trait_changed, name=\"doing\")"
   ]
  },
  {
   "cell_type": "code",
   "execution_count": 21,
   "metadata": {},
   "outputs": [],
   "source": [
    "from traits.api import HasTraits, Str, Int, Event, on_trait_change\n",
    " \n",
    "class Child (HasTraits):          \n",
    "    name = Str(\"ZhangSan\")\n",
    "    age = Int(4)\n",
    "    Infoupdated = Event\n",
    "    # 对_Info_changed()方法进行修饰\n",
    "    @on_trait_change(\"name,age\")\n",
    "    def _Info_changed (self):\n",
    "        self.Infoupdated = True\n",
    "    # Inforupdated事件处理方法\n",
    "    def _Infoupdated_fired(self):\n",
    "        self.reprint()\n",
    "    def reprint(self):\n",
    "        print (\"reprint information %s , %s\" % (self.name, self.age))"
   ]
  },
  {
   "cell_type": "markdown",
   "metadata": {},
   "source": [
    "## TraitsUI"
   ]
  },
  {
   "cell_type": "code",
   "execution_count": 22,
   "metadata": {},
   "outputs": [],
   "source": [
    "from traitsui.api import View\n"
   ]
  },
  {
   "cell_type": "code",
   "execution_count": 23,
   "metadata": {},
   "outputs": [
    {
     "data": {
      "text/plain": [
       "False"
      ]
     },
     "execution_count": 23,
     "metadata": {},
     "output_type": "execute_result"
    }
   ],
   "source": [
    "from traits.api import HasTraits, Str, Int\n",
    " \n",
    "class ModelManager(HasTraits):\n",
    "    model_name = Str\n",
    "    category = Str\n",
    "    model_file = Str\n",
    "    model_number = Int\n",
    " \n",
    "model = ModelManager()\n",
    "model.configure_traits()"
   ]
  },
  {
   "cell_type": "code",
   "execution_count": 24,
   "metadata": {},
   "outputs": [
    {
     "data": {
      "text/plain": [
       "True"
      ]
     },
     "execution_count": 24,
     "metadata": {},
     "output_type": "execute_result"
    }
   ],
   "source": [
    "from traits.api import HasTraits, Str, Int\n",
    "from traitsui.api import View, Item\n",
    " \n",
    "class ModelManager(HasTraits):\n",
    "    model_name = Str\n",
    "    category = Str\n",
    "    model_file = Str\n",
    "    model_number = Int\n",
    " \n",
    "    view = View(\n",
    "        Item('model_name', label=u\"模型名称\"),\n",
    "        Item('model_file', label=u\"文件名\"),\n",
    "        Item('category', label=u\"模型类型\"),\n",
    "        Item('model_number',label=u\"模型数量\"),\n",
    "        title = u\"模型资料\", width=220, resizable = True)   \n",
    " \n",
    "model = ModelManager()\n",
    "model.configure_traits()"
   ]
  },
  {
   "cell_type": "code",
   "execution_count": null,
   "metadata": {},
   "outputs": [],
   "source": [
    "from traits.api import HasTraits, Str, Int\n",
    "from traitsui.api import View, Item, Group\n",
    "from traitsui.menu import ModalButtons\n",
    " \n",
    "class ModelManager(HasTraits):\n",
    "    model_name = Str\n",
    "    category = Str\n",
    "    model_file = Str\n",
    "    model_number = Int\n",
    "    vertices = Int\n",
    " \n",
    "view1 = View(\n",
    "    Group(\n",
    "        Group(\n",
    "            Item('model_name', label=u\"模型名称\"),\n",
    "            Item('model_file', label=u\"文件名\"),\n",
    "            Item('category', label=u\"模型类型\"),\n",
    "            label = u'模型信息',\n",
    "            show_border = True),\n",
    "        Group(\n",
    "            Item('model_number',label=u\"模型数量\"),\n",
    "            Item('vertices',label=u\"顶点数量\"),\n",
    "            label = u'统计数据',\n",
    "            show_border = True),\n",
    "        orientation = 'horizontal'\n",
    "    ),\n",
    "    kind = 'modal',\n",
    "    buttons = ModalButtons\n",
    ")\n",
    " \n",
    "model = ModelManager()\n",
    "model.configure_traits(view=view1)"
   ]
  },
  {
   "cell_type": "code",
   "execution_count": 1,
   "metadata": {},
   "outputs": [
    {
     "data": {
      "text/plain": [
       "True"
      ]
     },
     "execution_count": 1,
     "metadata": {},
     "output_type": "execute_result"
    }
   ],
   "source": [
    "from traits.api import HasTraits, Button, Int\n",
    "from traitsui.api import View\n",
    " \n",
    "class ButtonEditor(HasTraits):\n",
    "    # 定义一个Button trait:\n",
    "    my_button = Button('Click Me')\n",
    "    counter = Int\n",
    "    # 当按钮点击后，处理当按钮被点击后，触发的事件\n",
    "    def _my_button_fired(self):\n",
    "        self.counter += 1\n",
    "    # 创建视图\n",
    "    traits_view = View(\n",
    "        'my_button',\n",
    "        'counter',\n",
    "        title     = 'ButtonEditor',\n",
    "        buttons   = [ 'OK' ],\n",
    "        resizable = True)\n",
    " \n",
    "button = ButtonEditor()\n",
    "button.configure_traits()"
   ]
  },
  {
   "cell_type": "code",
   "execution_count": 2,
   "metadata": {},
   "outputs": [
    {
     "name": "stdout",
     "output_type": "stream",
     "text": [
      "computing\n"
     ]
    },
    {
     "data": {
      "text/plain": [
       "<traitsui.ui.UI at 0x140d858d288>"
      ]
     },
     "execution_count": 2,
     "metadata": {},
     "output_type": "execute_result"
    }
   ],
   "source": [
    "from traits.api import HasTraits, Int, Range, Property, property_depends_on\n",
    "from traitsui.api import View, Item, RangeEditor\n",
    " \n",
    "class RangeDemo(HasTraits):\n",
    "    a = Range(1, 10)\n",
    "    b = Range(1, 10)\n",
    "    c = Property(Int)\n",
    "    view = View(\n",
    "        Item('a'),\n",
    "        Item('b'),\n",
    "        '_',\n",
    "        Item('c',editor=RangeEditor(low = 1, high = 20, mode = 'slider')),\n",
    "        Item('c'),\n",
    "        width = 0.3\n",
    "    )\n",
    " \n",
    "    @property_depends_on('a,b', settable = True)\n",
    "    def _get_c(self):\n",
    "        print(\"computing\")\n",
    "        return (self.a + self.b)\n",
    " \n",
    "ran = RangeDemo()\n",
    "ran.edit_traits()"
   ]
  },
  {
   "cell_type": "code",
   "execution_count": 2,
   "metadata": {},
   "outputs": [
    {
     "data": {
      "text/plain": [
       "True"
      ]
     },
     "execution_count": 2,
     "metadata": {},
     "output_type": "execute_result"
    }
   ],
   "source": [
    "from traits.api import HasTraits, Str, Password\n",
    "from traitsui.api import Item, Group, View\n",
    " \n",
    "class TextEditor(HasTraits):\n",
    "    # 定义文本编辑器的变量\n",
    "    string_trait = Str(\"sample string\")\n",
    "    password = Password\n",
    "    # 定义布局\n",
    "    text_str_group = Group(\n",
    "        Item('string_trait', style = 'simple', label= 'Simple'),\n",
    "        Item('_'),\n",
    "        Item('string_trait', style = 'custom', label= 'Custom'),\n",
    "        Item('_'),\n",
    "        Item('password', style = 'simple', label= 'password')\n",
    "        )\n",
    "    # 定义视图\n",
    "    traits_view = View(\n",
    "        text_str_group,\n",
    "        title = 'TextEditor',\n",
    "        buttons = ['OK']\n",
    "        )\n",
    "     \n",
    "text = TextEditor()\n",
    "text.configure_traits()"
   ]
  },
  {
   "cell_type": "code",
   "execution_count": 3,
   "metadata": {},
   "outputs": [],
   "source": [
    "\"\"\"\n",
    "演示TraitsUI的各种编辑器\n",
    "\"\"\"\n",
    " \n",
    "import os\n",
    "from datetime import time\n",
    "from traits.api import *\n",
    "from traitsui.api import *\n",
    " \n",
    "class EditorDemoItem(HasTraits):\n",
    "    \"\"\"界面右半部分,对于选中的某个Trait属性,使用4种样式创建属性编辑器\"\"\"\n",
    "    code = Code()\n",
    "    view = View(\n",
    "        Group(\n",
    "            # 使用simple编辑器,可尽量减少界面占用空间,width属性可指定编辑器宽度,负数表示强制设置宽度\n",
    "            Item(\"item\", style=\"simple\", label=\"simple\", width=-300),\n",
    "            \"_\",  # 下划线字符串表示创建分隔线\n",
    "            # 使用custom编辑器,可尽量呈现更多内容 #\n",
    "            # TODO: Trait,Enum,Range三个函数无法用于custom编辑器,要运行这三个函数需要将其注释\n",
    "            Item(\"item\", style=\"custom\", label=\"custom\"),\n",
    "            \"_\",\n",
    "            # 使用text编辑器,只呈现文本内容\n",
    "            Item(\"item\", style=\"text\", label=\"text\"),\n",
    "            \"_\",\n",
    "            # 使用readonly编辑器,呈现只读文本\n",
    "            Item(\"item\", style=\"readonly\", label=\"readonly\"),\n",
    "        ),\n",
    "    )\n",
    " \n",
    " \n",
    "class EditorDemo(HasTraits):\n",
    "    \"\"\"创建主界面\"\"\"\n",
    "    codes = List(Str)  # 创建List界面,用来展示各种Trait属性的字符串\n",
    "    selected_item = Instance(EditorDemoItem)  # 初始化selected_item界面,用来存储被选项的编辑界面\n",
    "    selected_code = Str  # 初始化selected_code变量,用来存储被选项名称\n",
    "    view = View(\n",
    "        # 使用HSplite水平分隔两个界面\n",
    "        HSplit(\n",
    "            # 界面左半部分,用来创建各种Trait属性的源程序列表\n",
    "            Item(\"codes\", style=\"custom\", show_label=False,\n",
    "                 # 将editor属性设置为ListStrEditor(列表选择框控件),并更新selected_code变量\n",
    "                 editor=ListStrEditor(editable=False, selected=\"selected_code\")),\n",
    "            # 界面右半部分\n",
    "            Item(\"selected_item\", style=\"custom\", show_label=False),\n",
    "        ),\n",
    "        resizable=True,\n",
    "        width=800,\n",
    "        height=400,\n",
    "        title=u\"各种编辑器演示\"\n",
    "    )\n",
    " \n",
    "    def _selected_code_changed(self):\n",
    "        \"\"\"当selected_code变量改变时触发,更新selected_item界面\"\"\"\n",
    "        item = EditorDemoItem(code=self.selected_code)\n",
    "        # 使用eval对selected_code字符串进行求值,并将值存储到item中\n",
    "        item.add_trait(\"item\", eval(str(self.selected_code)))\n",
    "        self.selected_item = item\n",
    " \n",
    " \n",
    "class Employee(HasTraits):\n",
    "    \"\"\"创建Employee类,该类为包含四个属性的界面\"\"\"\n",
    "    name = Unicode(label=u\"姓名\")\n",
    "    department = Unicode(label=u\"部门\")\n",
    "    salary = Int(label=u\"薪水\")\n",
    "    bonus = Int(label=u\"奖金\")\n",
    "    view = View(\"name\", \"department\", \"salary\", \"bonus\")\n",
    " \n",
    " \n",
    "if __name__ == '__main__':\n",
    "    employee = Employee()\n",
    "    demo_list = [u\"低通\", u\"高通\", u\"带通\", u\"带阻\"]\n",
    "    trait_defines = \"\"\"\n",
    "        Array(dtype=\"int32\", shape=(3,3)) #{1}fadsfa\n",
    "        Bool(True)\n",
    "        Button(\"Click me\")\n",
    "        List(editor=CheckListEditor(values=demo_list))\n",
    "        Code(\"print('hello world')\")\n",
    "        Color(\"red\")\n",
    "        RGBColor(\"red\")\n",
    "        Trait(*demo_list) #无法用于custom编辑器\n",
    "        Directory(os.getcwd())\n",
    "        Enum(*demo_list) #无法用于custom编辑器\n",
    "        File()\n",
    "        Font()\n",
    "        HTML('<b><font color=\"red\" size=\"40\">hello world</font></b>')\n",
    "        List(Str, demo_list)\n",
    "        Range(1, 10, 5) #无法用于custom编辑器\n",
    "        List(editor=SetEditor(values=demo_list))\n",
    "        List(demo_list, editor=ListStrEditor())\n",
    "        Str(\"hello\")\n",
    "        Password(\"hello\")\n",
    "        Str(\"Hello\", editor=TitleEditor())\n",
    "        Tuple(Color(\"red\"), Range(1,4), Str(\"hello\"))\n",
    "        Instance(EditorDemoItem, employee)    \n",
    "        Instance(EditorDemoItem, employee, editor=ValueEditor())\n",
    "        Instance(time, time(), editor=TimeEditor())\n",
    "    \"\"\"\n",
    "    demo = EditorDemo()\n",
    "    # 一般写法\n",
    "    trait_list = []\n",
    "    for s in trait_defines.split('\\n'):  # 按行分割字符串\n",
    "        if s.split('#')[0].strip():  # 判断s中是否存在可执行函数\n",
    "            trait_list.append(s.split('#')[0])  # 去掉注释\n",
    "    demo.codes = trait_list\n",
    "    # 简洁写法\n",
    "    # demo.codes = [s.split(\"#\")[0] for s in trait_defines.split(\"\\n\") if s.split('#')[0].strip()]\n",
    "    demo.configure_traits()"
   ]
  },
  {
   "cell_type": "markdown",
   "metadata": {},
   "source": [
    "\n",
    "## TraitsUI与mayavi实例\n"
   ]
  },
  {
   "cell_type": "code",
   "execution_count": 4,
   "metadata": {},
   "outputs": [
    {
     "data": {
      "text/plain": [
       "True"
      ]
     },
     "execution_count": 4,
     "metadata": {},
     "output_type": "execute_result"
    }
   ],
   "source": [
    "from numpy import sqrt, sin, mgrid\n",
    "from traits.api import HasTraits, Instance\n",
    "from traitsui.api import View, Item\n",
    "from tvtk.pyface.scene_editor import SceneEditor\n",
    "from mayavi.tools.mlab_scene_model import MlabSceneModel\n",
    "from mayavi.core.ui.mayavi_scene import MayaviScene\n",
    " \n",
    "class ActorViewer(HasTraits):\n",
    "    # 场景模型\n",
    "    scene = Instance(MlabSceneModel, ())\n",
    "    # 建立视图\n",
    "    view = View(Item(name='scene',\n",
    "                    editor=SceneEditor(scene_class=MayaviScene),\n",
    "                    show_label=False,\n",
    "                    resizable=True,\n",
    "                    height=500,\n",
    "                    width=500),\n",
    "                resizable=True)\n",
    " \n",
    "    def __init__(self, **traits):\n",
    "        HasTraits.__init__(self, **traits)\n",
    "        self.generate_data()\n",
    " \n",
    "    def generate_data(self):\n",
    "        # 建立数据\n",
    "        X, Y = mgrid[-2:2:100j, -2:2:100j]\n",
    "        R = 10*sqrt(X**2 + Y**2)\n",
    "        Z = sin(R)/R\n",
    "        # 绘制数据\n",
    "        self.scene.mlab.surf(X, Y, Z, colormap='cool')\n",
    " \n",
    "a = ActorViewer()\n",
    "a.configure_traits()"
   ]
  },
  {
   "cell_type": "code",
   "execution_count": 5,
   "metadata": {},
   "outputs": [
    {
     "data": {
      "text/plain": [
       "True"
      ]
     },
     "execution_count": 5,
     "metadata": {},
     "output_type": "execute_result"
    }
   ],
   "source": [
    "from traits.api import HasTraits, Range, Instance, on_trait_change\n",
    "from traitsui.api import View, Item, Group\n",
    "from mayavi.core.api import PipelineBase\n",
    "from mayavi.core.ui.api import MayaviScene, SceneEditor, MlabSceneModel\n",
    " \n",
    "from numpy import arange, pi, cos, sin\n",
    "dphi = pi/300.\n",
    "phi = arange(0.0, 2*pi + 0.5*dphi, dphi, 'd')\n",
    "def curve(n_mer, n_long):\n",
    "    mu = phi*n_mer\n",
    "    x = cos(mu) * (1 + cos(n_long * mu/n_mer)*0.5)\n",
    "    y = sin(mu) * (1 + cos(n_long * mu/n_mer)*0.5)\n",
    "    z = 0.5 * sin(n_long*mu/n_mer)\n",
    "    t = sin(mu)\n",
    "    return x, y, z, t\n",
    " \n",
    "class MyModel(HasTraits):\n",
    "    n_meridional    = Range(0, 30, 6)\n",
    "    n_longitudinal  = Range(0, 30, 11)\n",
    "    # 场景模型实例\n",
    "    scene = Instance(MlabSceneModel, ())\n",
    "    # 管线实例\n",
    "    plot = Instance(PipelineBase)\n",
    "    #当场景被激活，或者参数发生改变，更新图形\n",
    "    @on_trait_change('n_meridional,n_longitudinal,scene.activated')\n",
    "    def update_plot(self):\n",
    "        x, y, z, t = curve(self.n_meridional, self.n_longitudinal)\n",
    "        if self.plot is None:#如果plot未绘制则生成plot3d\n",
    "            self.plot = self.scene.mlab.plot3d(x, y, z, t,\n",
    "                        tube_radius=0.025, colormap='Spectral')\n",
    "        else:#如果数据有变化，将数据更新即重新赋值\n",
    "            self.plot.mlab_source.set(x=x, y=y, z=z, scalars=t)\n",
    " \n",
    "    # 建立视图布局\n",
    "    view = View(Item('scene', editor=SceneEditor(scene_class=MayaviScene),\n",
    "                     height=250, width=300, show_label=False),\n",
    "                Group('_', 'n_meridional', 'n_longitudinal'),\n",
    "                resizable=True)\n",
    " \n",
    "model = MyModel()\n",
    "model.configure_traits()"
   ]
  },
  {
   "cell_type": "code",
   "execution_count": null,
   "metadata": {},
   "outputs": [],
   "source": []
  }
 ],
 "metadata": {
  "kernelspec": {
   "display_name": "Python 3",
   "language": "python",
   "name": "python3"
  },
  "language_info": {
   "codemirror_mode": {
    "name": "ipython",
    "version": 3
   },
   "file_extension": ".py",
   "mimetype": "text/x-python",
   "name": "python",
   "nbconvert_exporter": "python",
   "pygments_lexer": "ipython3",
   "version": "3.7.6"
  }
 },
 "nbformat": 4,
 "nbformat_minor": 4
}
