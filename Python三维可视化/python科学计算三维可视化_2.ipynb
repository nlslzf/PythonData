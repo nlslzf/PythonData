{
 "cells": [
  {
   "cell_type": "code",
   "execution_count": 1,
   "metadata": {},
   "outputs": [],
   "source": [
    "from tvtk.api import tvtk\n",
    " \n",
    "def read_data():# 读入数据\n",
    "    plot3d = tvtk.MultiBlockPLOT3DReader(\n",
    "            xyz_file_name=\"tvtk/plot3d_data/combxyz.bin\",#网格文件\n",
    "            q_file_name=\"tvtk/plot3d_data/combq.bin\",#空气动力学结果文件\n",
    "            scalar_function_number=100,#设置标量数据数量\n",
    "            vector_function_number=200#设置矢量数据数量\n",
    "            )\n",
    "    plot3d.update()\n",
    "    return plot3d\n",
    " \n",
    "plot3d = read_data()\n",
    "grid = plot3d.output.get_block(0)"
   ]
  },
  {
   "cell_type": "code",
   "execution_count": 2,
   "metadata": {},
   "outputs": [
    {
     "name": "stdout",
     "output_type": "stream",
     "text": [
      "<class 'tvtk.tvtk_classes.multi_block_data_set.MultiBlockDataSet'>\n"
     ]
    }
   ],
   "source": [
    "print(type(plot3d.output))"
   ]
  },
  {
   "cell_type": "code",
   "execution_count": 3,
   "metadata": {},
   "outputs": [
    {
     "name": "stdout",
     "output_type": "stream",
     "text": [
      "<class 'tvtk.tvtk_classes.structured_grid.StructuredGrid'>\n"
     ]
    }
   ],
   "source": [
    "print(type(plot3d.output.get_block(0)))"
   ]
  },
  {
   "cell_type": "code",
   "execution_count": 4,
   "metadata": {},
   "outputs": [
    {
     "name": "stdout",
     "output_type": "stream",
     "text": [
      "[57 33 25]\n"
     ]
    }
   ],
   "source": [
    "print(grid.dimensions)"
   ]
  },
  {
   "cell_type": "code",
   "execution_count": 5,
   "metadata": {},
   "outputs": [
    {
     "name": "stdout",
     "output_type": "stream",
     "text": [
      "[[ 2.667     -3.77476   23.83292  ]\n",
      " [ 2.943465  -3.7482529 23.66556  ]\n",
      " [ 3.2198582 -3.7217531 23.49824  ]\n",
      " ...\n",
      " [15.84669    5.662141  35.74938  ]\n",
      " [16.178299   5.662141  35.74938  ]\n",
      " [16.51       5.662141  35.74938  ]]\n"
     ]
    }
   ],
   "source": [
    "print(grid.points.to_array())"
   ]
  },
  {
   "cell_type": "code",
   "execution_count": 6,
   "metadata": {},
   "outputs": [
    {
     "name": "stdout",
     "output_type": "stream",
     "text": [
      "4\n"
     ]
    }
   ],
   "source": [
    "print(grid.point_data.number_of_arrays)"
   ]
  },
  {
   "cell_type": "code",
   "execution_count": 7,
   "metadata": {},
   "outputs": [
    {
     "name": "stdout",
     "output_type": "stream",
     "text": [
      "Density\n"
     ]
    }
   ],
   "source": [
    "print(grid.point_data.scalars.name)"
   ]
  },
  {
   "cell_type": "code",
   "execution_count": 8,
   "metadata": {},
   "outputs": [
    {
     "name": "stdout",
     "output_type": "stream",
     "text": [
      "Velocity\n"
     ]
    }
   ],
   "source": [
    "print(grid.point_data.vectors.name)"
   ]
  },
  {
   "cell_type": "markdown",
   "metadata": {},
   "source": [
    "## 标量可视化"
   ]
  },
  {
   "cell_type": "code",
   "execution_count": 2,
   "metadata": {},
   "outputs": [],
   "source": [
    "from tvtk.api import tvtk\n",
    "from tvtkfunc import ivtk_scene, event_loop\n",
    " \n",
    "plot3d = tvtk.MultiBlockPLOT3DReader(\n",
    "        xyz_file_name=\"tvtk/plot3d_data/combxyz.bin\",\n",
    "        q_file_name=\"tvtk/plot3d_data/combq.bin\",\n",
    "        scalar_function_number=100, vector_function_number=200\n",
    "    )#读入Plot3D数据\n",
    "plot3d.update()#让plot3D计算其输出数据\n",
    "grid = plot3d.output.get_block(0)#获取读入的数据集对象\n",
    " \n",
    "con = tvtk.ContourFilter()#创建等值面对象  \n",
    "con.set_input_data(grid)\n",
    "con.generate_values(3, grid.point_data.scalars.range)#指定轮廓数和数据范围\n",
    " \n",
    "#设定映射器的变量范围属性\n",
    "m = tvtk.PolyDataMapper(scalar_range = grid.point_data.scalars.range,\n",
    "                        input_connection=con.output_port)\n",
    "a = tvtk.Actor(mapper = m)\n",
    "a.property.opacity = 0.5#设定透明度为0.5\n",
    "#窗口绘制\n",
    "win = ivtk_scene(a)\n",
    "win.scene.isometric_view()\n",
    "event_loop()"
   ]
  },
  {
   "cell_type": "markdown",
   "metadata": {},
   "source": [
    "## 矢量可视化\n",
    "1. tvtk.Glyph3D() 符号化技术\n",
    "2. tvtk.MaskPoints () 降采样\n",
    "\n"
   ]
  },
  {
   "cell_type": "code",
   "execution_count": 2,
   "metadata": {},
   "outputs": [],
   "source": [
    "from tvtk.api import tvtk\n",
    "from tvtkfunc import ivtk_scene, event_loop\n",
    " \n",
    "#读入PLot3D数据\n",
    "plot3d = tvtk.MultiBlockPLOT3DReader(\n",
    "        xyz_file_name=\"tvtk/plot3d_data/combxyz.bin\",\n",
    "        q_file_name=\"tvtk/plot3d_data/combq.bin\",\n",
    "        scalar_function_number=100, vector_function_number=200\n",
    "    )\n",
    "plot3d.update()\n",
    "grid = plot3d.output.get_block(0)\n",
    " \n",
    "#对数据集中的数据进行随机选取，每50个点选择一个点\n",
    "mask = tvtk.MaskPoints(random_mode=True, on_ratio=50)\n",
    "mask.set_input_data(grid)\n",
    "#创建表示箭头的PolyData数据集\n",
    "# glyph_source = tvtk.ConeSource()\n",
    "glyph_source = tvtk.ArrowSource()\n",
    "#在Mask采样后的PolyData数据集每个点上放置一个箭头\n",
    "#箭头的方向、长度和颜色由于点对应的矢量和标量数据决定\n",
    "glyph = tvtk.Glyph3D(input_connection=mask.output_port,\n",
    "                      scale_factor=2)\n",
    "glyph.set_source_connection(glyph_source.output_port)\n",
    "m = tvtk.PolyDataMapper(scalar_range=grid.point_data.scalars.range,\n",
    "                        input_connection=glyph.output_port)\n",
    "a = tvtk.Actor(mapper=m)\n",
    " \n",
    "#窗口绘制\n",
    "win = ivtk_scene(a)\n",
    "win.scene.isometric_view()\n",
    "event_loop()"
   ]
  },
  {
   "cell_type": "code",
   "execution_count": 3,
   "metadata": {},
   "outputs": [
    {
     "name": "stdout",
     "output_type": "stream",
     "text": [
      "47025\n"
     ]
    }
   ],
   "source": [
    "print(grid.number_of_points)"
   ]
  },
  {
   "cell_type": "code",
   "execution_count": 4,
   "metadata": {},
   "outputs": [],
   "source": [
    "mask.update()"
   ]
  },
  {
   "cell_type": "code",
   "execution_count": 5,
   "metadata": {},
   "outputs": [
    {
     "name": "stdout",
     "output_type": "stream",
     "text": [
      "932\n"
     ]
    }
   ],
   "source": [
    "print(mask.output.number_of_points)"
   ]
  },
  {
   "cell_type": "markdown",
   "metadata": {},
   "source": [
    "## 空间轮廓线可视化\n"
   ]
  },
  {
   "cell_type": "code",
   "execution_count": null,
   "metadata": {},
   "outputs": [],
   "source": [
    "from tvtk.api import tvtk\n",
    "from tvtk.common import configure_input\n",
    "from tvtkfunc import ivtk_scene, event_loop\n",
    " \n",
    "plot3d = tvtk.MultiBlockPLOT3DReader(\n",
    "        xyz_file_name=\"tvtk/plot3d_data/combxyz.bin\",\n",
    "        q_file_name=\"tvtk/plot3d_data/combq.bin\",\n",
    "        scalar_function_number=100, vector_function_number=200\n",
    "    )#读入Plot3D数据\n",
    "plot3d.update()#让plot3D计算其输出数据\n",
    "grid = plot3d.output.get_block(0)#获取读入的数据集对象\n",
    " \n",
    "outline = tvtk.StructuredGridOutlineFilter()#计算表示外边框的PolyData对象\n",
    "configure_input(outline, grid)#调用tvtk.common.configure_input()\n",
    "m = tvtk.PolyDataMapper(input_connection=outline.output_port)\n",
    "a = tvtk.Actor(mapper=m)\n",
    "a.property.color = 0.3, 0.3, 0.3\n",
    " \n",
    "#窗口绘制\n",
    "win = ivtk_scene(a)\n",
    "win.scene.isometric_view()\n",
    "event_loop()"
   ]
  },
  {
   "cell_type": "code",
   "execution_count": null,
   "metadata": {},
   "outputs": [],
   "source": []
  }
 ],
 "metadata": {
  "kernelspec": {
   "display_name": "Python 3",
   "language": "python",
   "name": "python3"
  },
  "language_info": {
   "codemirror_mode": {
    "name": "ipython",
    "version": 3
   },
   "file_extension": ".py",
   "mimetype": "text/x-python",
   "name": "python",
   "nbconvert_exporter": "python",
   "pygments_lexer": "ipython3",
   "version": "3.7.7"
  }
 },
 "nbformat": 4,
 "nbformat_minor": 4
}
