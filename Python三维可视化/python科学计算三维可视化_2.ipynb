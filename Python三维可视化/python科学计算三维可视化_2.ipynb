{
 "cells": [
  {
   "cell_type": "code",
   "execution_count": 2,
   "metadata": {},
   "outputs": [],
   "source": [
    "from tvtk.tools import tvtk_doc\n",
    "tvtk_doc.main()"
   ]
  },
  {
   "cell_type": "code",
   "execution_count": 4,
   "metadata": {},
   "outputs": [
    {
     "name": "stdout",
     "output_type": "stream",
     "text": [
      "vtkCubeSource (0000021FE09B1530)\n",
      "  Debug: Off\n",
      "  Modified Time: 1186979\n",
      "  Reference Count: 2\n",
      "  Registered Events: \n",
      "    Registered Observers:\n",
      "      vtkObserver (0000021FE099D010)\n",
      "        Event: 33\n",
      "        EventName: ModifiedEvent\n",
      "        Command: 0000021FE4AA3960\n",
      "        Priority: 0\n",
      "        Tag: 1\n",
      "  Executive: 0000021FE13619E0\n",
      "  ErrorCode: No error\n",
      "  Information: 0000021FE0EDF4D0\n",
      "  AbortExecute: Off\n",
      "  Progress: 0\n",
      "  Progress Text: (None)\n",
      "  X Length: 1\n",
      "  Y Length: 2\n",
      "  Z Length: 3\n",
      "  Center: (0, 0, 0)\n",
      "  Output Points Precision: 0\n",
      "\n",
      "\n"
     ]
    }
   ],
   "source": [
    "from tvtk.api import tvtk\n",
    "s = tvtk.CubeSource(x_length=1.0,y_length=2.0,z_length=3.0)\n",
    "print(s)"
   ]
  },
  {
   "cell_type": "markdown",
   "metadata": {},
   "source": [
    "[TVTK帮助资源](http://www.vtk.org/doc/nightly/html/annotated.html\n",
    ")  \n",
    "\n",
    "1. TVTK库中的类名去除了前缀vtk\n",
    "2. 函数名按照Python的惯例,采用下划线连接单词\n",
    "  如`AddItem`->`add_item`\n",
    "3. VTK对象的方法在TVTK中用Trait属性替代\n",
    "    1. m.SetInputConnnection(c.GetOutputPort()) #VTK\n",
    "    2. m.input_connection(c.output_port)  #TVTK\n"
   ]
  },
  {
   "cell_type": "code",
   "execution_count": 7,
   "metadata": {},
   "outputs": [
    {
     "data": {
      "text/plain": [
       "2.0"
      ]
     },
     "execution_count": 7,
     "metadata": {},
     "output_type": "execute_result"
    }
   ],
   "source": [
    "s.y_length  ##属性"
   ]
  },
  {
   "cell_type": "code",
   "execution_count": 8,
   "metadata": {},
   "outputs": [
    {
     "data": {
      "text/plain": [
       "array([0., 0., 0.])"
      ]
     },
     "execution_count": 8,
     "metadata": {},
     "output_type": "execute_result"
    }
   ],
   "source": [
    "s.center"
   ]
  },
  {
   "cell_type": "code",
   "execution_count": 9,
   "metadata": {},
   "outputs": [
    {
     "data": {
      "text/plain": [
       "0"
      ]
     },
     "execution_count": 9,
     "metadata": {},
     "output_type": "execute_result"
    }
   ],
   "source": [
    "s.output_points_precision"
   ]
  },
  {
   "cell_type": "markdown",
   "metadata": {},
   "source": [
    "![](http://oss.flameszj.top/img/20200914185221.png)\n",
    "![](http://oss.flameszj.top/img/20200914185236.png)\n",
    "## 创建数据源"
   ]
  },
  {
   "cell_type": "code",
   "execution_count": 10,
   "metadata": {},
   "outputs": [],
   "source": [
    "\n",
    "S = tvtk.ConeSource(height=3.0,radius=1.0,resolution=36)"
   ]
  },
  {
   "cell_type": "code",
   "execution_count": 11,
   "metadata": {},
   "outputs": [
    {
     "data": {
      "text/plain": [
       "1.0"
      ]
     },
     "execution_count": 11,
     "metadata": {},
     "output_type": "execute_result"
    }
   ],
   "source": [
    "S.radius"
   ]
  },
  {
   "cell_type": "code",
   "execution_count": 12,
   "metadata": {},
   "outputs": [
    {
     "data": {
      "text/plain": [
       "36"
      ]
     },
     "execution_count": 12,
     "metadata": {},
     "output_type": "execute_result"
    }
   ],
   "source": [
    "S.resolution"
   ]
  },
  {
   "cell_type": "code",
   "execution_count": 13,
   "metadata": {},
   "outputs": [
    {
     "data": {
      "text/plain": [
       "array([0., 0., 0.])"
      ]
     },
     "execution_count": 13,
     "metadata": {},
     "output_type": "execute_result"
    }
   ],
   "source": [
    "S.center"
   ]
  },
  {
   "cell_type": "code",
   "execution_count": 15,
   "metadata": {},
   "outputs": [
    {
     "name": "stdout",
     "output_type": "stream",
     "text": [
      "vtkConeSource (0000021FE086B790)\n",
      "  Debug: Off\n",
      "  Modified Time: 1187013\n",
      "  Reference Count: 2\n",
      "  Registered Events: \n",
      "    Registered Observers:\n",
      "      vtkObserver (0000021FE0683B10)\n",
      "        Event: 33\n",
      "        EventName: ModifiedEvent\n",
      "        Command: 0000021FE4AA2A20\n",
      "        Priority: 0\n",
      "        Tag: 1\n",
      "  Executive: 0000021FE1362520\n",
      "  ErrorCode: No error\n",
      "  Information: 0000021FE0EE0240\n",
      "  AbortExecute: Off\n",
      "  Progress: 0\n",
      "  Progress Text: (None)\n",
      "  Resolution: 36\n",
      "  Height: 3\n",
      "  Radius: 1\n",
      "  Capping: On\n",
      "  Center: (0, 0, 0)\n",
      "  Direction: (1, 0, 0)\n",
      "  Output Points Precision: 0\n",
      "\n",
      "\n"
     ]
    }
   ],
   "source": [
    "print(S)"
   ]
  },
  {
   "cell_type": "markdown",
   "metadata": {},
   "source": [
    "## 显示数据源"
   ]
  },
  {
   "cell_type": "code",
   "execution_count": 19,
   "metadata": {},
   "outputs": [],
   "source": [
    "from tvtk.api import tvtk\n",
    " \n",
    "# 创建一个长方体数据源，并且同时设置其长宽高\n",
    "s = tvtk.CubeSource(x_length=1.0, y_length=2.0, z_length=3.0)\n",
    "# 使用PolyDataMapper将数据转换为图形数据\n",
    "m = tvtk.PolyDataMapper(input_connection=s.output_port)\n",
    "# 创建一个Actor\n",
    "a = tvtk.Actor(mapper=m)\n",
    "# 创建一个Renderer，将Actor添加进去\n",
    "r = tvtk.Renderer(background=(0, 0, 0))\n",
    "r.add_actor(a)\n",
    "# 创建一个RenderWindow(窗口)，将Renderer添加进去\n",
    "w = tvtk.RenderWindow(size=(300,300))\n",
    "w.add_renderer(r)\n",
    "# 创建一个RenderWindowInteractor（窗口的交互工具)\n",
    "i = tvtk.RenderWindowInteractor(render_window=w)\n",
    "# 开启交互\n",
    "i.initialize()\n",
    "i.start()"
   ]
  },
  {
   "cell_type": "code",
   "execution_count": 20,
   "metadata": {},
   "outputs": [
    {
     "data": {
      "text/plain": [
       "<tvtk.tvtk_classes.algorithm_output.AlgorithmOutput at 0x21fe45df108>"
      ]
     },
     "execution_count": 20,
     "metadata": {},
     "output_type": "execute_result"
    }
   ],
   "source": [
    "s.output_port"
   ]
  },
  {
   "cell_type": "code",
   "execution_count": 21,
   "metadata": {},
   "outputs": [
    {
     "data": {
      "text/plain": [
       "<tvtk.tvtk_classes.algorithm_output.AlgorithmOutput at 0x21fe45df108>"
      ]
     },
     "execution_count": 21,
     "metadata": {},
     "output_type": "execute_result"
    }
   ],
   "source": [
    "m.input_connection"
   ]
  },
  {
   "cell_type": "markdown",
   "metadata": {},
   "source": [
    "## 理解TVTK的管线\n",
    "1. 可视化管线(Visualization Pipeline):将原始数据加工成图形数据的过程。\n",
    "2. 图形管线(Graphics Pipeline):图形数据加工为我们所看到的图像的过程。\n",
    "![](http://oss.flameszj.top/img/20200914190450.png)\n",
    "![](http://oss.flameszj.top/img/20200914190717.png)"
   ]
  },
  {
   "cell_type": "code",
   "execution_count": 22,
   "metadata": {},
   "outputs": [],
   "source": [
    "from tvtk.api import tvtk\n",
    "from tvtk.tools import ivtk\n",
    "from pyface.api import GUI\n",
    " \n",
    "s = tvtk.CubeSource(x_length=1.0, y_length=2.0, z_length=3.0)\n",
    "m = tvtk.PolyDataMapper(input_connection=s.output_port)\n",
    "a = tvtk.Actor(mapper=m)\n",
    " \n",
    "#创建一个带Crust（Python Shell）的窗口\n",
    "gui = GUI()\n",
    "win = ivtk.IVTKWithCrustAndBrowser()\n",
    "win.open()\n",
    "win.scene.add_actor(a)\n",
    " \n",
    "#开始界面消息循环\n",
    "gui.start_event_loop()"
   ]
  },
  {
   "cell_type": "code",
   "execution_count": 25,
   "metadata": {},
   "outputs": [],
   "source": [
    "from tvtk.api import tvtk\n",
    "from tvtk.tools import ivtk\n",
    "from pyface.api import GUI\n",
    " \n",
    "s = tvtk.CubeSource(x_length=1.0, y_length=2.0, z_length=3.0)\n",
    "m = tvtk.PolyDataMapper(input_connection=s.output_port)\n",
    "a = tvtk.Actor(mapper=m)\n",
    " \n",
    "#创建一个带Crust（Python Shell）的窗口\n",
    "gui = GUI()\n",
    "win = ivtk.IVTKWithCrustAndBrowser()\n",
    "win.open()\n",
    "win.scene.add_actor(a)\n",
    "     \n",
    "#修正窗口错误\n",
    "dialog = win.control.centralWidget().widget(0).widget(0)\n",
    "from pyface.qt import QtCore\n",
    "dialog.setWindowFlags(QtCore.Qt.WindowFlags(0x00000000))\n",
    "dialog.show()\n",
    " \n",
    "gui.start_event_loop()"
   ]
  },
  {
   "cell_type": "code",
   "execution_count": null,
   "metadata": {
    "jupyter": {
     "source_hidden": true
    }
   },
   "outputs": [],
   "source": [
    "from tvtk.api import tvtk\n",
    " \n",
    "def ivtk_scene(actors):\n",
    "    from tvtk.tools import ivtk\n",
    "    #创建一个带Crust（Python Shell）的窗口\n",
    "    win = ivtk.IVTKWithCrustAndBrowser()\n",
    "    win.open()\n",
    "    win.scene.add_actor(actors)\n",
    "    #修正窗口错误\n",
    "    dialog = win.control.centralWidget().widget(0).widget(0)\n",
    "    from pyface.qt import QtCore\n",
    "    dialog.setWindowFlags(QtCore.Qt.WindowFlags(0x00000000))\n",
    "    dialog.show()\n",
    "    return win\n",
    " \n",
    "def event_loop():\n",
    "    from pyface.api import GUI\n",
    "    gui = GUI()\n",
    "    gui.start_event_loop()\n",
    " \n",
    "s = tvtk.CubeSource(x_length=1.0, y_length=2.0, z_length=3.0)\n",
    "m = tvtk.PolyDataMapper(input_connection=s.output_port)\n",
    "a = tvtk.Actor(mapper=m)\n",
    "win = ivtk_scene(a)\n",
    "win.scene.isometric_view()\n",
    "event_loop()"
   ]
  },
  {
   "cell_type": "markdown",
   "metadata": {},
   "source": [
    "## 数据集\n",
    "1. ImageData表示二维或三维图像的数据结构。\n",
    "2. RectilinearGrid:间距不均匀的网格,所有点都在正交的网格上。\n",
    "3. StructuredGrid:创建任意形状的网格,需要指定点的坐标。\n",
    "4. PolyData:由一系列的点、点之间的联系以及由点构成的多边形组成。\n",
    "\n",
    "![](http://oss.flameszj.top/img/20200914193248.png)"
   ]
  },
  {
   "cell_type": "code",
   "execution_count": 28,
   "metadata": {},
   "outputs": [
    {
     "data": {
      "text/plain": [
       "(1.0, 2.0, 3.0)"
      ]
     },
     "execution_count": 28,
     "metadata": {},
     "output_type": "execute_result"
    }
   ],
   "source": [
    "from tvtk.api import tvtk\n",
    "img = tvtk.ImageData(spacing=(1,1,1),origin=(1,2,3),dimensions=(3,4,5))\n",
    "img.get_point(0)"
   ]
  },
  {
   "cell_type": "code",
   "execution_count": 29,
   "metadata": {},
   "outputs": [
    {
     "name": "stdout",
     "output_type": "stream",
     "text": [
      "1.0,2.0,3.0\n",
      "2.0,2.0,3.0\n",
      "1.0,3.0,3.0\n",
      "2.0,3.0,3.0\n",
      "1.0,4.0,3.0\n",
      "2.0,4.0,3.0\n"
     ]
    }
   ],
   "source": [
    "for n in range(6):\n",
    "    print('%.1f,%.1f,%.1f'%img.get_point(n))"
   ]
  },
  {
   "cell_type": "code",
   "execution_count": 30,
   "metadata": {},
   "outputs": [],
   "source": [
    "from tvtk.api import tvtk\n",
    "import numpy as np\n",
    " \n",
    "x = np.array([0,3,9,15])\n",
    "y = np.array([0,1,5])\n",
    "z = np.array([0,2,3])\n",
    "r = tvtk.RectilinearGrid()\n",
    "r.x_coordinates = x\n",
    "r.y_coordinates = y\n",
    "r.z_coordinates = z\n",
    "r.dimensions = len(x),len(y),len(z)"
   ]
  },
  {
   "cell_type": "code",
   "execution_count": 31,
   "metadata": {},
   "outputs": [
    {
     "name": "stdout",
     "output_type": "stream",
     "text": [
      "0.0,0.0,0.0\n",
      "3.0,0.0,0.0\n",
      "9.0,0.0,0.0\n",
      "15.0,0.0,0.0\n",
      "0.0,1.0,0.0\n",
      "3.0,1.0,0.0\n"
     ]
    }
   ],
   "source": [
    "for n in range(6):\n",
    "    print('%.1f,%.1f,%.1f'%r.get_point(n))"
   ]
  },
  {
   "cell_type": "markdown",
   "metadata": {},
   "source": [
    "##  TVTK数据加载\n",
    "![](http://oss.flameszj.top/img/20200914193614.png)\n",
    "![](http://oss.flameszj.top/img/20200914193633.png)\n"
   ]
  },
  {
   "cell_type": "markdown",
   "metadata": {},
   "source": [
    "### tvtk模型读取"
   ]
  },
  {
   "cell_type": "code",
   "execution_count": 33,
   "metadata": {},
   "outputs": [],
   "source": [
    "from tvtk.api import tvtk\n",
    "from tvtkfunc import ivtk_scene,event_loop ## 需要外部tvtkfunc.py文件\n",
    " \n",
    "s = tvtk.STLReader(file_name = \"temp/tvtk/python.stl\")\n",
    "m = tvtk.PolyDataMapper(input_connection = s.output_port)\n",
    "a = tvtk.Actor(mapper = m)\n",
    " \n",
    "win = ivtk_scene(a)\n",
    "win.scene.isometric_view()\n",
    "event_loop()"
   ]
  },
  {
   "cell_type": "markdown",
   "metadata": {},
   "source": [
    "### MultiBlock模型读取"
   ]
  },
  {
   "cell_type": "code",
   "execution_count": 35,
   "metadata": {},
   "outputs": [],
   "source": [
    "from tvtk.api import tvtk\n",
    " \n",
    "def read_data():# 读入数据\n",
    "    plot3d = tvtk.MultiBlockPLOT3DReader(\n",
    "            xyz_file_name=\"temp/tvtk/plot3d_data/combxyz.bin\",#网格文件\n",
    "            q_file_name=\"temp/tvtk/plot3d_data/combq.bin\",#空气动力学结果文件\n",
    "            scalar_function_number=100,#设置标量数据数量\n",
    "            vector_function_number=200#设置矢量数据数量\n",
    "            )\n",
    "    plot3d.update()\n",
    "    return plot3d\n",
    " \n",
    "plot3d = read_data()\n",
    "grid = plot3d.output.get_block(0)"
   ]
  },
  {
   "cell_type": "code",
   "execution_count": 38,
   "metadata": {},
   "outputs": [
    {
     "name": "stdout",
     "output_type": "stream",
     "text": [
      "<class 'tvtk.tvtk_classes.multi_block_data_set.MultiBlockDataSet'>\n"
     ]
    }
   ],
   "source": [
    "print(type(plot3d.output))"
   ]
  },
  {
   "cell_type": "code",
   "execution_count": 39,
   "metadata": {},
   "outputs": [
    {
     "name": "stdout",
     "output_type": "stream",
     "text": [
      "<class 'tvtk.tvtk_classes.structured_grid.StructuredGrid'>\n"
     ]
    }
   ],
   "source": [
    "print(type(plot3d.output.get_block(0)))"
   ]
  },
  {
   "cell_type": "code",
   "execution_count": 40,
   "metadata": {},
   "outputs": [
    {
     "name": "stdout",
     "output_type": "stream",
     "text": [
      "[57 33 25]\n"
     ]
    }
   ],
   "source": [
    "print(grid.dimensions)"
   ]
  },
  {
   "cell_type": "code",
   "execution_count": 41,
   "metadata": {},
   "outputs": [
    {
     "name": "stdout",
     "output_type": "stream",
     "text": [
      "[[ 2.667     -3.77476   23.83292  ]\n",
      " [ 2.943465  -3.7482529 23.66556  ]\n",
      " [ 3.2198582 -3.7217531 23.49824  ]\n",
      " ...\n",
      " [15.84669    5.662141  35.74938  ]\n",
      " [16.178299   5.662141  35.74938  ]\n",
      " [16.51       5.662141  35.74938  ]]\n"
     ]
    }
   ],
   "source": [
    "print(grid.points.to_array())"
   ]
  },
  {
   "cell_type": "code",
   "execution_count": 42,
   "metadata": {},
   "outputs": [
    {
     "name": "stdout",
     "output_type": "stream",
     "text": [
      "0\n"
     ]
    }
   ],
   "source": [
    "print(grid.cell_data.number_of_arrays)"
   ]
  },
  {
   "cell_type": "code",
   "execution_count": 43,
   "metadata": {},
   "outputs": [
    {
     "name": "stdout",
     "output_type": "stream",
     "text": [
      "4\n"
     ]
    }
   ],
   "source": [
    "print(grid.point_data.number_of_arrays)"
   ]
  },
  {
   "cell_type": "code",
   "execution_count": 44,
   "metadata": {},
   "outputs": [
    {
     "name": "stdout",
     "output_type": "stream",
     "text": [
      "Density\n"
     ]
    }
   ],
   "source": [
    "print(grid.point_data.scalars.name)"
   ]
  },
  {
   "cell_type": "code",
   "execution_count": 46,
   "metadata": {},
   "outputs": [
    {
     "name": "stdout",
     "output_type": "stream",
     "text": [
      "Velocity\n"
     ]
    }
   ],
   "source": [
    "print(grid.point_data.vectors.name)"
   ]
  },
  {
   "cell_type": "code",
   "execution_count": null,
   "metadata": {},
   "outputs": [],
   "source": []
  }
 ],
 "metadata": {
  "kernelspec": {
   "display_name": "Python 3",
   "language": "python",
   "name": "python3"
  },
  "language_info": {
   "codemirror_mode": {
    "name": "ipython",
    "version": 3
   },
   "file_extension": ".py",
   "mimetype": "text/x-python",
   "name": "python",
   "nbconvert_exporter": "python",
   "pygments_lexer": "ipython3",
   "version": "3.7.7"
  },
  "toc-autonumbering": true,
  "toc-showcode": false,
  "toc-showmarkdowntxt": true,
  "toc-showtags": false
 },
 "nbformat": 4,
 "nbformat_minor": 4
}
