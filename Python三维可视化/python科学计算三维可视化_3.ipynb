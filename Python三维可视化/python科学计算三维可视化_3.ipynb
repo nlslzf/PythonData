{
 "cells": [
  {
   "cell_type": "code",
   "execution_count": 1,
   "metadata": {},
   "outputs": [],
   "source": [
    "from mayavi import mlab"
   ]
  },
  {
   "cell_type": "markdown",
   "metadata": {},
   "source": [
    "![](http://oss.flameszj.top/img/20200914212424.png)\n",
    "![](http://oss.flameszj.top/img/20200914212446.png)"
   ]
  },
  {
   "cell_type": "code",
   "execution_count": 4,
   "metadata": {},
   "outputs": [],
   "source": [
    "from numpy import pi, sin, cos, mgrid\n",
    "from mayavi import mlab\n",
    " \n",
    "#建立数据\n",
    "dphi, dtheta = pi/250.0, pi/250.0\n",
    "[phi,theta] = mgrid[0:pi+dphi*1.5:dphi,0:2*pi+dtheta*1.5:dtheta]\n",
    "m0 = 4; m1 = 3; m2 = 2; m3 = 3; m4 = 6; m5 = 2; m6 = 6; m7 = 4;\n",
    "r = sin(m0*phi)**m1 + cos(m2*phi)**m3 + sin(m4*theta)**m5 + cos(m6*theta)**m7\n",
    "x = r*sin(phi)*cos(theta)\n",
    "y = r*cos(phi)\n",
    "z = r*sin(phi)*sin(theta)\n",
    " \n",
    "#对该数据进行三维可视化\n",
    "s = mlab.mesh(x, y, z,representation='wireframe',line_width=1.0)\n",
    "mlab.show()"
   ]
  },
  {
   "cell_type": "code",
   "execution_count": 4,
   "metadata": {},
   "outputs": [
    {
     "name": "stdout",
     "output_type": "stream",
     "text": [
      "<mayavi.modules.surface.Surface object at 0x000001AEC92D91C8>\n"
     ]
    }
   ],
   "source": [
    "x = [[-1,1,1,-1,-1],[-1,1,1,-1,-1]]\n",
    "y = [[-1,-1,-1,-1,-1],[1,1,1,1,1]]\n",
    "z = [[1,1,-1,-1,1],[1,1,-1,-1,1]]\n",
    "from mayavi import mlab\n",
    "s = mlab.mesh(x,y,z)\n",
    "print(s)\n",
    "#mlab.show()"
   ]
  },
  {
   "cell_type": "code",
   "execution_count": null,
   "metadata": {},
   "outputs": [],
   "source": []
  },
  {
   "cell_type": "markdown",
   "metadata": {},
   "source": [
    "## mayavi 管线"
   ]
  },
  {
   "cell_type": "markdown",
   "metadata": {},
   "source": [
    "1. Engine:建立和销毁Scenes\n",
    "2. Scenes:多个数据集合Sources\n",
    "3. Filters:对数据进行变换\n",
    "4. Module Manager:控制颜色,Colors and Legends\n",
    "5. Modules:最终数据的表示,如线条、平面等\n"
   ]
  },
  {
   "cell_type": "code",
   "execution_count": 2,
   "metadata": {},
   "outputs": [],
   "source": [
    "from mayavi import mlab\n",
    "s = mlab.gcf()"
   ]
  },
  {
   "cell_type": "markdown",
   "metadata": {},
   "source": [
    "# mlab 基础"
   ]
  },
  {
   "cell_type": "markdown",
   "metadata": {},
   "source": [
    "## 基于Numpy数组的绘图函数\n",
    "mlab对Numpy建立可视化过程:\n",
    "1. 建立数据源\n",
    "2. 使用Filter(可选)\n",
    "3. 添加可视化模块\n",
    "\n"
   ]
  },
  {
   "cell_type": "markdown",
   "metadata": {},
   "source": [
    "### 0维和一维数据的可视化"
   ]
  },
  {
   "cell_type": "code",
   "execution_count": 1,
   "metadata": {},
   "outputs": [],
   "source": [
    "import numpy as np\n",
    "from mayavi import mlab\n",
    "\n",
    "#建立数据\n",
    "t = np.linspace(0,4*np.pi,20)\n",
    "x = np.sin(2*t)\n",
    "y = np.cos(t)\n",
    "z = np.cos(2*t)\n",
    "s = 2+np.sin(t)\n",
    "\n",
    "points = mlab.points3d(x,y,z,s,colormap='Reds',scale_factor=0.25)\n",
    "mlab.show()"
   ]
  },
  {
   "cell_type": "code",
   "execution_count": 2,
   "metadata": {},
   "outputs": [],
   "source": [
    "import numpy as np\n",
    "from mayavi import mlab\n",
    "\n",
    "n_mer,n_long=6,11\n",
    "dphi = np.pi/1000.0\n",
    "phi = np.arange(0.0,2*np.pi+0.5*dphi,dphi)\n",
    "mu = phi*n_mer\n",
    "x = np.cos(mu)*(1+np.cos(n_long*mu/n_mer)*0.5)\n",
    "y = np.sin(mu)*(1+np.cos(n_long*mu/n_mer)*0.5)\n",
    "z = np.sin(n_long*mu/n_mer)*0.5\n",
    "\n",
    "l = mlab.plot3d(x,y,z,np.sin(mu),tube_radius=0.025,colormap='Spectral')\n",
    "mlab.show()"
   ]
  },
  {
   "cell_type": "markdown",
   "metadata": {},
   "source": [
    "### 2D数据的可视化\n",
    "![](http://oss.flameszj.top/img/20200914223313.png)"
   ]
  },
  {
   "cell_type": "code",
   "execution_count": 6,
   "metadata": {},
   "outputs": [],
   "source": [
    "import numpy as np\n",
    "from mayavi import mlab\n",
    "s = np.random.random((10,10))\n",
    "img = mlab.imshow(s,colormap='gist_earth')\n",
    "mlab.show()"
   ]
  },
  {
   "cell_type": "code",
   "execution_count": 8,
   "metadata": {},
   "outputs": [],
   "source": [
    "import numpy as np\n",
    "from mayavi import mlab\n",
    " \n",
    "def f(x, y):\n",
    "    return np.sin(x - y)+np.cos(x + y)\n",
    " \n",
    "x, y = np.mgrid[-7.:7.05:0.1, -5.:5.05:0.05]\n",
    "s = mlab.surf(x, y, f)\n",
    "mlab.show()"
   ]
  },
  {
   "cell_type": "code",
   "execution_count": 9,
   "metadata": {},
   "outputs": [],
   "source": [
    "import numpy as np\n",
    "from mayavi import mlab\n",
    " \n",
    "def f(x, y):\n",
    "    return np.sin(x - y)+np.cos(x + y)\n",
    " \n",
    "x, y = np.mgrid[-7.:7.05:0.1, -5.:5.05:0.05]\n",
    "con_s = mlab.contour_surf(x, y, f)\n",
    "mlab.show()"
   ]
  },
  {
   "cell_type": "markdown",
   "metadata": {},
   "source": [
    "### 三维数据\n",
    "![](http://oss.flameszj.top/img/20200914223950.png)"
   ]
  },
  {
   "cell_type": "code",
   "execution_count": 10,
   "metadata": {},
   "outputs": [],
   "source": [
    "import numpy\n",
    "from mayavi import mlab\n",
    " \n",
    "x, y, z = numpy.ogrid[-5:5:64j, -5:5:64j, -5:5:64j]\n",
    "scalars = x * x + y * y + z * z\n",
    "obj = mlab.contour3d(scalars, contours=8, transparent=True)\n",
    "mlab.show()"
   ]
  },
  {
   "cell_type": "code",
   "execution_count": 11,
   "metadata": {},
   "outputs": [],
   "source": [
    "import numpy as np\n",
    "from mayavi import mlab\n",
    " \n",
    "x, y, z = np.mgrid[-2:3, -2:3, -2:3]\n",
    "r = np.sqrt(x ** 2 + y ** 2 + z ** 4)\n",
    "u = y * np.sin(r)/(r + 0.001)\n",
    "v = -x * np.sin(r)/(r+0.001)\n",
    "w = np.zeros_like(z)\n",
    " \n",
    "obj = mlab.quiver3d(x, y, z, u, v, w, line_width=3, scale_factor=1)\n",
    "mlab.show()"
   ]
  },
  {
   "cell_type": "markdown",
   "metadata": {},
   "source": [
    "## 改变物体的外观"
   ]
  },
  {
   "cell_type": "code",
   "execution_count": 3,
   "metadata": {},
   "outputs": [],
   "source": [
    "import numpy as np\n",
    "from mayavi import mlab\n",
    "#建立数据\n",
    "x, y = np.mgrid[-10:10:200j, -10:10:200j]\n",
    "z = 100 * np.sin(x * y) / (x * y)\n",
    "# 对数据进行可视化\n",
    "mlab.figure(bgcolor=(1, 1, 1))\n",
    "surf = mlab.surf(z, colormap='cool')\n",
    "lut = surf.module_manager.scalar_lut_manager.lut.table.to_array()\n",
    "lut[:,-1] = np.linspace(0,255,256)\n",
    "surf.module_manager.scalar_lut_manager.lut.table = lut\n",
    "# 更新视图并显示出来\n",
    "mlab.show()"
   ]
  },
  {
   "cell_type": "markdown",
   "metadata": {},
   "source": [
    "## mlab控制函数\n",
    "![](http://oss.flameszj.top/img/20200915000247.png)\n",
    "![](http://oss.flameszj.top/img/20200915000258.png)\n",
    "![](http://oss.flameszj.top/img/20200915000308.png)\n",
    "![](http://oss.flameszj.top/img/20200915000320.png)\n"
   ]
  },
  {
   "cell_type": "markdown",
   "metadata": {},
   "source": [
    "## 鼠标选取操作"
   ]
  },
  {
   "cell_type": "markdown",
   "metadata": {},
   "source": [
    "![](http://oss.flameszj.top/img/20200915000426.png)"
   ]
  },
  {
   "cell_type": "code",
   "execution_count": 3,
   "metadata": {},
   "outputs": [],
   "source": [
    "import numpy as np\n",
    "from mayavi import mlab\n",
    " \n",
    "######场景初始化######\n",
    "figure = mlab.gcf()\n",
    " \n",
    "figure.scene.disable_render = True    \n",
    "# 用mlab.points3d建立红色和白色小球的集合\n",
    "x1, y1, z1 = np.random.random((3, 10))\n",
    "red_glyphs = mlab.points3d(x1, y1, z1, color=(1, 0, 0),\n",
    "                           resolution=10)\n",
    "x2, y2, z2 = np.random.random((3, 10))\n",
    "white_glyphs = mlab.points3d(x2, y2, z2, color=(0.9, 0.9, 0.9),\n",
    "                             resolution=10)\n",
    "\n",
    "figure.scene.disable_render = False \n",
    "# 绘制选取框，并放在第一个小球上\n",
    "outline = mlab.outline(line_width=3)\n",
    "outline.outline_mode = 'cornered'\n",
    "outline.bounds = (x1[0] - 0.1, x1[0] + 0.1,\n",
    "                  y1[0] - 0.1, y1[0] + 0.1,\n",
    "                  z1[0] - 0.1, z1[0] + 0.1)\n",
    "\n",
    "   \n",
    "######处理选取事件#####\n",
    "# 获取构成一个红色小球的顶点列表\n",
    "glyph_points = red_glyphs.glyph.glyph_source.glyph_source.output.points.to_array()\n",
    "#当选取事件发生时调用此函数\n",
    "def picker_callback(picker):\n",
    "    if picker.actor in red_glyphs.actor.actors:\n",
    "        # 计算哪个小球被选取\n",
    "        point_id = int(picker.point_id / glyph_points.shape[0])  # int向下取整        \n",
    "        if point_id != -1:#如果没有小球被选取，则point_id = -1\n",
    "            # 找到与此红色小球相关的坐标\n",
    "            x, y, z = x1[point_id], y1[point_id], z1[point_id]\n",
    "            # 将外框移到小球上\n",
    "            outline.bounds = (x - 0.1, x + 0.1,\n",
    "                              y - 0.1, y + 0.1,\n",
    "                              z - 0.1, z + 0.1)\n",
    " \n",
    "picker = figure.on_mouse_pick(picker_callback)\n",
    "picker.tolerance = 0.01 \n",
    "mlab.title('Click on red balls')\n",
    "mlab.show()"
   ]
  },
  {
   "cell_type": "markdown",
   "metadata": {},
   "source": [
    "## mlab管线控制函数"
   ]
  },
  {
   "cell_type": "markdown",
   "metadata": {},
   "source": [
    "## 示例：标量数据可视化"
   ]
  },
  {
   "cell_type": "code",
   "execution_count": 6,
   "metadata": {},
   "outputs": [],
   "source": [
    "import numpy as np\n",
    "x, y, z = np.ogrid[-10:10:20j, -10:10:20j, -10:10:20j]\n",
    "s = np.sin(x*y*z)/(x*y*z)\n",
    " \n",
    "from mayavi import mlab\n",
    "from mayavi.tools import pipeline\n",
    "src = mlab.pipeline.scalar_field(s)\n",
    "mlab.pipeline.iso_surface(src, contours=[s.min()+0.1*s.ptp(), ], opacity=0.1)\n",
    "mlab.pipeline.iso_surface(src, contours=[s.max()-0.1*s.ptp(), ])\n",
    "mlab.pipeline.image_plane_widget(src,\n",
    "                            plane_orientation='z_axes',\n",
    "                            slice_index=10,\n",
    "                        )\n",
    "mlab.outline()\n",
    "mlab.show()"
   ]
  },
  {
   "cell_type": "markdown",
   "metadata": {},
   "source": [
    "## 示例：矢量数据可视化"
   ]
  },
  {
   "cell_type": "code",
   "execution_count": 7,
   "metadata": {},
   "outputs": [],
   "source": [
    "import numpy as np\n",
    "x, y, z = np.mgrid[0:1:20j, 0:1:20j, 0:1:20j]\n",
    "u =    np.sin(np.pi*x) * np.cos(np.pi*z)\n",
    "v = -2*np.sin(np.pi*y) * np.cos(2*np.pi*z)\n",
    "w = np.cos(np.pi*x)*np.sin(np.pi*z) + np.cos(np.pi*y)*np.sin(2*np.pi*z)\n",
    " \n",
    "from mayavi import mlab\n",
    "mlab.quiver3d(u,v,w)\n",
    "mlab.outline()\n",
    " \n",
    "mlab.show()"
   ]
  },
  {
   "cell_type": "code",
   "execution_count": 9,
   "metadata": {},
   "outputs": [],
   "source": [
    "import numpy as np\n",
    "x, y, z = np.mgrid[0:1:20j, 0:1:20j, 0:1:20j]\n",
    "u =    np.sin(np.pi*x) * np.cos(np.pi*z)\n",
    "v = -2*np.sin(np.pi*y) * np.cos(2*np.pi*z)\n",
    "w = np.cos(np.pi*x)*np.sin(np.pi*z) + np.cos(np.pi*y)*np.sin(2*np.pi*z)\n",
    " \n",
    "from mayavi import mlab\n",
    "src = mlab.pipeline.vector_field(u,v,w)\n",
    "mlab.pipeline.vectors(src,mask_points=10,scale_factor=2.0)\n",
    "\n",
    "mlab.show()"
   ]
  },
  {
   "cell_type": "code",
   "execution_count": 12,
   "metadata": {},
   "outputs": [],
   "source": [
    "import numpy as np\n",
    "x, y, z = np.mgrid[0:1:20j, 0:1:20j, 0:1:20j]\n",
    "u =    np.sin(np.pi*x) * np.cos(np.pi*z)\n",
    "v = -2*np.sin(np.pi*y) * np.cos(2*np.pi*z)\n",
    "w = np.cos(np.pi*x)*np.sin(np.pi*z) + np.cos(np.pi*y)*np.sin(2*np.pi*z)\n",
    " \n",
    "from mayavi import mlab\n",
    "src = mlab.pipeline.vector_field(u,v,w)\n",
    "mlab.pipeline.vector_cut_plane(src,mask_points=2,scale_factor=2.0)\n",
    "\n",
    "mlab.show()"
   ]
  },
  {
   "cell_type": "code",
   "execution_count": 13,
   "metadata": {},
   "outputs": [],
   "source": [
    "# 级数的等级面\n",
    "import numpy as np\n",
    "x, y, z = np.mgrid[0:1:20j, 0:1:20j, 0:1:20j]\n",
    "u =    np.sin(np.pi*x) * np.cos(np.pi*z)\n",
    "v = -2*np.sin(np.pi*y) * np.cos(2*np.pi*z)\n",
    "w = np.cos(np.pi*x)*np.sin(np.pi*z) + np.cos(np.pi*y)*np.sin(2*np.pi*z)\n",
    " \n",
    "from mayavi import mlab\n",
    "src = mlab.pipeline.vector_field(u,v,w)\n",
    "magnitude = mlab.pipeline.extract_vector_norm(src)\n",
    "mlab.pipeline.iso_surface(magnitude,contours=[2.0,0.5])\n",
    "mlab.outline()\n",
    "mlab.show()"
   ]
  },
  {
   "cell_type": "code",
   "execution_count": 16,
   "metadata": {},
   "outputs": [],
   "source": [
    "# Flow可视化\n",
    "import numpy as np\n",
    "x, y, z = np.mgrid[0:1:20j, 0:1:20j, 0:1:20j]\n",
    "u =    np.sin(np.pi*x) * np.cos(np.pi*z)\n",
    "v = -2*np.sin(np.pi*y) * np.cos(2*np.pi*z)\n",
    "w = np.cos(np.pi*x)*np.sin(np.pi*z) + np.cos(np.pi*y)*np.sin(2*np.pi*z)\n",
    "\n",
    "from mayavi import mlab\n",
    "flow =  mlab.flow(u,v,w,seed_scale=1,\n",
    "                  seed_resolution=5,integration_direction='both')\n",
    "mlab.outline()\n",
    "mlab.show()"
   ]
  },
  {
   "cell_type": "markdown",
   "metadata": {},
   "source": [
    "## mayavi可视化示例"
   ]
  },
  {
   "cell_type": "code",
   "execution_count": 20,
   "metadata": {},
   "outputs": [],
   "source": [
    "## 龙可视化\n",
    "from mayavi import mlab\n",
    "from os.path import join\n",
    "import tarfile\n",
    "  \n",
    "#读取tar压缩文件\n",
    "dragon_tar_file = tarfile.open('dragon.tar.gz')\n",
    "try:\n",
    "    os.mkdir('dragon_data')\n",
    "except:\n",
    "    pass\n",
    "dragon_tar_file.extractall('dragon_data')\n",
    "dragon_tar_file.close()\n",
    "dragon_ply_file = join('dragon_data', 'dragon_recon', 'dragon_vrip.ply')\n",
    "   \n",
    "# 渲染dragon ply文件\n",
    "mlab.pipeline.surface(mlab.pipeline.open(dragon_ply_file))\n",
    "mlab.show()\n",
    "  \n",
    "#删除解压的文件夹\n",
    "import shutil\n",
    "shutil.rmtree('dragon_data')"
   ]
  },
  {
   "cell_type": "code",
   "execution_count": 21,
   "metadata": {},
   "outputs": [
    {
     "name": "stderr",
     "output_type": "stream",
     "text": [
      "c:\\users\\18245\\miniconda3\\lib\\site-packages\\ipykernel_launcher.py:8: DeprecationWarning: The binary mode of fromstring is deprecated, as it behaves surprisingly on unicode inputs. Use frombuffer instead\n",
      "  \n"
     ]
    }
   ],
   "source": [
    "## 地形可视化\n",
    "import zipfile\n",
    "import numpy as np\n",
    "from mayavi import mlab\n",
    "  \n",
    "#读取压缩文件\n",
    "hgt = zipfile.ZipFile('N36W113.hgt.zip').read('N36W113.hgt')\n",
    "data = np.fromstring(hgt,'>i2')\n",
    "data.shape = (3601, 3601)\n",
    "data = data.astype(np.float32)\n",
    "data = data[:1000, 900:1900]\n",
    "data[data == -32768] = data[data > 0].min()\n",
    "  \n",
    "#渲染地形hgt的数据data\n",
    "mlab.figure(size=(400, 320), bgcolor=(0.16, 0.28, 0.46))\n",
    "mlab.surf(data, colormap='gist_earth', warp_scale=0.2,\n",
    "            vmin=1200, vmax=1610)\n",
    "  \n",
    "#清空内存\n",
    "del data\n",
    "#创建交互式的可视化窗口\n",
    "mlab.view(-5.9, 83, 570, [5.3, 20, 238])\n",
    "mlab.show()"
   ]
  },
  {
   "cell_type": "code",
   "execution_count": 22,
   "metadata": {},
   "outputs": [],
   "source": [
    "# 城市经纬度数据\n",
    "cities_data = \"\"\"\n",
    "Bei Jing, 116.23,39.54\n",
    "Shang Hai, 121.52, 30.91\n",
    "Hong Kong,114.19,22.38\n",
    "Delhi,77.21,28.67\n",
    "Johannesburg,28.04,-26.19\n",
    "Doha,51.53,25.29\n",
    "Sao Paulo,-46.63,-23.53\n",
    "Toronto,-79.38,43.65\n",
    "New York,-73.94,40.67\n",
    "San Francisco,-122.45,37.77\n",
    "Dubai,55.33,25.27\n",
    "Sydney,151.21,-33.87\n",
    "\"\"\"\n",
    "########## 读取数据#########\n",
    "# 建立城市-城索引的字典、城市经纬度的列表\n",
    "import csv\n",
    "cities = dict()\n",
    "coords = list()\n",
    "for line in list(csv.reader(cities_data.split('\\n')))[1:-1]:\n",
    "    name, long_, lat = line\n",
    "    cities[name] = len(coords)\n",
    "    coords.append((float(long_), float(lat)))\n",
    "  \n",
    "########## 坐标转换##########\n",
    "# 将经纬度的位置转换为三维坐标\n",
    "import numpy as np\n",
    "coords = np.array(coords)\n",
    "lat, long = coords.T * np.pi / 180\n",
    "x = np.cos(long) * np.cos(lat)\n",
    "y = np.cos(long) * np.sin(lat)\n",
    "z = np.sin(long)\n",
    "  \n",
    "##########建立窗口##########\n",
    "from mayavi import mlab\n",
    "mlab.figure(bgcolor=(0.48, 0.48, 0.48), size=(400, 400))\n",
    "  \n",
    "##########绘制地球##########\n",
    "# 绘制半透明球体表示地球\n",
    "sphere = mlab.points3d(0, 0, 0, scale_factor=2,\n",
    "                                color=(0.67, 0.77, 0.93),\n",
    "                                resolution=50,\n",
    "                                opacity=0.7,\n",
    "                                name='Earth')\n",
    "  \n",
    "# 调整镜面反射参数\n",
    "sphere.actor.property.specular = 0.45\n",
    "sphere.actor.property.specular_power = 5\n",
    "# 设置背面剔除，以更好的显示透明效果\n",
    "sphere.actor.property.backface_culling = True\n",
    "  \n",
    "##########绘制城市##########\n",
    "# 绘制城市位置\n",
    "points = mlab.points3d(x, y, z, scale_factor=0.03,color=(0, 0, 1))\n",
    "# 绘制城市名称\n",
    "for city, index in cities.items():\n",
    "    label = mlab.text(x[index], y[index], city,\n",
    "                      z=z[index], color=(0,0,0),\n",
    "                      width=0.016 * len(city), name=city)\n",
    "      \n",
    "##########绘制大洲边界##########\n",
    "from mayavi.sources.builtin_surface import BuiltinSurface\n",
    "continents_src = BuiltinSurface(source='earth', name='Continents')\n",
    "# 设置LOD为2\n",
    "continents_src.data_source.on_ratio = 2\n",
    "continents = mlab.pipeline.surface(continents_src, color=(0, 0, 0))\n",
    "  \n",
    "##########绘制赤道##########\n",
    "theta = np.linspace(0, 2 * np.pi, 100)#平分360为100份\n",
    "x = np.cos(theta)\n",
    "y = np.sin(theta)\n",
    "z = np.zeros_like(theta) \n",
    "mlab.plot3d(x, y, z, color=(1, 1, 1),opacity=0.2, tube_radius=None)\n",
    "##########显示可交互窗口##########\n",
    "mlab.view(100, 60, 4, [-0.05, 0, 0])\n",
    "mlab.show()"
   ]
  },
  {
   "cell_type": "code",
   "execution_count": null,
   "metadata": {},
   "outputs": [],
   "source": []
  }
 ],
 "metadata": {
  "kernelspec": {
   "display_name": "Python 3",
   "language": "python",
   "name": "python3"
  },
  "language_info": {
   "codemirror_mode": {
    "name": "ipython",
    "version": 3
   },
   "file_extension": ".py",
   "mimetype": "text/x-python",
   "name": "python",
   "nbconvert_exporter": "python",
   "pygments_lexer": "ipython3",
   "version": "3.7.7"
  },
  "toc-autonumbering": false
 },
 "nbformat": 4,
 "nbformat_minor": 4
}
