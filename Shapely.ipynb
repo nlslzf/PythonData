{
 "cells": [
  {
   "cell_type": "code",
   "execution_count": 1,
   "metadata": {},
   "outputs": [
    {
     "name": "stdout",
     "output_type": "stream",
     "text": [
      "Polygon area: 475.0, polygon length: 92.62674088208993\n"
     ]
    }
   ],
   "source": [
    "from shapely.geometry import Polygon\n",
    "\n",
    "polygon1 = Polygon([(30,10),(40,40),(20,35),(10,20),(30,10)])\n",
    "\n",
    "print(f\"Polygon area: {polygon1.area}, polygon length: {polygon1.length}\")"
   ]
  },
  {
   "cell_type": "code",
   "execution_count": 3,
   "metadata": {},
   "outputs": [
    {
     "data": {
      "image/svg+xml": [
       "<svg xmlns=\"http://www.w3.org/2000/svg\" xmlns:xlink=\"http://www.w3.org/1999/xlink\" width=\"100.0\" height=\"100.0\" viewBox=\"17.6 17.6 64.80000000000001 24.799999999999997\" preserveAspectRatio=\"xMinYMin meet\"><g transform=\"matrix(1,0,0,-1,0,60.0)\"><path fill-rule=\"evenodd\" fill=\"#66cc99\" stroke=\"#555555\" stroke-width=\"1.2960000000000003\" opacity=\"0.6\" d=\"M 20.0,20.0 L 80.0,30.0 L 50.0,40.0 L 20.0,20.0 z\" /></g></svg>"
      ],
      "text/plain": [
       "<shapely.geometry.polygon.Polygon at 0x7f2028457b50>"
      ]
     },
     "execution_count": 3,
     "metadata": {},
     "output_type": "execute_result"
    }
   ],
   "source": [
    "polygon2 = Polygon([(20,20),(80,30),(50,40),(20,20)])\n",
    "polygon2"
   ]
  },
  {
   "cell_type": "code",
   "execution_count": 6,
   "metadata": {},
   "outputs": [
    {
     "data": {
      "image/svg+xml": [
       "<svg xmlns=\"http://www.w3.org/2000/svg\" xmlns:xlink=\"http://www.w3.org/1999/xlink\" width=\"100.0\" height=\"100.0\" viewBox=\"7.199999999999999 7.199999999999999 75.6 35.599999999999994\" preserveAspectRatio=\"xMinYMin meet\"><g transform=\"matrix(1,0,0,-1,0,50.0)\"><path fill-rule=\"evenodd\" fill=\"#66cc99\" stroke=\"#555555\" stroke-width=\"1.5119999999999998\" opacity=\"0.6\" d=\"M 37.142857142857146,31.428571428571427 L 50.0,40.0 L 80.0,30.0 L 34.11764705882353,22.352941176470587 L 30.0,10.0 L 10.0,20.0 L 20.0,35.0 L 40.0,40.0 L 37.142857142857146,31.428571428571427 z\" /></g></svg>"
      ],
      "text/plain": [
       "<shapely.geometry.polygon.Polygon at 0x7f20284758d0>"
      ]
     },
     "execution_count": 6,
     "metadata": {},
     "output_type": "execute_result"
    }
   ],
   "source": [
    "polygon2.union(polygon1)"
   ]
  },
  {
   "cell_type": "code",
   "execution_count": 7,
   "metadata": {},
   "outputs": [
    {
     "data": {
      "image/svg+xml": [
       "<svg xmlns=\"http://www.w3.org/2000/svg\" xmlns:xlink=\"http://www.w3.org/1999/xlink\" width=\"100.0\" height=\"100.0\" viewBox=\"19.314285714285713 19.314285714285713 18.514285714285716 12.8\" preserveAspectRatio=\"xMinYMin meet\"><g transform=\"matrix(1,0,0,-1,0,51.42857142857143)\"><path fill-rule=\"evenodd\" fill=\"#66cc99\" stroke=\"#555555\" stroke-width=\"0.37028571428571433\" opacity=\"0.6\" d=\"M 34.11764705882353,22.352941176470587 L 20.0,20.0 L 37.142857142857146,31.428571428571427 L 34.11764705882353,22.352941176470587 z\" /></g></svg>"
      ],
      "text/plain": [
       "<shapely.geometry.polygon.Polygon at 0x7f20381e3d10>"
      ]
     },
     "execution_count": 7,
     "metadata": {},
     "output_type": "execute_result"
    }
   ],
   "source": [
    "polygon2.intersection(polygon1)"
   ]
  },
  {
   "cell_type": "code",
   "execution_count": 9,
   "metadata": {},
   "outputs": [
    {
     "data": {
      "image/svg+xml": [
       "<svg xmlns=\"http://www.w3.org/2000/svg\" xmlns:xlink=\"http://www.w3.org/1999/xlink\" width=\"100.0\" height=\"100.0\" viewBox=\"7.199999999999999 7.199999999999999 75.6 35.599999999999994\" preserveAspectRatio=\"xMinYMin meet\"><g transform=\"matrix(1,0,0,-1,0,50.0)\"><g><path fill-rule=\"evenodd\" fill=\"#66cc99\" stroke=\"#555555\" stroke-width=\"1.5119999999999998\" opacity=\"0.6\" d=\"M 20.0,20.0 L 34.11764705882353,22.352941176470587 L 30.0,10.0 L 10.0,20.0 L 20.0,35.0 L 40.0,40.0 L 37.142857142857146,31.428571428571427 L 20.0,20.0 z\" /><path fill-rule=\"evenodd\" fill=\"#66cc99\" stroke=\"#555555\" stroke-width=\"1.5119999999999998\" opacity=\"0.6\" d=\"M 37.142857142857146,31.428571428571427 L 50.0,40.0 L 80.0,30.0 L 34.11764705882353,22.352941176470587 L 37.142857142857146,31.428571428571427 z\" /></g></g></svg>"
      ],
      "text/plain": [
       "<shapely.geometry.multipolygon.MultiPolygon at 0x7f2010376fd0>"
      ]
     },
     "execution_count": 9,
     "metadata": {},
     "output_type": "execute_result"
    }
   ],
   "source": [
    "polygon2.symmetric_difference(polygon1)"
   ]
  },
  {
   "cell_type": "code",
   "execution_count": 11,
   "metadata": {},
   "outputs": [
    {
     "name": "stdout",
     "output_type": "stream",
     "text": [
      "Polygon area: 803.9915966386554, polygon length: 221.13265554139582\n"
     ]
    }
   ],
   "source": [
    "result = polygon2.symmetric_difference(polygon1)\n",
    "print(f\"Polygon area: {result.area}, polygon length: {result.length}\")"
   ]
  },
  {
   "cell_type": "code",
   "execution_count": 12,
   "metadata": {},
   "outputs": [
    {
     "data": {
      "text/plain": [
       "'MULTIPOLYGON (((20 20, 34.11764705882353 22.35294117647059, 30 10, 10 20, 20 35, 40 40, 37.14285714285715 31.42857142857143, 20 20)), ((37.14285714285715 31.42857142857143, 50 40, 80 30, 34.11764705882353 22.35294117647059, 37.14285714285715 31.42857142857143)))'"
      ]
     },
     "execution_count": 12,
     "metadata": {},
     "output_type": "execute_result"
    }
   ],
   "source": [
    "result.wkt"
   ]
  },
  {
   "cell_type": "code",
   "execution_count": null,
   "metadata": {},
   "outputs": [],
   "source": [
    "import shapely.wkt\n",
    "\n",
    "s = result.wkt\n",
    "type(s)\n",
    "mypolygon = shapely.wkt.loads(s)\n",
    "mypolygon"
   ]
  },
  {
   "cell_type": "code",
   "execution_count": 16,
   "metadata": {},
   "outputs": [
    {
     "data": {
      "text/plain": [
       "True"
      ]
     },
     "execution_count": 16,
     "metadata": {},
     "output_type": "execute_result"
    }
   ],
   "source": [
    "polygon1.intersects(polygon2)"
   ]
  },
  {
   "cell_type": "code",
   "execution_count": 17,
   "metadata": {},
   "outputs": [
    {
     "data": {
      "text/plain": [
       "False"
      ]
     },
     "execution_count": 17,
     "metadata": {},
     "output_type": "execute_result"
    }
   ],
   "source": [
    "polygon1.within(polygon2)"
   ]
  },
  {
   "cell_type": "code",
   "execution_count": 19,
   "metadata": {},
   "outputs": [
    {
     "data": {
      "text/plain": [
       "False"
      ]
     },
     "execution_count": 19,
     "metadata": {},
     "output_type": "execute_result"
    }
   ],
   "source": [
    "polygon1.equals(polygon2)"
   ]
  },
  {
   "cell_type": "code",
   "execution_count": 20,
   "metadata": {},
   "outputs": [
    {
     "ename": "NameError",
     "evalue": "name 'geometry' is not defined",
     "output_type": "error",
     "traceback": [
      "\u001b[0;31m---------------------------------------------------------------------------\u001b[0m",
      "\u001b[0;31mNameError\u001b[0m                                 Traceback (most recent call last)",
      "\u001b[0;32m<ipython-input-20-61b41ca7c37a>\u001b[0m in \u001b[0;36m<module>\u001b[0;34m\u001b[0m\n\u001b[1;32m      1\u001b[0m \u001b[0;32mfrom\u001b[0m \u001b[0mshapely\u001b[0m\u001b[0;34m.\u001b[0m\u001b[0mgeometry\u001b[0m \u001b[0;32mimport\u001b[0m \u001b[0mshape\u001b[0m\u001b[0;34m\u001b[0m\u001b[0;34m\u001b[0m\u001b[0m\n\u001b[1;32m      2\u001b[0m \u001b[0;32mfrom\u001b[0m \u001b[0mshapely\u001b[0m\u001b[0;34m.\u001b[0m\u001b[0mgeometry\u001b[0m \u001b[0;32mimport\u001b[0m \u001b[0mMultiPolygon\u001b[0m\u001b[0;34m\u001b[0m\u001b[0;34m\u001b[0m\u001b[0m\n\u001b[0;32m----> 3\u001b[0;31m \u001b[0muk\u001b[0m \u001b[0;34m=\u001b[0m \u001b[0mMultiPolygon\u001b[0m\u001b[0;34m(\u001b[0m\u001b[0mshape\u001b[0m\u001b[0;34m(\u001b[0m\u001b[0mgeometry\u001b[0m\u001b[0;34m)\u001b[0m\u001b[0;34m)\u001b[0m\u001b[0;34m\u001b[0m\u001b[0;34m\u001b[0m\u001b[0m\n\u001b[0m\u001b[1;32m      4\u001b[0m \u001b[0muk\u001b[0m\u001b[0;34m\u001b[0m\u001b[0;34m\u001b[0m\u001b[0m\n",
      "\u001b[0;31mNameError\u001b[0m: name 'geometry' is not defined"
     ]
    }
   ],
   "source": [
    "from shapely.geometry import shape\n",
    "from shapely.geometry import MultiPolygon\n",
    "uk = MultiPolygon(shape(geometry))\n",
    "uk"
   ]
  },
  {
   "cell_type": "code",
   "execution_count": 21,
   "metadata": {},
   "outputs": [
    {
     "name": "stderr",
     "output_type": "stream",
     "text": [
      "/root/miniconda3/lib/python3.7/site-packages/rasterio/__init__.py:219: NotGeoreferencedWarning: Dataset has no geotransform set. The identity matrix may be returned.\n",
      "  s = DatasetReader(path, driver=driver, sharing=sharing, **kwargs)\n"
     ]
    }
   ],
   "source": [
    "import rasterio\n",
    "\n",
    "dataset = rasterio.open('data/test.jpg','r')\n"
   ]
  },
  {
   "cell_type": "code",
   "execution_count": 23,
   "metadata": {},
   "outputs": [
    {
     "data": {
      "text/html": [
       "<div style=\"width:100%;\"><div style=\"position:relative;width:100%;height:0;padding-bottom:60%;\"><span style=\"color:#565656\">Make this Notebook Trusted to load map: File -> Trust Notebook</span><iframe src=\"about:blank\" style=\"position:absolute;width:100%;height:100%;left:0;top:0;border:none !important;\" data-html=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 onload=\"this.contentDocument.open();this.contentDocument.write(atob(this.getAttribute('data-html')));this.contentDocument.close();\" allowfullscreen webkitallowfullscreen mozallowfullscreen></iframe></div></div>"
      ],
      "text/plain": [
       "<folium.folium.Map at 0x7f2010810a10>"
      ]
     },
     "execution_count": 23,
     "metadata": {},
     "output_type": "execute_result"
    }
   ],
   "source": [
    "import folium\n",
    "\n",
    "map_osm = folium.Map(location=[55.946167,-3.209626],zoom_start=17)\n",
    "map_osm"
   ]
  },
  {
   "cell_type": "code",
   "execution_count": 44,
   "metadata": {},
   "outputs": [
    {
     "name": "stdout",
     "output_type": "stream",
     "text": [
      "4.0 1.0 (0.0, 0.0, 1.0, 1.0)\n"
     ]
    }
   ],
   "source": [
    "from shapely.geometry import Polygon\n",
    "from shapely.geometry import Point\n",
    "from shapely.geometry import LineString\n",
    "poly1 = Polygon([[0, 0], [1, 0], [1, 1], [0, 1], [0, 0]])\n",
    "print(poly1.length,poly1.area,poly1.bounds)"
   ]
  },
  {
   "cell_type": "code",
   "execution_count": 46,
   "metadata": {},
   "outputs": [
    {
     "data": {
      "text/plain": [
       "'Point'"
      ]
     },
     "execution_count": 46,
     "metadata": {},
     "output_type": "execute_result"
    }
   ],
   "source": [
    "Point(0, 0).geom_type"
   ]
  },
  {
   "cell_type": "code",
   "execution_count": 48,
   "metadata": {},
   "outputs": [
    {
     "data": {
      "text/plain": [
       "3.605551275463989"
      ]
     },
     "execution_count": 48,
     "metadata": {},
     "output_type": "execute_result"
    }
   ],
   "source": [
    "Point(0, 0).distance(Point(2,3))"
   ]
  },
  {
   "cell_type": "code",
   "execution_count": 3,
   "metadata": {},
   "outputs": [
    {
     "data": {
      "text/plain": [
       "3.605551275463989"
      ]
     },
     "execution_count": 3,
     "metadata": {},
     "output_type": "execute_result"
    }
   ],
   "source": [
    "from shapely.geometry import LineString\n",
    "from shapely.geometry import Point\n",
    "line = LineString([(2, 0), (2, 4), (3, 4)])\n",
    "point = Point(1, 1)\n",
    "point.hausdorff_distance(line)"
   ]
  },
  {
   "cell_type": "code",
   "execution_count": 55,
   "metadata": {},
   "outputs": [
    {
     "data": {
      "text/plain": [
       "'POINT (-1.5 4.119267568565299e-15)'"
      ]
     },
     "execution_count": 55,
     "metadata": {},
     "output_type": "execute_result"
    }
   ],
   "source": [
    "donut = Point(0, 0).buffer(2.0).difference(Point(0, 0).buffer(1.0))\n",
    "donut.centroid.wkt\n",
    "donut.representative_point().wkt"
   ]
  },
  {
   "cell_type": "code",
   "execution_count": 56,
   "metadata": {},
   "outputs": [
    {
     "data": {
      "text/plain": [
       "'Polygon'"
      ]
     },
     "execution_count": 56,
     "metadata": {},
     "output_type": "execute_result"
    }
   ],
   "source": [
    "Point(0, 0).buffer(2.0).geom_type"
   ]
  },
  {
   "cell_type": "code",
   "execution_count": 57,
   "metadata": {},
   "outputs": [],
   "source": [
    "point = Point(0.0, 0.0)"
   ]
  },
  {
   "cell_type": "code",
   "execution_count": 58,
   "metadata": {},
   "outputs": [
    {
     "data": {
      "text/plain": [
       "0.0"
      ]
     },
     "execution_count": 58,
     "metadata": {},
     "output_type": "execute_result"
    }
   ],
   "source": [
    "point.length"
   ]
  },
  {
   "cell_type": "code",
   "execution_count": 59,
   "metadata": {},
   "outputs": [
    {
     "data": {
      "text/plain": [
       "[(0.0, 0.0)]"
      ]
     },
     "execution_count": 59,
     "metadata": {},
     "output_type": "execute_result"
    }
   ],
   "source": [
    "list(point.coords)"
   ]
  },
  {
   "cell_type": "code",
   "execution_count": 60,
   "metadata": {},
   "outputs": [
    {
     "data": {
      "text/plain": [
       "0.0"
      ]
     },
     "execution_count": 60,
     "metadata": {},
     "output_type": "execute_result"
    }
   ],
   "source": [
    "point.x"
   ]
  },
  {
   "cell_type": "code",
   "execution_count": 65,
   "metadata": {},
   "outputs": [
    {
     "data": {
      "text/plain": [
       "[(0.0, 0.0)]"
      ]
     },
     "execution_count": 65,
     "metadata": {},
     "output_type": "execute_result"
    }
   ],
   "source": [
    "point.coords[:]"
   ]
  },
  {
   "cell_type": "code",
   "execution_count": 4,
   "metadata": {},
   "outputs": [
    {
     "data": {
      "text/plain": [
       "0.0"
      ]
     },
     "execution_count": 4,
     "metadata": {},
     "output_type": "execute_result"
    }
   ],
   "source": [
    "from shapely.geometry import LineString\n",
    "line = LineString([(0, 0), (1, 1)])\n",
    "line.area\n"
   ]
  },
  {
   "cell_type": "code",
   "execution_count": 67,
   "metadata": {},
   "outputs": [
    {
     "data": {
      "text/plain": [
       "1.4142135623730951"
      ]
     },
     "execution_count": 67,
     "metadata": {},
     "output_type": "execute_result"
    }
   ],
   "source": [
    "line.length"
   ]
  },
  {
   "cell_type": "code",
   "execution_count": 69,
   "metadata": {},
   "outputs": [
    {
     "data": {
      "text/plain": [
       "[(0.0, 0.0), (1.0, 1.0)]"
      ]
     },
     "execution_count": 69,
     "metadata": {},
     "output_type": "execute_result"
    }
   ],
   "source": [
    "len(line.coords)\n",
    "list(line.coords)"
   ]
  },
  {
   "cell_type": "code",
   "execution_count": 71,
   "metadata": {},
   "outputs": [
    {
     "data": {
      "text/plain": [
       "[(1.0, 1.0)]"
      ]
     },
     "execution_count": 71,
     "metadata": {},
     "output_type": "execute_result"
    }
   ],
   "source": [
    "line.coords[1:]"
   ]
  },
  {
   "cell_type": "code",
   "execution_count": 6,
   "metadata": {},
   "outputs": [
    {
     "data": {
      "text/plain": [
       "True"
      ]
     },
     "execution_count": 6,
     "metadata": {},
     "output_type": "execute_result"
    }
   ],
   "source": [
    "line.is_valid"
   ]
  },
  {
   "cell_type": "code",
   "execution_count": 6,
   "metadata": {},
   "outputs": [
    {
     "data": {
      "image/svg+xml": [
       "<svg xmlns=\"http://www.w3.org/2000/svg\" xmlns:xlink=\"http://www.w3.org/1999/xlink\" width=\"100.0\" height=\"100.0\" viewBox=\"-0.08 -1.08 1.1600000000000001 2.16\" preserveAspectRatio=\"xMinYMin meet\"><g transform=\"matrix(1,0,0,-1,0,0.0)\"><polyline fill=\"none\" stroke=\"#66cc99\" stroke-width=\"0.0432\" points=\"0.0,0.0 1.0,1.0 1.0,0.0 0.0,-1.0 0.0,0.0\" opacity=\"0.8\" /></g></svg>"
      ],
      "text/plain": [
       "<shapely.geometry.polygon.LinearRing at 0x7f72589ba050>"
      ]
     },
     "execution_count": 6,
     "metadata": {},
     "output_type": "execute_result"
    }
   ],
   "source": [
    "from shapely.geometry.polygon import LinearRing\n",
    "ring = LinearRing([(0, 0), (1, 1), (1, 0),(0,-1)])\n",
    "ring"
   ]
  },
  {
   "cell_type": "code",
   "execution_count": 16,
   "metadata": {},
   "outputs": [
    {
     "name": "stdout",
     "output_type": "stream",
     "text": [
      "0.5\n",
      "(0.0, 0.0, 1.0, 1.0)\n",
      "[(0.0, 0.0), (1.0, 1.0), (1.0, 0.0), (0.0, 0.0)]\n",
      "[]\n"
     ]
    }
   ],
   "source": [
    "from shapely.geometry import Polygon\n",
    "polygon = Polygon([(0, 0), (1, 1), (1, 0)])\n",
    "print(polygon.area)\n",
    "print(polygon.bounds)\n",
    "print(list(polygon.exterior.coords))\n",
    "print(list(polygon.interiors))"
   ]
  },
  {
   "cell_type": "code",
   "execution_count": 21,
   "metadata": {},
   "outputs": [
    {
     "name": "stdout",
     "output_type": "stream",
     "text": [
      "0.5\n",
      "6.5507620529190325\n"
     ]
    },
    {
     "data": {
      "image/svg+xml": [
       "<svg xmlns=\"http://www.w3.org/2000/svg\" xmlns:xlink=\"http://www.w3.org/1999/xlink\" width=\"100.0\" height=\"100.0\" viewBox=\"-1.12 -1.12 3.24 3.24\" preserveAspectRatio=\"xMinYMin meet\"><g transform=\"matrix(1,0,0,-1,0,1.0)\"><path fill-rule=\"evenodd\" fill=\"#66cc99\" stroke=\"#555555\" stroke-width=\"0.06480000000000001\" opacity=\"0.6\" d=\"M 0.0,-1.0 L -0.09801714032956664,-0.9951847266721963 L -0.19509032201613388,-0.9807852804032293 L -0.29028467725446755,-0.9569403357322073 L -0.38268343236509444,-0.9238795325112849 L -0.4713967368260018,-0.8819212643483528 L -0.5555702330196066,-0.8314696123025423 L -0.6343932841636493,-0.7730104533627339 L -0.7071067811865508,-0.7071067811865442 L -0.7730104533627397,-0.6343932841636422 L -0.8314696123025475,-0.555570233019599 L -0.8819212643483567,-0.4713967368259945 L -0.923879532511288,-0.3826834323650868 L -0.9569403357322097,-0.2902846772544596 L -0.980785280403231,-0.19509032201612575 L -0.9951847266721972,-0.09801714032955838 L -1.0,1.8988215193149856e-15 L -0.9951847266721967,0.09801714032956216 L -0.9807852804032302,0.19509032201612947 L -0.9569403357322086,0.2902846772544632 L -0.9238795325112865,0.3826834323650903 L -0.8819212643483549,0.47139673682599786 L -0.8314696123025453,0.5555702330196022 L -0.7730104533627372,0.6343932841636452 L -0.7071067811865481,0.7071067811865469 L 0.29289321881345254,1.7071067811865475 L 0.3656067158363546,1.773010453362737 L 0.44442976698039804,1.8314696123025453 L 0.5286032631740023,1.881921264348355 L 0.6173165676349103,1.9238795325112867 L 0.7097153227455378,1.956940335732209 L 0.8049096779838718,1.9807852804032304 L 0.9019828596704393,1.995184726672197 L 1.0,2.0 L 1.0980171403295609,1.9951847266721967 L 1.1950903220161284,1.9807852804032304 L 1.2902846772544623,1.956940335732209 L 1.3826834323650898,1.9238795325112867 L 1.471396736825998,1.881921264348355 L 1.5555702330196024,1.8314696123025451 L 1.6343932841636457,1.7730104533627369 L 1.707106781186548,1.7071067811865472 L 1.7730104533627373,1.634393284163645 L 1.8314696123025456,1.5555702330196017 L 1.8819212643483554,1.471396736825997 L 1.923879532511287,1.382683432365089 L 1.956940335732209,1.2902846772544614 L 1.9807852804032307,1.195090322016127 L 1.9951847266721972,1.0980171403295593 L 2.0,1.0 L 2.0,0.0 L 1.995184726672197,-0.0980171403295606 L 1.9807852804032304,-0.19509032201612825 L 1.9569403357322088,-0.29028467725446233 L 1.9238795325112867,-0.3826834323650898 L 1.881921264348355,-0.47139673682599764 L 1.8314696123025453,-0.5555702330196022 L 1.7730104533627369,-0.6343932841636455 L 1.7071067811865475,-0.7071067811865475 L 1.6343932841636455,-0.773010453362737 L 1.5555702330196022,-0.8314696123025452 L 1.471396736825998,-0.8819212643483549 L 1.3826834323650898,-0.9238795325112867 L 1.2902846772544623,-0.9569403357322089 L 1.1950903220161282,-0.9807852804032304 L 1.0980171403295604,-0.9951847266721969 L 1.0,-1.0 L 0.0,-1.0 z M 0.0,0.0 L 1.0,1.0 L 1.0,0.0 L 0.0,0.0 z\" /></g></svg>"
      ],
      "text/plain": [
       "<shapely.geometry.polygon.Polygon at 0x7f72751e0090>"
      ]
     },
     "execution_count": 21,
     "metadata": {},
     "output_type": "execute_result"
    }
   ],
   "source": [
    "coords = [(0, 0), (1, 1), (1, 0)]\n",
    "r = LinearRing(coords)\n",
    "s = Polygon(r)\n",
    "print(s.area)\n",
    "t = Polygon(s.buffer(1.0).exterior,[r])\n",
    "print(t.area)\n",
    "t"
   ]
  },
  {
   "cell_type": "code",
   "execution_count": 27,
   "metadata": {},
   "outputs": [
    {
     "name": "stdout",
     "output_type": "stream",
     "text": [
      "[(1.0, 0.0), (1.0, 1.0), (0.0, 1.0), (0.0, 0.0), (1.0, 0.0)]\n"
     ]
    },
    {
     "data": {
      "text/plain": [
       "[(1.0, 0.0), (1.0, 1.0), (0.0, 1.0), (0.0, 0.0), (1.0, 0.0)]"
      ]
     },
     "execution_count": 27,
     "metadata": {},
     "output_type": "execute_result"
    }
   ],
   "source": [
    "from shapely.geometry import box\n",
    "b = box(0.0,0.0,1.0,1.0)\n",
    "print(b.exterior.coords[:])\n",
    "list(b.exterior.coords)"
   ]
  },
  {
   "cell_type": "code",
   "execution_count": 32,
   "metadata": {},
   "outputs": [
    {
     "name": "stdout",
     "output_type": "stream",
     "text": [
      "[<shapely.geometry.point.Point object at 0x7f72586ac350>,\n",
      " <shapely.geometry.linestring.LineString object at 0x7f72586acb90>]\n"
     ]
    }
   ],
   "source": [
    "from shapely.geometry import LineString\n",
    "a = LineString([(0, 0), (1, 1), (1,2), (2,2)])\n",
    "b = LineString([(0, 0), (1, 1), (2,1), (2,2)])\n",
    "x = a.intersection(b)\n",
    "x\n",
    "from pprint import pprint\n",
    "pprint(list(x))"
   ]
  },
  {
   "cell_type": "code",
   "execution_count": 38,
   "metadata": {},
   "outputs": [
    {
     "name": "stdout",
     "output_type": "stream",
     "text": [
      "[(0.5, 1.0)]\n"
     ]
    },
    {
     "data": {
      "text/plain": [
       "'POINT (0.5 1)'"
      ]
     },
     "execution_count": 38,
     "metadata": {},
     "output_type": "execute_result"
    }
   ],
   "source": [
    "ip = LineString([(0, 0), (0, 1), (1, 1)]).interpolate(1.5)\n",
    "pprint(ip.coords[:])\n",
    "ip.wkt"
   ]
  },
  {
   "cell_type": "code",
   "execution_count": 39,
   "metadata": {},
   "outputs": [
    {
     "data": {
      "text/plain": [
       "'POINT (0.5 1)'"
      ]
     },
     "execution_count": 39,
     "metadata": {},
     "output_type": "execute_result"
    }
   ],
   "source": [
    "LineString([(0, 0), (0, 1), (1, 1)]).interpolate(0.75, normalized=True).wkt"
   ]
  },
  {
   "cell_type": "code",
   "execution_count": 40,
   "metadata": {},
   "outputs": [
    {
     "data": {
      "text/plain": [
       "1.5"
      ]
     },
     "execution_count": 40,
     "metadata": {},
     "output_type": "execute_result"
    }
   ],
   "source": [
    "LineString([(0, 0), (0, 1), (1, 1)]).project(ip)"
   ]
  },
  {
   "cell_type": "code",
   "execution_count": 44,
   "metadata": {},
   "outputs": [
    {
     "name": "stdout",
     "output_type": "stream",
     "text": [
      "[[(0.0, 0.0), (1.0, 0.0)],\n",
      " [(1.0, 0.0), (2.0, 0.0), (3.0, 0.0), (4.0, 0.0), (5.0, 0.0)]]\n",
      "[[(0.0, 0.0), (1.0, 0.0), (2.0, 0.0), (2.5, 0.0)],\n",
      " [(2.5, 0.0), (3.0, 0.0), (4.0, 0.0), (5.0, 0.0)]]\n"
     ]
    }
   ],
   "source": [
    "from shapely.geometry import Point\n",
    "def cut(line, distance):\n",
    "    # Cuts a line in two at a distance from its starting point\n",
    "    if distance <= 0.0 or distance >= line.length:\n",
    "        return [LineString(line)]\n",
    "    coords = list(line.coords)\n",
    "    for i, p in enumerate(coords):\n",
    "        pd = line.project(Point(p))\n",
    "        if pd == distance:\n",
    "            return [\n",
    "                LineString(coords[:i+1]),\n",
    "                LineString(coords[i:])]\n",
    "        if pd > distance:\n",
    "            cp = line.interpolate(distance)\n",
    "            return [\n",
    "                LineString(coords[:i] + [(cp.x, cp.y)]),\n",
    "                LineString([(cp.x, cp.y)] + coords[i:])]\n",
    "        \n",
    "line = LineString([(0, 0), (1, 0), (2, 0), (3, 0), (4, 0), (5, 0)])\n",
    "pprint([list(x.coords) for x in cut(line, 1.0)])\n",
    "pprint([list(x.coords) for x in cut(line, 2.5)])"
   ]
  },
  {
   "cell_type": "code",
   "execution_count": 45,
   "metadata": {},
   "outputs": [
    {
     "data": {
      "text/plain": [
       "True"
      ]
     },
     "execution_count": 45,
     "metadata": {},
     "output_type": "execute_result"
    }
   ],
   "source": [
    "LinearRing([(1,0), (1,1), (0,0)]).is_ccw"
   ]
  },
  {
   "cell_type": "code",
   "execution_count": 46,
   "metadata": {},
   "outputs": [
    {
     "data": {
      "text/plain": [
       "True"
      ]
     },
     "execution_count": 46,
     "metadata": {},
     "output_type": "execute_result"
    }
   ],
   "source": [
    "ring = LinearRing([(0,0), (1,1), (1,0)])\n",
    "ring.is_ccw\n",
    "ring.coords = list(ring.coords)[::-1]\n",
    "ring.is_ccw"
   ]
  },
  {
   "cell_type": "code",
   "execution_count": 47,
   "metadata": {},
   "outputs": [
    {
     "data": {
      "text/plain": [
       "True"
      ]
     },
     "execution_count": 47,
     "metadata": {},
     "output_type": "execute_result"
    }
   ],
   "source": [
    ">>> a = LineString([(0, 0), (1, 1)])\n",
    ">>> b = LineString([(0, 0), (0.5, 0.5), (1, 1)])\n",
    ">>> c = LineString([(0, 0), (0, 0), (1, 1)])\n",
    ">>> a.equals(b)"
   ]
  },
  {
   "cell_type": "code",
   "execution_count": 48,
   "metadata": {},
   "outputs": [
    {
     "data": {
      "text/plain": [
       "False"
      ]
     },
     "execution_count": 48,
     "metadata": {},
     "output_type": "execute_result"
    }
   ],
   "source": [
    ">>> a == b"
   ]
  },
  {
   "cell_type": "code",
   "execution_count": 49,
   "metadata": {},
   "outputs": [
    {
     "data": {
      "text/plain": [
       "True"
      ]
     },
     "execution_count": 49,
     "metadata": {},
     "output_type": "execute_result"
    }
   ],
   "source": [
    ">>> b.equals(c)"
   ]
  },
  {
   "cell_type": "code",
   "execution_count": 50,
   "metadata": {},
   "outputs": [
    {
     "data": {
      "text/plain": [
       "False"
      ]
     },
     "execution_count": 50,
     "metadata": {},
     "output_type": "execute_result"
    }
   ],
   "source": [
    ">>> b == c"
   ]
  },
  {
   "cell_type": "code",
   "execution_count": 51,
   "metadata": {},
   "outputs": [
    {
     "data": {
      "text/plain": [
       "True"
      ]
     },
     "execution_count": 51,
     "metadata": {},
     "output_type": "execute_result"
    }
   ],
   "source": [
    "coords = [(0, 0), (1, 1)]\n",
    "LineString(coords).contains(Point(0.5, 0.5))"
   ]
  },
  {
   "cell_type": "code",
   "execution_count": 52,
   "metadata": {},
   "outputs": [
    {
     "data": {
      "text/plain": [
       "True"
      ]
     },
     "execution_count": 52,
     "metadata": {},
     "output_type": "execute_result"
    }
   ],
   "source": [
    "Point(0.5, 0.5).within(LineString(coords))"
   ]
  },
  {
   "cell_type": "code",
   "execution_count": 53,
   "metadata": {},
   "outputs": [
    {
     "data": {
      "text/plain": [
       "False"
      ]
     },
     "execution_count": 53,
     "metadata": {},
     "output_type": "execute_result"
    }
   ],
   "source": [
    "LineString(coords).contains(Point(1.0, 1.0))"
   ]
  },
  {
   "cell_type": "code",
   "execution_count": 58,
   "metadata": {},
   "outputs": [
    {
     "data": {
      "text/plain": [
       "['POINT (0.5 0.5)']"
      ]
     },
     "execution_count": 58,
     "metadata": {},
     "output_type": "execute_result"
    }
   ],
   "source": [
    ">>> line = LineString(coords)\n",
    ">>> contained = filter(line.contains, [Point(), Point(0.5, 0.5)])\n",
    ">>> [p.wkt for p in contained]"
   ]
  },
  {
   "cell_type": "code",
   "execution_count": 61,
   "metadata": {},
   "outputs": [
    {
     "data": {
      "text/plain": [
       "True"
      ]
     },
     "execution_count": 61,
     "metadata": {},
     "output_type": "execute_result"
    }
   ],
   "source": [
    "coords = [(0, 0), (1, 1)]\n",
    "LineString(coords).crosses(LineString([(0, 1), (1, 0)]))"
   ]
  },
  {
   "cell_type": "code",
   "execution_count": 62,
   "metadata": {},
   "outputs": [
    {
     "data": {
      "text/plain": [
       "False"
      ]
     },
     "execution_count": 62,
     "metadata": {},
     "output_type": "execute_result"
    }
   ],
   "source": [
    "LineString(coords).crosses(Point(0.5, 0.5))"
   ]
  },
  {
   "cell_type": "code",
   "execution_count": 63,
   "metadata": {},
   "outputs": [
    {
     "data": {
      "text/plain": [
       "True"
      ]
     },
     "execution_count": 63,
     "metadata": {},
     "output_type": "execute_result"
    }
   ],
   "source": [
    "Point(0, 0).disjoint(Point(1, 1))"
   ]
  },
  {
   "cell_type": "code",
   "execution_count": 65,
   "metadata": {},
   "outputs": [
    {
     "name": "stdout",
     "output_type": "stream",
     "text": [
      "False\n",
      "True\n"
     ]
    }
   ],
   "source": [
    "print(LineString(coords).contains(Point(1.0, 1.0)))\n",
    "print(LineString(coords).intersects(Point(1.0, 1.0)))"
   ]
  },
  {
   "cell_type": "code",
   "execution_count": 79,
   "metadata": {},
   "outputs": [
    {
     "name": "stdout",
     "output_type": "stream",
     "text": [
      "[<shapely.geometry.point.Point object at 0x7f724aa6a390>,\n",
      " <shapely.geometry.point.Point object at 0x7f724aa6a190>,\n",
      " <shapely.geometry.point.Point object at 0x7f724aa59f10>,\n",
      " <shapely.geometry.point.Point object at 0x7f724aa592d0>]\n"
     ]
    },
    {
     "data": {
      "text/plain": [
       "True"
      ]
     },
     "execution_count": 79,
     "metadata": {},
     "output_type": "execute_result"
    }
   ],
   "source": [
    "from shapely.geometry import MultiLineString\n",
    "coords = [((0,0),(1,1)),((-1,0),(1,0))]\n",
    "lines = MultiLineString(coords)\n",
    "pprint(list(lines.boundary))\n",
    "lines.boundary.boundary.is_empty"
   ]
  },
  {
   "cell_type": "code",
   "execution_count": 85,
   "metadata": {},
   "outputs": [
    {
     "data": {
      "text/plain": [
       "[(0.5, 0.5)]"
      ]
     },
     "execution_count": 85,
     "metadata": {},
     "output_type": "execute_result"
    }
   ],
   "source": [
    "LineString([(0, 0), (1, 1)]).centroid.coords[:]"
   ]
  },
  {
   "cell_type": "code",
   "execution_count": 92,
   "metadata": {},
   "outputs": [
    {
     "data": {
      "image/svg+xml": [
       "<svg xmlns=\"http://www.w3.org/2000/svg\" xmlns:xlink=\"http://www.w3.org/1999/xlink\" width=\"100.0\" height=\"100.0\" viewBox=\"-0.62 -0.62 2.24 3.24\" preserveAspectRatio=\"xMinYMin meet\"><g transform=\"matrix(1,0,0,-1,0,2.0)\"><polyline fill=\"none\" stroke=\"#66cc99\" stroke-width=\"0.06480000000000001\" points=\"1.5,-0.41230592043843134 1.4354270158816953,-0.4354105035983127 1.2926354830241944,-0.4711779206048452 1.147025710494343,-0.49277709000829506 1.0000000000000024,-0.5 0.8529742895056617,-0.4927770900082955 0.7073645169758103,-0.4711779206048461 0.5645729841183093,-0.435410503598314 0.42597485145236824,-0.38581929876693133 0.29290489476100645,-0.3228818965225342 0.16664465047059918,-0.24720441845381957 0.0484100737545341,-0.15951568004410732 -0.060660171779819416,-0.06066017177982319 -0.15951568004410377,0.04841007375452977 -0.24720441845381647,0.1666446504705945 -0.3228818965225315,0.29290489476100146 -0.38581929876692933,0.42597485145236336 -0.4354105035983127,0.5645729841183045 -0.4711779206048452,0.7073645169758058 -0.4927770900082953,0.8529742895056575 -0.5,0.9999999999999984 -0.4927770900082953,1.1470257104943395 -0.4711779206048461,1.2926354830241913 -0.43541050359831357,1.4354270158816926 -0.38581929876693044,1.574025148547634 -0.32288189652253285,1.707095105238996 -0.24720441845381824,1.8333553495294028 -0.15951568004410577,1.951589926245468 -0.060660171779821415,2.060660171779821 0.0484100737545311,2.159515680044105 0.16664465047059562,2.2472044184538174 0.292904894761002,2.3228818965225315 0.42597485145236325,2.385819298766929 0.5645729841183038,2.4354105035983125 0.7073645169758044,2.4711779206048448 0.8529742895056553,2.492777090008295 0.9999999999999958,2.5 1.1470257104943362,2.4927770900082957 1.292635483024187,2.4711779206048465 1.435427015881688,2.435410503598315 1.5000000000000002,2.412305920438431 1.4259748514523634,2.385819298766929 1.292904894761002,2.3228818965225315 1.1666446504705956,2.2472044184538174 1.048410073754531,2.159515680044105 0.9393398282201786,2.060660171779821 0.8404843199558942,1.951589926245468 0.7527955815461818,1.8333553495294028 0.6771181034774671,1.707095105238996 0.6141807012330696,1.574025148547634 0.5645894964016864,1.4354270158816926 0.5288220793951539,1.2926354830241913 0.5072229099917047,1.1470257104943395 0.5,0.9999999999999984 0.5072229099917047,0.8529742895056575 0.5288220793951548,0.7073645169758058 0.5645894964016873,0.5645729841183045 0.6141807012330707,0.42597485145236336 0.6771181034774685,0.29290489476100146 0.7527955815461835,0.1666446504705945 0.8404843199558962,0.04841007375452977 0.9393398282201806,-0.06066017177982319 1.048410073754534,-0.15951568004410732 1.1666446504705992,-0.24720441845381957 1.2929048947610065,-0.3228818965225342 1.4259748514523682,-0.38581929876693133 1.5,-0.41230592043843134\" opacity=\"0.8\" /></g></svg>"
      ],
      "text/plain": [
       "<shapely.geometry.linestring.LineString at 0x7f724ab8e850>"
      ]
     },
     "execution_count": 92,
     "metadata": {},
     "output_type": "execute_result"
    }
   ],
   "source": [
    "a = Point(1, 1).buffer(1.5)\n",
    "b = Point(2, 1).buffer(1.5)\n",
    "a.difference(b).boundary"
   ]
  },
  {
   "cell_type": "code",
   "execution_count": 93,
   "metadata": {},
   "outputs": [
    {
     "data": {
      "image/svg+xml": [
       "<svg xmlns=\"http://www.w3.org/2000/svg\" xmlns:xlink=\"http://www.w3.org/1999/xlink\" width=\"100.0\" height=\"100.0\" viewBox=\"0.38701552636492553 -0.5252903940735059 2.2259689472701494 3.0505807881470117\" preserveAspectRatio=\"xMinYMin meet\"><g transform=\"matrix(1,0,0,-1,0,2.0)\"><path fill-rule=\"evenodd\" fill=\"#66cc99\" stroke=\"#555555\" stroke-width=\"0.06101161576294024\" opacity=\"0.6\" d=\"M 2.5,1.0 L 2.4927770900082953,0.8529742895056592 L 2.4711779206048456,0.7073645169758078 L 2.4354105035983133,0.5645729841183068 L 2.3858192987669304,0.4259748514523659 L 2.322881896522533,0.29290489476100423 L 2.2472044184538182,0.1666446504705974 L 2.159515680044106,0.048410073754532545 L 2.0606601717798223,-0.060660171779820304 L 1.9515899262454695,-0.15951568004410444 L 1.8333553495294046,-0.2472044184538169 L 1.7070951052389978,-0.32288189652253174 L 1.5740251485476362,-0.38581929876692955 L 1.5,-0.41230592043843134 L 1.4259748514523682,-0.38581929876693133 L 1.2929048947610065,-0.3228818965225342 L 1.1666446504705992,-0.24720441845381957 L 1.048410073754534,-0.15951568004410732 L 0.9393398282201806,-0.06066017177982319 L 0.8404843199558962,0.04841007375452977 L 0.7527955815461835,0.1666446504705945 L 0.6771181034774685,0.29290489476100146 L 0.6141807012330707,0.42597485145236336 L 0.5645894964016873,0.5645729841183045 L 0.5288220793951548,0.7073645169758058 L 0.5072229099917047,0.8529742895056575 L 0.5,0.9999999999999984 L 0.5072229099917047,1.1470257104943395 L 0.5288220793951539,1.2926354830241913 L 0.5645894964016864,1.4354270158816926 L 0.6141807012330696,1.574025148547634 L 0.6771181034774671,1.707095105238996 L 0.7527955815461818,1.8333553495294028 L 0.8404843199558942,1.951589926245468 L 0.9393398282201786,2.060660171779821 L 1.048410073754531,2.159515680044105 L 1.1666446504705956,2.2472044184538174 L 1.292904894761002,2.3228818965225315 L 1.4259748514523634,2.385819298766929 L 1.5000000000000002,2.412305920438431 L 1.5740251485476289,2.3858192987669327 L 1.7070951052389904,2.322881896522536 L 1.8333553495293973,2.247204418453822 L 1.9515899262454623,2.15951568004411 L 2.0606601717798156,2.060660171779827 L 2.1595156800441,1.951589926245475 L 2.247204418453813,1.833355349529411 L 2.322881896522528,1.707095105239005 L 2.385819298766926,1.5740251485476442 L 2.43541050359831,1.435427015881704 L 2.4711779206048434,1.2926354830242035 L 2.4927770900082944,1.1470257104943526 L 2.5,1.0000000000000124 L 2.5,1.0 z\" /></g></svg>"
      ],
      "text/plain": [
       "<shapely.geometry.polygon.Polygon at 0x7f724ab8ea50>"
      ]
     },
     "execution_count": 93,
     "metadata": {},
     "output_type": "execute_result"
    }
   ],
   "source": [
    "a = Point(1, 1).buffer(1.5)\n",
    "b = Point(2, 1).buffer(1.5)\n",
    "a.intersection(b)"
   ]
  },
  {
   "cell_type": "code",
   "execution_count": 94,
   "metadata": {},
   "outputs": [
    {
     "data": {
      "image/svg+xml": [
       "<svg xmlns=\"http://www.w3.org/2000/svg\" xmlns:xlink=\"http://www.w3.org/1999/xlink\" width=\"100.0\" height=\"100.0\" viewBox=\"-0.66 -0.66 4.32 3.3200000000000003\" preserveAspectRatio=\"xMinYMin meet\"><g transform=\"matrix(1,0,0,-1,0,2.0)\"><g><path fill-rule=\"evenodd\" fill=\"#66cc99\" stroke=\"#555555\" stroke-width=\"0.0864\" opacity=\"0.6\" d=\"M 1.5,-0.41230592043843134 L 1.5740251485476362,-0.38581929876692955 L 1.7070951052389978,-0.32288189652253174 L 1.8333553495294046,-0.2472044184538169 L 1.9515899262454695,-0.15951568004410444 L 2.0606601717798223,-0.060660171779820304 L 2.159515680044106,0.048410073754532545 L 2.2472044184538182,0.1666446504705974 L 2.322881896522533,0.29290489476100423 L 2.3858192987669304,0.4259748514523659 L 2.4354105035983133,0.5645729841183068 L 2.4711779206048456,0.7073645169758078 L 2.4927770900082953,0.8529742895056592 L 2.5,1.0 L 2.5,1.0000000000000124 L 2.4927770900082944,1.1470257104943526 L 2.4711779206048434,1.2926354830242035 L 2.43541050359831,1.435427015881704 L 2.385819298766926,1.5740251485476442 L 2.322881896522528,1.707095105239005 L 2.247204418453813,1.833355349529411 L 2.1595156800441,1.951589926245475 L 2.0606601717798156,2.060660171779827 L 1.9515899262454623,2.15951568004411 L 1.8333553495293973,2.247204418453822 L 1.7070951052389904,2.322881896522536 L 1.5740251485476289,2.3858192987669327 L 1.5000000000000002,2.412305920438431 L 1.5645729841183038,2.4354105035983125 L 1.7073645169758045,2.4711779206048448 L 1.8529742895056553,2.492777090008295 L 1.9999999999999958,2.5 L 2.147025710494336,2.4927770900082957 L 2.292635483024187,2.4711779206048465 L 2.4354270158816878,2.435410503598315 L 2.574025148547629,2.3858192987669327 L 2.7070951052389907,2.322881896522536 L 2.8333553495293975,2.247204418453822 L 2.9515899262454623,2.15951568004411 L 3.0606601717798156,2.060660171779827 L 3.1595156800441,1.951589926245475 L 3.247204418453813,1.833355349529411 L 3.322881896522528,1.707095105239005 L 3.385819298766926,1.5740251485476442 L 3.43541050359831,1.435427015881704 L 3.4711779206048434,1.2926354830242035 L 3.4927770900082944,1.1470257104943526 L 3.5,1.0000000000000124 L 3.5,1.0 L 3.4927770900082953,0.8529742895056592 L 3.4711779206048456,0.7073645169758078 L 3.4354105035983133,0.5645729841183068 L 3.3858192987669304,0.4259748514523659 L 3.322881896522533,0.29290489476100423 L 3.2472044184538182,0.1666446504705974 L 3.159515680044106,0.048410073754532545 L 3.0606601717798223,-0.060660171779820304 L 2.9515899262454695,-0.15951568004410444 L 2.8333553495294046,-0.2472044184538169 L 2.7070951052389978,-0.32288189652253174 L 2.574025148547636,-0.38581929876692955 L 2.4354270158816953,-0.4354105035983127 L 2.2926354830241946,-0.4711779206048452 L 2.147025710494343,-0.49277709000829506 L 2.000000000000002,-0.5 L 1.8529742895056618,-0.4927770900082955 L 1.7073645169758103,-0.4711779206048461 L 1.5645729841183091,-0.435410503598314 L 1.5,-0.41230592043843134 z\" /><path fill-rule=\"evenodd\" fill=\"#66cc99\" stroke=\"#555555\" stroke-width=\"0.0864\" opacity=\"0.6\" d=\"M 1.5,-0.41230592043843134 L 1.4354270158816953,-0.4354105035983127 L 1.2926354830241944,-0.4711779206048452 L 1.147025710494343,-0.49277709000829506 L 1.0000000000000024,-0.5 L 0.8529742895056617,-0.4927770900082955 L 0.7073645169758103,-0.4711779206048461 L 0.5645729841183093,-0.435410503598314 L 0.42597485145236824,-0.38581929876693133 L 0.29290489476100645,-0.3228818965225342 L 0.16664465047059918,-0.24720441845381957 L 0.0484100737545341,-0.15951568004410732 L -0.060660171779819416,-0.06066017177982319 L -0.15951568004410377,0.04841007375452977 L -0.24720441845381647,0.1666446504705945 L -0.3228818965225315,0.29290489476100146 L -0.38581929876692933,0.42597485145236336 L -0.4354105035983127,0.5645729841183045 L -0.4711779206048452,0.7073645169758058 L -0.4927770900082953,0.8529742895056575 L -0.5,0.9999999999999984 L -0.4927770900082953,1.1470257104943395 L -0.4711779206048461,1.2926354830241913 L -0.43541050359831357,1.4354270158816926 L -0.38581929876693044,1.574025148547634 L -0.32288189652253285,1.707095105238996 L -0.24720441845381824,1.8333553495294028 L -0.15951568004410577,1.951589926245468 L -0.060660171779821415,2.060660171779821 L 0.0484100737545311,2.159515680044105 L 0.16664465047059562,2.2472044184538174 L 0.292904894761002,2.3228818965225315 L 0.42597485145236325,2.385819298766929 L 0.5645729841183038,2.4354105035983125 L 0.7073645169758044,2.4711779206048448 L 0.8529742895056553,2.492777090008295 L 0.9999999999999958,2.5 L 1.1470257104943362,2.4927770900082957 L 1.292635483024187,2.4711779206048465 L 1.435427015881688,2.435410503598315 L 1.5000000000000002,2.412305920438431 L 1.4259748514523634,2.385819298766929 L 1.292904894761002,2.3228818965225315 L 1.1666446504705956,2.2472044184538174 L 1.048410073754531,2.159515680044105 L 0.9393398282201786,2.060660171779821 L 0.8404843199558942,1.951589926245468 L 0.7527955815461818,1.8333553495294028 L 0.6771181034774671,1.707095105238996 L 0.6141807012330696,1.574025148547634 L 0.5645894964016864,1.4354270158816926 L 0.5288220793951539,1.2926354830241913 L 0.5072229099917047,1.1470257104943395 L 0.5,0.9999999999999984 L 0.5072229099917047,0.8529742895056575 L 0.5288220793951548,0.7073645169758058 L 0.5645894964016873,0.5645729841183045 L 0.6141807012330707,0.42597485145236336 L 0.6771181034774685,0.29290489476100146 L 0.7527955815461835,0.1666446504705945 L 0.8404843199558962,0.04841007375452977 L 0.9393398282201806,-0.06066017177982319 L 1.048410073754534,-0.15951568004410732 L 1.1666446504705992,-0.24720441845381957 L 1.2929048947610065,-0.3228818965225342 L 1.4259748514523682,-0.38581929876693133 L 1.5,-0.41230592043843134 z\" /></g></g></svg>"
      ],
      "text/plain": [
       "<shapely.geometry.multipolygon.MultiPolygon at 0x7f724ab8e6d0>"
      ]
     },
     "execution_count": 94,
     "metadata": {},
     "output_type": "execute_result"
    }
   ],
   "source": [
    "a.symmetric_difference(b)"
   ]
  },
  {
   "cell_type": "code",
   "execution_count": 95,
   "metadata": {},
   "outputs": [
    {
     "data": {
      "image/svg+xml": [
       "<svg xmlns=\"http://www.w3.org/2000/svg\" xmlns:xlink=\"http://www.w3.org/1999/xlink\" width=\"100.0\" height=\"100.0\" viewBox=\"-0.66 -0.66 4.32 3.3200000000000003\" preserveAspectRatio=\"xMinYMin meet\"><g transform=\"matrix(1,0,0,-1,0,2.0)\"><path fill-rule=\"evenodd\" fill=\"#66cc99\" stroke=\"#555555\" stroke-width=\"0.0864\" opacity=\"0.6\" d=\"M 1.5,-0.41230592043843134 L 1.4354270158816953,-0.4354105035983127 L 1.2926354830241944,-0.4711779206048452 L 1.147025710494343,-0.49277709000829506 L 1.0000000000000024,-0.5 L 0.8529742895056617,-0.4927770900082955 L 0.7073645169758103,-0.4711779206048461 L 0.5645729841183093,-0.435410503598314 L 0.42597485145236824,-0.38581929876693133 L 0.29290489476100645,-0.3228818965225342 L 0.16664465047059918,-0.24720441845381957 L 0.0484100737545341,-0.15951568004410732 L -0.060660171779819416,-0.06066017177982319 L -0.15951568004410377,0.04841007375452977 L -0.24720441845381647,0.1666446504705945 L -0.3228818965225315,0.29290489476100146 L -0.38581929876692933,0.42597485145236336 L -0.4354105035983127,0.5645729841183045 L -0.4711779206048452,0.7073645169758058 L -0.4927770900082953,0.8529742895056575 L -0.5,0.9999999999999984 L -0.4927770900082953,1.1470257104943395 L -0.4711779206048461,1.2926354830241913 L -0.43541050359831357,1.4354270158816926 L -0.38581929876693044,1.574025148547634 L -0.32288189652253285,1.707095105238996 L -0.24720441845381824,1.8333553495294028 L -0.15951568004410577,1.951589926245468 L -0.060660171779821415,2.060660171779821 L 0.0484100737545311,2.159515680044105 L 0.16664465047059562,2.2472044184538174 L 0.292904894761002,2.3228818965225315 L 0.42597485145236325,2.385819298766929 L 0.5645729841183038,2.4354105035983125 L 0.7073645169758044,2.4711779206048448 L 0.8529742895056553,2.492777090008295 L 0.9999999999999958,2.5 L 1.1470257104943362,2.4927770900082957 L 1.292635483024187,2.4711779206048465 L 1.435427015881688,2.435410503598315 L 1.5000000000000002,2.412305920438431 L 1.5645729841183038,2.4354105035983125 L 1.7073645169758045,2.4711779206048448 L 1.8529742895056553,2.492777090008295 L 1.9999999999999958,2.5 L 2.147025710494336,2.4927770900082957 L 2.292635483024187,2.4711779206048465 L 2.4354270158816878,2.435410503598315 L 2.574025148547629,2.3858192987669327 L 2.7070951052389907,2.322881896522536 L 2.8333553495293975,2.247204418453822 L 2.9515899262454623,2.15951568004411 L 3.0606601717798156,2.060660171779827 L 3.1595156800441,1.951589926245475 L 3.247204418453813,1.833355349529411 L 3.322881896522528,1.707095105239005 L 3.385819298766926,1.5740251485476442 L 3.43541050359831,1.435427015881704 L 3.4711779206048434,1.2926354830242035 L 3.4927770900082944,1.1470257104943526 L 3.5,1.0000000000000124 L 3.5,1.0 L 3.4927770900082953,0.8529742895056592 L 3.4711779206048456,0.7073645169758078 L 3.4354105035983133,0.5645729841183068 L 3.3858192987669304,0.4259748514523659 L 3.322881896522533,0.29290489476100423 L 3.2472044184538182,0.1666446504705974 L 3.159515680044106,0.048410073754532545 L 3.0606601717798223,-0.060660171779820304 L 2.9515899262454695,-0.15951568004410444 L 2.8333553495294046,-0.2472044184538169 L 2.7070951052389978,-0.32288189652253174 L 2.574025148547636,-0.38581929876692955 L 2.4354270158816953,-0.4354105035983127 L 2.2926354830241946,-0.4711779206048452 L 2.147025710494343,-0.49277709000829506 L 2.000000000000002,-0.5 L 1.8529742895056618,-0.4927770900082955 L 1.7073645169758103,-0.4711779206048461 L 1.5645729841183091,-0.435410503598314 L 1.5,-0.41230592043843134 z\" /></g></svg>"
      ],
      "text/plain": [
       "<shapely.geometry.polygon.Polygon at 0x7f724ab66490>"
      ]
     },
     "execution_count": 95,
     "metadata": {},
     "output_type": "execute_result"
    }
   ],
   "source": [
    "a.union(b)"
   ]
  },
  {
   "cell_type": "code",
   "execution_count": 96,
   "metadata": {},
   "outputs": [
    {
     "data": {
      "image/svg+xml": [
       "<svg xmlns=\"http://www.w3.org/2000/svg\" xmlns:xlink=\"http://www.w3.org/1999/xlink\" width=\"100.0\" height=\"100.0\" viewBox=\"-0.66 -0.66 4.32 3.3200000000000003\" preserveAspectRatio=\"xMinYMin meet\"><g transform=\"matrix(1,0,0,-1,0,2.0)\"><polyline fill=\"none\" stroke=\"#66cc99\" stroke-width=\"0.0864\" points=\"1.5,-0.41230592043843134 1.4354270158816953,-0.4354105035983127 1.2926354830241944,-0.4711779206048452 1.147025710494343,-0.49277709000829506 1.0000000000000024,-0.5 0.8529742895056617,-0.4927770900082955 0.7073645169758103,-0.4711779206048461 0.5645729841183093,-0.435410503598314 0.42597485145236824,-0.38581929876693133 0.29290489476100645,-0.3228818965225342 0.16664465047059918,-0.24720441845381957 0.0484100737545341,-0.15951568004410732 -0.060660171779819416,-0.06066017177982319 -0.15951568004410377,0.04841007375452977 -0.24720441845381647,0.1666446504705945 -0.3228818965225315,0.29290489476100146 -0.38581929876692933,0.42597485145236336 -0.4354105035983127,0.5645729841183045 -0.4711779206048452,0.7073645169758058 -0.4927770900082953,0.8529742895056575 -0.5,0.9999999999999984 -0.4927770900082953,1.1470257104943395 -0.4711779206048461,1.2926354830241913 -0.43541050359831357,1.4354270158816926 -0.38581929876693044,1.574025148547634 -0.32288189652253285,1.707095105238996 -0.24720441845381824,1.8333553495294028 -0.15951568004410577,1.951589926245468 -0.060660171779821415,2.060660171779821 0.0484100737545311,2.159515680044105 0.16664465047059562,2.2472044184538174 0.292904894761002,2.3228818965225315 0.42597485145236325,2.385819298766929 0.5645729841183038,2.4354105035983125 0.7073645169758044,2.4711779206048448 0.8529742895056553,2.492777090008295 0.9999999999999958,2.5 1.1470257104943362,2.4927770900082957 1.292635483024187,2.4711779206048465 1.435427015881688,2.435410503598315 1.5000000000000002,2.412305920438431 1.5645729841183038,2.4354105035983125 1.7073645169758045,2.4711779206048448 1.8529742895056553,2.492777090008295 1.9999999999999958,2.5 2.147025710494336,2.4927770900082957 2.292635483024187,2.4711779206048465 2.4354270158816878,2.435410503598315 2.574025148547629,2.3858192987669327 2.7070951052389907,2.322881896522536 2.8333553495293975,2.247204418453822 2.9515899262454623,2.15951568004411 3.0606601717798156,2.060660171779827 3.1595156800441,1.951589926245475 3.247204418453813,1.833355349529411 3.322881896522528,1.707095105239005 3.385819298766926,1.5740251485476442 3.43541050359831,1.435427015881704 3.4711779206048434,1.2926354830242035 3.4927770900082944,1.1470257104943526 3.5,1.0000000000000124 3.5,1.0 3.4927770900082953,0.8529742895056592 3.4711779206048456,0.7073645169758078 3.4354105035983133,0.5645729841183068 3.3858192987669304,0.4259748514523659 3.322881896522533,0.29290489476100423 3.2472044184538182,0.1666446504705974 3.159515680044106,0.048410073754532545 3.0606601717798223,-0.060660171779820304 2.9515899262454695,-0.15951568004410444 2.8333553495294046,-0.2472044184538169 2.7070951052389978,-0.32288189652253174 2.574025148547636,-0.38581929876692955 2.4354270158816953,-0.4354105035983127 2.2926354830241946,-0.4711779206048452 2.147025710494343,-0.49277709000829506 2.000000000000002,-0.5 1.8529742895056618,-0.4927770900082955 1.7073645169758103,-0.4711779206048461 1.5645729841183091,-0.435410503598314 1.5,-0.41230592043843134\" opacity=\"0.8\" /></g></svg>"
      ],
      "text/plain": [
       "<shapely.geometry.linestring.LineString at 0x7f724ab66ad0>"
      ]
     },
     "execution_count": 96,
     "metadata": {},
     "output_type": "execute_result"
    }
   ],
   "source": [
    "a.union(b).boundary"
   ]
  },
  {
   "cell_type": "code",
   "execution_count": 97,
   "metadata": {},
   "outputs": [
    {
     "data": {
      "image/svg+xml": [
       "<svg xmlns=\"http://www.w3.org/2000/svg\" xmlns:xlink=\"http://www.w3.org/1999/xlink\" width=\"100.0\" height=\"100.0\" viewBox=\"-0.66 -0.66 4.32 3.3200000000000003\" preserveAspectRatio=\"xMinYMin meet\"><g transform=\"matrix(1,0,0,-1,0,2.0)\"><g><polyline fill=\"none\" stroke=\"#66cc99\" stroke-width=\"0.0864\" points=\"2.5,1.0 2.4927770900082953,0.8529742895056592 2.4711779206048456,0.7073645169758078 2.4354105035983133,0.5645729841183068 2.3858192987669304,0.4259748514523659 2.322881896522533,0.29290489476100423 2.2472044184538182,0.1666446504705974 2.159515680044106,0.048410073754532545 2.0606601717798223,-0.060660171779820304 1.9515899262454695,-0.15951568004410444 1.8333553495294046,-0.2472044184538169 1.7070951052389978,-0.32288189652253174 1.5740251485476362,-0.38581929876692955 1.5,-0.41230592043843134\" opacity=\"0.8\" /><polyline fill=\"none\" stroke=\"#66cc99\" stroke-width=\"0.0864\" points=\"1.5,-0.41230592043843134 1.4354270158816953,-0.4354105035983127 1.2926354830241944,-0.4711779206048452 1.147025710494343,-0.49277709000829506 1.0000000000000024,-0.5 0.8529742895056617,-0.4927770900082955 0.7073645169758103,-0.4711779206048461 0.5645729841183093,-0.435410503598314 0.42597485145236824,-0.38581929876693133 0.29290489476100645,-0.3228818965225342 0.16664465047059918,-0.24720441845381957 0.0484100737545341,-0.15951568004410732 -0.060660171779819416,-0.06066017177982319 -0.15951568004410377,0.04841007375452977 -0.24720441845381647,0.1666446504705945 -0.3228818965225315,0.29290489476100146 -0.38581929876692933,0.42597485145236336 -0.4354105035983127,0.5645729841183045 -0.4711779206048452,0.7073645169758058 -0.4927770900082953,0.8529742895056575 -0.5,0.9999999999999984 -0.4927770900082953,1.1470257104943395 -0.4711779206048461,1.2926354830241913 -0.43541050359831357,1.4354270158816926 -0.38581929876693044,1.574025148547634 -0.32288189652253285,1.707095105238996 -0.24720441845381824,1.8333553495294028 -0.15951568004410577,1.951589926245468 -0.060660171779821415,2.060660171779821 0.0484100737545311,2.159515680044105 0.16664465047059562,2.2472044184538174 0.292904894761002,2.3228818965225315 0.42597485145236325,2.385819298766929 0.5645729841183038,2.4354105035983125 0.7073645169758044,2.4711779206048448 0.8529742895056553,2.492777090008295 0.9999999999999958,2.5 1.1470257104943362,2.4927770900082957 1.292635483024187,2.4711779206048465 1.435427015881688,2.435410503598315 1.5000000000000002,2.412305920438431\" opacity=\"0.8\" /><polyline fill=\"none\" stroke=\"#66cc99\" stroke-width=\"0.0864\" points=\"1.5000000000000002,2.412305920438431 1.5740251485476289,2.3858192987669327 1.7070951052389904,2.322881896522536 1.8333553495293973,2.247204418453822 1.9515899262454623,2.15951568004411 2.0606601717798156,2.060660171779827 2.1595156800441,1.951589926245475 2.247204418453813,1.833355349529411 2.322881896522528,1.707095105239005 2.385819298766926,1.5740251485476442 2.43541050359831,1.435427015881704 2.4711779206048434,1.2926354830242035 2.4927770900082944,1.1470257104943526 2.5,1.0000000000000124 2.5,1.0\" opacity=\"0.8\" /><polyline fill=\"none\" stroke=\"#66cc99\" stroke-width=\"0.0864\" points=\"3.5,1.0 3.4927770900082953,0.8529742895056592 3.4711779206048456,0.7073645169758078 3.4354105035983133,0.5645729841183068 3.3858192987669304,0.4259748514523659 3.322881896522533,0.29290489476100423 3.2472044184538182,0.1666446504705974 3.159515680044106,0.048410073754532545 3.0606601717798223,-0.060660171779820304 2.9515899262454695,-0.15951568004410444 2.8333553495294046,-0.2472044184538169 2.7070951052389978,-0.32288189652253174 2.574025148547636,-0.38581929876692955 2.4354270158816953,-0.4354105035983127 2.2926354830241946,-0.4711779206048452 2.147025710494343,-0.49277709000829506 2.000000000000002,-0.5 1.8529742895056618,-0.4927770900082955 1.7073645169758103,-0.4711779206048461 1.5645729841183091,-0.435410503598314 1.5,-0.41230592043843134\" opacity=\"0.8\" /><polyline fill=\"none\" stroke=\"#66cc99\" stroke-width=\"0.0864\" points=\"1.5,-0.41230592043843134 1.4259748514523682,-0.38581929876693133 1.2929048947610065,-0.3228818965225342 1.1666446504705992,-0.24720441845381957 1.048410073754534,-0.15951568004410732 0.9393398282201806,-0.06066017177982319 0.8404843199558962,0.04841007375452977 0.7527955815461835,0.1666446504705945 0.6771181034774685,0.29290489476100146 0.6141807012330707,0.42597485145236336 0.5645894964016873,0.5645729841183045 0.5288220793951548,0.7073645169758058 0.5072229099917047,0.8529742895056575 0.5,0.9999999999999984 0.5072229099917047,1.1470257104943395 0.5288220793951539,1.2926354830241913 0.5645894964016864,1.4354270158816926 0.6141807012330696,1.574025148547634 0.6771181034774671,1.707095105238996 0.7527955815461818,1.8333553495294028 0.8404843199558942,1.951589926245468 0.9393398282201786,2.060660171779821 1.048410073754531,2.159515680044105 1.1666446504705956,2.2472044184538174 1.292904894761002,2.3228818965225315 1.4259748514523634,2.385819298766929 1.5000000000000002,2.412305920438431\" opacity=\"0.8\" /><polyline fill=\"none\" stroke=\"#66cc99\" stroke-width=\"0.0864\" points=\"1.5000000000000002,2.412305920438431 1.5645729841183038,2.4354105035983125 1.7073645169758045,2.4711779206048448 1.8529742895056553,2.492777090008295 1.9999999999999958,2.5 2.147025710494336,2.4927770900082957 2.292635483024187,2.4711779206048465 2.4354270158816878,2.435410503598315 2.574025148547629,2.3858192987669327 2.7070951052389907,2.322881896522536 2.8333553495293975,2.247204418453822 2.9515899262454623,2.15951568004411 3.0606601717798156,2.060660171779827 3.1595156800441,1.951589926245475 3.247204418453813,1.833355349529411 3.322881896522528,1.707095105239005 3.385819298766926,1.5740251485476442 3.43541050359831,1.435427015881704 3.4711779206048434,1.2926354830242035 3.4927770900082944,1.1470257104943526 3.5,1.0000000000000124 3.5,1.0\" opacity=\"0.8\" /></g></g></svg>"
      ],
      "text/plain": [
       "<shapely.geometry.multilinestring.MultiLineString at 0x7f724ab58750>"
      ]
     },
     "execution_count": 97,
     "metadata": {},
     "output_type": "execute_result"
    }
   ],
   "source": [
    " a.boundary.union(b.boundary)"
   ]
  },
  {
   "cell_type": "code",
   "execution_count": 120,
   "metadata": {},
   "outputs": [
    {
     "data": {
      "image/svg+xml": [
       "<svg xmlns=\"http://www.w3.org/2000/svg\" xmlns:xlink=\"http://www.w3.org/1999/xlink\" width=\"100.0\" height=\"100.0\" viewBox=\"-0.8753897382885083 -0.8753897382885083 4.543639841752941 3.543672695390469\" preserveAspectRatio=\"xMinYMin meet\"><g transform=\"matrix(1,0,0,-1,0,1.7928932188134525)\"><path fill-rule=\"evenodd\" fill=\"#66cc99\" stroke=\"#555555\" stroke-width=\"0.09087279683505882\" opacity=\"0.6\" d=\"M 0.29289321881345254,1.0 L -0.35355339059327373,1.6464466094067263 L -0.3865052266813704,1.6828033579181796 L -0.4157348061512742,1.7222148834902011 L -0.4409606321741788,1.7643016315870035 L -0.4619397662556444,1.8086582838174576 L -0.4784701678661052,1.8548576613727712 L -0.4903926402016157,1.9024548389919382 L -0.4975923633360987,1.950991429835222 L -0.5,2.000000000000002 L -0.49759236333609824,2.049008570164782 L -0.4903926402016148,2.097545161008066 L -0.4784701678661039,2.145142338627233 L -0.46193976625564276,2.1913417161825466 L -0.44096063217417686,2.2356983684130003 L -0.4157348061512719,2.277785116509802 L -0.3865052266813678,2.3171966420818237 L -0.3535533905932731,2.3535533905932744 L -0.31719664208182213,2.386505226681369 L -0.2777851165098006,2.415734806151273 L -0.23569836841299843,2.4409606321741775 L -0.19134171618254464,2.4619397662556435 L -0.14514233862723108,2.4784701678661043 L -0.09754516100806421,2.490392640201615 L -0.049008570164780545,2.4975923633360986 L -4.134730398713788e-16,2.5 L 2.0,2.5 L 2.0490085701647804,2.4975923633360986 L 2.097545161008064,2.490392640201615 L 2.145142338627231,2.4784701678661043 L 2.191341716182545,2.4619397662556435 L 2.235698368412999,2.4409606321741775 L 2.277785116509801,2.4157348061512725 L 2.317196642081823,2.3865052266813684 L 2.353553390593274,2.353553390593274 L 3.353553390593274,1.3535533905932737 L 3.3869593598581984,1.3166424700164734 L 3.416529207756272,1.2765925145153654 L 3.441969793619239,1.2338005592982344 L 3.4630289122153934,1.1886908223858001 L 3.4794977939859795,1.1417104991261375 L 3.491213174682082,1.093325328923881 L 3.49805891388465,1.0440149781329329 L 3.4999671463624717,0.9942682848843708 L 3.496918954854096,0.9445784129899474 L 3.488944557604095,0.8954379629629573 L 3.476123008794514,0.847334088623363 L 3.4585814148412894,0.8007436676987123 L 3.436493674324875,0.7561285742970899 L 3.410078754046775,0.713931100118443 L 3.3795985183022994,0.674569569796095 L 3.3453551328890363,0.6384341938357612 L 3.3076880695864137,0.6058832002639493 L 3.266970740802428,0.5772392833346471 L 3.223606797749979,0.5527864045000421 L 1.223606797749979,-0.4472135954999579 L 0.7763932022500211,-0.670820393249937 L 0.5296909308122175,-0.17741585037432994 L 0.35355339059327373,-0.35355339059327373 L 0.0,-0.7071067811865475 L -0.7071067811865475,-5.551115123125783e-17 L 0.29289321881345254,1.0 z M 1.4503736709046264,0.7842038298272604 L 2.1559174829590035,1.136975735854449 L 1.7928932188134525,1.5 L 1.2071067811865475,1.5 L 1.3535533905932737,1.3535533905932737 L 1.3865052266813684,1.3171966420818229 L 1.4157348061512727,1.277785116509801 L 1.4409606321741775,1.2356983684129987 L 1.4619397662556435,1.1913417161825448 L 1.4784701678661043,1.1451423386272312 L 1.4903926402016152,1.0975451610080642 L 1.4975923633360986,1.0490085701647802 L 1.5,1.0 L 1.4975923633360986,0.9509914298352197 L 1.4903926402016152,0.9024548389919359 L 1.4784701678661045,0.8548576613727689 L 1.4619397662556435,0.8086582838174551 L 1.4503736709046264,0.7842038298272604 z\" /></g></svg>"
      ],
      "text/plain": [
       "<shapely.geometry.polygon.Polygon at 0x7f724aea5050>"
      ]
     },
     "execution_count": 120,
     "metadata": {},
     "output_type": "execute_result"
    }
   ],
   "source": [
    "line = LineString([(0, 0), (1, 1), (0, 2), (2, 2), (3, 1), (1, 0)])\n",
    "dilated = line.buffer(0.5,resolution=16,cap_style=3,join_style=1)\n",
    "dilated"
   ]
  },
  {
   "cell_type": "code",
   "execution_count": 132,
   "metadata": {},
   "outputs": [
    {
     "data": {
      "text/plain": [
       "66"
      ]
     },
     "execution_count": 132,
     "metadata": {},
     "output_type": "execute_result"
    }
   ],
   "source": [
    "p = Point(0, 0).buffer(10.0, 16)\n",
    "len(p.exterior.coords)"
   ]
  },
  {
   "cell_type": "code",
   "execution_count": 145,
   "metadata": {},
   "outputs": [
    {
     "name": "stdout",
     "output_type": "stream",
     "text": [
      "<shapely.geometry.multipolygon.MultiPolygon object at 0x7f724aa7efd0>\n"
     ]
    }
   ],
   "source": [
    "coords = [(0, 0), (0, 2), (1, 1), (2, 2), (2, 0), (1, 1), (0, 0)]\n",
    "bowtie = Polygon(coords)\n",
    "clean = bowtie.buffer(0)\n",
    "pprint(clean)"
   ]
  },
  {
   "cell_type": "code",
   "execution_count": 144,
   "metadata": {},
   "outputs": [
    {
     "data": {
      "text/plain": [
       "[(1.0, 1.0), (2.0, 2.0), (2.0, 0.0), (1.0, 1.0)]"
      ]
     },
     "execution_count": 144,
     "metadata": {},
     "output_type": "execute_result"
    }
   ],
   "source": [
    "list(clean[1].exterior.coords)"
   ]
  },
  {
   "cell_type": "code",
   "execution_count": 148,
   "metadata": {},
   "outputs": [
    {
     "data": {
      "image/svg+xml": [
       "<svg xmlns=\"http://www.w3.org/2000/svg\" xmlns:xlink=\"http://www.w3.org/1999/xlink\" width=\"100.0\" height=\"100.0\" viewBox=\"-0.08 -1.08 1.1600000000000001 2.16\" preserveAspectRatio=\"xMinYMin meet\"><g transform=\"matrix(1,0,0,-1,0,0.0)\"><path fill-rule=\"evenodd\" fill=\"#66cc99\" stroke=\"#555555\" stroke-width=\"0.0432\" opacity=\"0.6\" d=\"M 1.0,-1.0 L 0.0,0.0 L 1.0,1.0 L 1.0,-1.0 z\" /></g></svg>"
      ],
      "text/plain": [
       "<shapely.geometry.polygon.Polygon at 0x7f7249e95450>"
      ]
     },
     "execution_count": 148,
     "metadata": {},
     "output_type": "execute_result"
    }
   ],
   "source": [
    "from shapely.geometry import MultiPoint\n",
    "MultiPoint([(0, 0), (1, 1), (1, -1)]).convex_hull"
   ]
  },
  {
   "cell_type": "code",
   "execution_count": 149,
   "metadata": {},
   "outputs": [
    {
     "data": {
      "image/svg+xml": [
       "<svg xmlns=\"http://www.w3.org/2000/svg\" xmlns:xlink=\"http://www.w3.org/1999/xlink\" width=\"100.0\" height=\"100.0\" viewBox=\"-1.0 -1.0 2.0 2.0\" preserveAspectRatio=\"xMinYMin meet\"><g transform=\"matrix(1,0,0,-1,0,0.0)\"><circle cx=\"0.0\" cy=\"0.0\" r=\"0.06\" stroke=\"#555555\" stroke-width=\"0.02\" fill=\"#66cc99\" opacity=\"0.6\" /></g></svg>"
      ],
      "text/plain": [
       "<shapely.geometry.point.Point at 0x7f725872ae50>"
      ]
     },
     "execution_count": 149,
     "metadata": {},
     "output_type": "execute_result"
    }
   ],
   "source": [
    "Point(0, 0).envelope"
   ]
  },
  {
   "cell_type": "code",
   "execution_count": 151,
   "metadata": {},
   "outputs": [
    {
     "data": {
      "image/svg+xml": [
       "<svg xmlns=\"http://www.w3.org/2000/svg\" xmlns:xlink=\"http://www.w3.org/1999/xlink\" width=\"100.0\" height=\"100.0\" viewBox=\"-0.08 -0.08 2.16 1.1600000000000001\" preserveAspectRatio=\"xMinYMin meet\"><g transform=\"matrix(1,0,0,-1,0,1.0)\"><path fill-rule=\"evenodd\" fill=\"#66cc99\" stroke=\"#555555\" stroke-width=\"0.0432\" opacity=\"0.6\" d=\"M 0.0,0.0 L 2.0,0.0 L 2.0,1.0 L 0.0,1.0 L 0.0,0.0 z\" /></g></svg>"
      ],
      "text/plain": [
       "<shapely.geometry.polygon.Polygon at 0x7f724ab8e310>"
      ]
     },
     "execution_count": 151,
     "metadata": {},
     "output_type": "execute_result"
    }
   ],
   "source": [
    "MultiPoint([(0, 0), (2, 1)]).envelope"
   ]
  },
  {
   "cell_type": "code",
   "execution_count": 152,
   "metadata": {},
   "outputs": [
    {
     "data": {
      "image/svg+xml": [
       "<svg xmlns=\"http://www.w3.org/2000/svg\" xmlns:xlink=\"http://www.w3.org/1999/xlink\" width=\"100.0\" height=\"100.0\" viewBox=\"-1.0 -1.0 2.0 2.0\" preserveAspectRatio=\"xMinYMin meet\"><g transform=\"matrix(1,0,0,-1,0,0.0)\"><circle cx=\"0.0\" cy=\"0.0\" r=\"0.06\" stroke=\"#555555\" stroke-width=\"0.02\" fill=\"#66cc99\" opacity=\"0.6\" /></g></svg>"
      ],
      "text/plain": [
       "<shapely.geometry.point.Point at 0x7f724ab66b10>"
      ]
     },
     "execution_count": 152,
     "metadata": {},
     "output_type": "execute_result"
    }
   ],
   "source": [
    "Point(0, 0).minimum_rotated_rectangle"
   ]
  },
  {
   "cell_type": "code",
   "execution_count": 153,
   "metadata": {},
   "outputs": [
    {
     "data": {
      "image/svg+xml": [
       "<svg xmlns=\"http://www.w3.org/2000/svg\" xmlns:xlink=\"http://www.w3.org/1999/xlink\" width=\"100.0\" height=\"100.0\" viewBox=\"-0.26352941176470585 -0.08705882352941176 2.3505882352941176 1.3800000000000001\" preserveAspectRatio=\"xMinYMin meet\"><g transform=\"matrix(1,0,0,-1,0,1.2058823529411764)\"><path fill-rule=\"evenodd\" fill=\"#66cc99\" stroke=\"#555555\" stroke-width=\"0.04701176470588235\" opacity=\"0.6\" d=\"M 1.8235294117647058,1.2058823529411764 L -0.1764705882352941,0.7058823529411764 L 0.0,0.0 L 2.0,0.5 L 1.8235294117647058,1.2058823529411764 z\" /></g></svg>"
      ],
      "text/plain": [
       "<shapely.geometry.polygon.Polygon at 0x7f724ab73b90>"
      ]
     },
     "execution_count": 153,
     "metadata": {},
     "output_type": "execute_result"
    }
   ],
   "source": [
    "MultiPoint([(0,0),(1,1),(2,0.5)]).minimum_rotated_rectangle"
   ]
  },
  {
   "cell_type": "code",
   "execution_count": 181,
   "metadata": {},
   "outputs": [
    {
     "data": {
      "image/svg+xml": [
       "<svg xmlns=\"http://www.w3.org/2000/svg\" xmlns:xlink=\"http://www.w3.org/1999/xlink\" width=\"100.0\" height=\"100.0\" viewBox=\"-0.49107785652769037 -0.5847380614343746 3.7131605802292493 3.184347943833289\" preserveAspectRatio=\"xMinYMin meet\"><g transform=\"matrix(1,0,0,-1,0,2.0148718209645398)\"><polyline fill=\"none\" stroke=\"#66cc99\" stroke-width=\"0.07426321160458499\" points=\"-0.35355339059327373,0.35355339059327373 0.29289321881345254,1.0 -0.19522888079807912,1.5417414178591533 0.18599008547296628,2.4620854164644976 1.5442414178591508,2.194193346892141 2.4595854164645004,1.8150454484329723 3.084558257767142,1.4898570166619964 2.925312616809233,0.5085411609079338 1.223606797749979,-0.4472135954999579\" opacity=\"0.8\" /></g></svg>"
      ],
      "text/plain": [
       "<shapely.geometry.linestring.LineString at 0x7f724ade90d0>"
      ]
     },
     "execution_count": 181,
     "metadata": {},
     "output_type": "execute_result"
    }
   ],
   "source": [
    "line = LineString([(0, 0), (1, 1), (0, 2), (2, 2), (3, 1), (1, 0)])\n",
    "line.parallel_offset(0.5,'left',resolution=16,join_style=2,mitre_limit=0.01)"
   ]
  },
  {
   "cell_type": "code",
   "execution_count": 159,
   "metadata": {},
   "outputs": [
    {
     "data": {
      "image/svg+xml": [
       "<svg xmlns=\"http://www.w3.org/2000/svg\" xmlns:xlink=\"http://www.w3.org/1999/xlink\" width=\"100.0\" height=\"100.0\" viewBox=\"-0.12 -0.12 3.24 2.24\" preserveAspectRatio=\"xMinYMin meet\"><g transform=\"matrix(1,0,0,-1,0,2.0)\"><polyline fill=\"none\" stroke=\"#66cc99\" stroke-width=\"0.06480000000000001\" points=\"0.0,0.0 1.0,1.0 0.0,2.0 2.0,2.0 3.0,1.0 1.0,0.0\" opacity=\"0.8\" /></g></svg>"
      ],
      "text/plain": [
       "<shapely.geometry.linestring.LineString at 0x7f724add2910>"
      ]
     },
     "execution_count": 159,
     "metadata": {},
     "output_type": "execute_result"
    }
   ],
   "source": [
    "line = LineString([(0, 0), (1, 1), (0, 2), (2, 2), (3, 1), (1, 0)])\n",
    "line"
   ]
  },
  {
   "cell_type": "code",
   "execution_count": 192,
   "metadata": {},
   "outputs": [
    {
     "name": "stdout",
     "output_type": "stream",
     "text": [
      "3.1365484905459384\n"
     ]
    },
    {
     "data": {
      "image/svg+xml": [
       "<svg xmlns=\"http://www.w3.org/2000/svg\" xmlns:xlink=\"http://www.w3.org/1999/xlink\" width=\"100.0\" height=\"100.0\" viewBox=\"-1.08 -1.08 2.16 2.16\" preserveAspectRatio=\"xMinYMin meet\"><g transform=\"matrix(1,0,0,-1,0,0.0)\"><path fill-rule=\"evenodd\" fill=\"#66cc99\" stroke=\"#555555\" stroke-width=\"0.0432\" opacity=\"0.6\" d=\"M 1.0,0.0 L 0.9951847266721969,-0.0980171403295605 L 0.9807852804032305,-0.19509032201612808 L 0.9569403357322089,-0.2902846772544621 L 0.923879532511287,-0.3826834323650894 L 0.8819212643483553,-0.4713967368259972 L 0.8314696123025456,-0.5555702330196017 L 0.7730104533627374,-0.6343932841636449 L 0.7071067811865481,-0.7071067811865469 L 0.6343932841636463,-0.7730104533627363 L 0.5555702330196031,-0.8314696123025447 L 0.4713967368259986,-0.8819212643483545 L 0.38268343236509084,-0.9238795325112863 L 0.2902846772544636,-0.9569403357322085 L 0.19509032201612964,-0.9807852804032302 L 0.09801714032956209,-0.9951847266721967 L 1.6155445744325867e-15,-1.0 L -0.09801714032955888,-0.995184726672197 L -0.19509032201612647,-0.9807852804032308 L -0.2902846772544605,-0.9569403357322094 L -0.38268343236508784,-0.9238795325112875 L -0.4713967368259957,-0.881921264348356 L -0.5555702330196005,-0.8314696123025463 L -0.6343932841636439,-0.7730104533627382 L -0.7071067811865462,-0.7071067811865488 L -0.7730104533627359,-0.6343932841636468 L -0.8314696123025443,-0.5555702330196036 L -0.8819212643483543,-0.47139673682599903 L -0.9238795325112862,-0.3826834323650911 L -0.9569403357322085,-0.29028467725446366 L -0.9807852804032302,-0.19509032201612947 L -0.9951847266721968,-0.09801714032956171 L -1.0,-1.0106430996148606e-15 L -0.9951847266721969,0.0980171403295597 L -0.9807852804032307,0.1950903220161275 L -0.956940335732209,0.2902846772544617 L -0.923879532511287,0.3826834323650892 L -0.8819212643483553,0.47139673682599725 L -0.8314696123025455,0.555570233019602 L -0.7730104533627371,0.6343932841636453 L -0.7071067811865477,0.7071067811865475 L -0.6343932841636459,0.7730104533627367 L -0.555570233019603,0.8314696123025448 L -0.4713967368259987,0.8819212643483545 L -0.38268343236509117,0.9238795325112862 L -0.2902846772544641,0.9569403357322084 L -0.1950903220161304,0.98078528040323 L -0.0980171403295631,0.9951847266721966 L -2.848232278972479e-15,1.0 L 0.09801714032955743,0.9951847266721972 L 0.1950903220161248,0.9807852804032311 L 0.29028467725445867,0.9569403357322099 L 0.3826834323650859,0.9238795325112884 L 0.47139673682599365,0.8819212643483572 L 0.5555702330195982,0.8314696123025479 L 0.6343932841636415,0.7730104533627402 L 0.7071067811865436,0.7071067811865515 L 0.7730104533627332,0.63439328416365 L 0.8314696123025418,0.5555702330196074 L 0.8819212643483519,0.4713967368260034 L 0.9238795325112841,0.38268343236509617 L 0.9569403357322067,0.29028467725446927 L 0.980785280403229,0.1950903220161357 L 0.9951847266721962,0.09801714032956847 L 1.0,8.238535137130597e-15 L 1.0,0.0 z\" /></g></svg>"
      ],
      "text/plain": [
       "<shapely.geometry.polygon.Polygon at 0x7f724a9ffc90>"
      ]
     },
     "execution_count": 192,
     "metadata": {},
     "output_type": "execute_result"
    }
   ],
   "source": [
    "p = Point(0.0, 0.0)\n",
    "x = p.buffer(1.0)\n",
    "print(x.area)\n",
    "x"
   ]
  },
  {
   "cell_type": "code",
   "execution_count": 191,
   "metadata": {},
   "outputs": [
    {
     "name": "stdout",
     "output_type": "stream",
     "text": [
      "3.1214451522580524\n"
     ]
    },
    {
     "data": {
      "image/svg+xml": [
       "<svg xmlns=\"http://www.w3.org/2000/svg\" xmlns:xlink=\"http://www.w3.org/1999/xlink\" width=\"100.0\" height=\"100.0\" viewBox=\"-1.08 -1.08 2.16 2.16\" preserveAspectRatio=\"xMinYMin meet\"><g transform=\"matrix(1,0,0,-1,0,0.0)\"><path fill-rule=\"evenodd\" fill=\"#66cc99\" stroke=\"#555555\" stroke-width=\"0.0432\" opacity=\"0.6\" d=\"M 1.0,0.0 L 0.9807852804032305,-0.19509032201612808 L 0.923879532511287,-0.3826834323650894 L 0.8314696123025456,-0.5555702330196017 L 0.7071067811865481,-0.7071067811865469 L 0.5555702330196031,-0.8314696123025447 L 0.38268343236509084,-0.9238795325112863 L 0.19509032201612964,-0.9807852804032302 L 1.6155445744325867e-15,-1.0 L -0.19509032201612647,-0.9807852804032308 L -0.38268343236508784,-0.9238795325112875 L -0.5555702330196005,-0.8314696123025463 L -0.7071067811865462,-0.7071067811865488 L -0.8314696123025443,-0.5555702330196036 L -0.9238795325112862,-0.3826834323650911 L -0.9807852804032302,-0.19509032201612947 L -1.0,-1.0106430996148606e-15 L -0.9807852804032307,0.1950903220161275 L -0.923879532511287,0.3826834323650892 L -0.8314696123025455,0.555570233019602 L -0.7071067811865477,0.7071067811865475 L -0.555570233019603,0.8314696123025448 L -0.38268343236509117,0.9238795325112862 L -0.1950903220161304,0.98078528040323 L -2.848232278972479e-15,1.0 L 0.1950903220161248,0.9807852804032311 L 0.3826834323650859,0.9238795325112884 L 0.5555702330195982,0.8314696123025479 L 0.7071067811865436,0.7071067811865515 L 0.8314696123025418,0.5555702330196074 L 0.9238795325112841,0.38268343236509617 L 0.980785280403229,0.1950903220161357 L 1.0,0.0 z\" /></g></svg>"
      ],
      "text/plain": [
       "<shapely.geometry.polygon.Polygon at 0x7f724a9ff650>"
      ]
     },
     "execution_count": 191,
     "metadata": {},
     "output_type": "execute_result"
    }
   ],
   "source": [
    "s = x.simplify(0.01, preserve_topology=False)\n",
    "print(s.area)\n",
    "s"
   ]
  },
  {
   "cell_type": "code",
   "execution_count": 194,
   "metadata": {},
   "outputs": [
    {
     "data": {
      "image/svg+xml": [
       "<svg xmlns=\"http://www.w3.org/2000/svg\" xmlns:xlink=\"http://www.w3.org/1999/xlink\" width=\"100.0\" height=\"100.0\" viewBox=\"1.38 0.38 2.24 3.24\" preserveAspectRatio=\"xMinYMin meet\"><g transform=\"matrix(1,0,0,-1,0,4.0)\"><polyline fill=\"none\" stroke=\"#66cc99\" stroke-width=\"0.06480000000000001\" points=\"1.5,0.5 3.5,0.5 3.5,3.5\" opacity=\"0.8\" /></g></svg>"
      ],
      "text/plain": [
       "<shapely.geometry.linestring.LineString at 0x7f724ade9890>"
      ]
     },
     "execution_count": 194,
     "metadata": {},
     "output_type": "execute_result"
    }
   ],
   "source": [
    "from shapely import affinity\n",
    "line = LineString([(1, 3), (1, 1), (4, 1)])\n",
    "rotated_a = affinity.rotate(line, 90)\n",
    "rotated_a"
   ]
  },
  {
   "cell_type": "code",
   "execution_count": 195,
   "metadata": {},
   "outputs": [
    {
     "data": {
      "image/svg+xml": [
       "<svg xmlns=\"http://www.w3.org/2000/svg\" xmlns:xlink=\"http://www.w3.org/1999/xlink\" width=\"100.0\" height=\"100.0\" viewBox=\"0.17999999999999983 0.38 2.24 3.24\" preserveAspectRatio=\"xMinYMin meet\"><g transform=\"matrix(1,0,0,-1,0,4.0)\"><polyline fill=\"none\" stroke=\"#66cc99\" stroke-width=\"0.06480000000000001\" points=\"0.2999999999999998,0.5 2.3,0.5 2.3,3.5\" opacity=\"0.8\" /></g></svg>"
      ],
      "text/plain": [
       "<shapely.geometry.linestring.LineString at 0x7f724ade9110>"
      ]
     },
     "execution_count": 195,
     "metadata": {},
     "output_type": "execute_result"
    }
   ],
   "source": [
    "rotated_b = affinity.rotate(line, 90, origin='centroid')\n",
    "rotated_b"
   ]
  },
  {
   "cell_type": "code",
   "execution_count": 214,
   "metadata": {},
   "outputs": [
    {
     "name": "stdout",
     "output_type": "stream",
     "text": [
      "[<shapely.geometry.polygon.Polygon object at 0x7f724a91ca50>,\n",
      " <shapely.geometry.polygon.Polygon object at 0x7f724a91cb50>]\n"
     ]
    },
    {
     "data": {
      "image/svg+xml": [
       "<svg xmlns=\"http://www.w3.org/2000/svg\" xmlns:xlink=\"http://www.w3.org/1999/xlink\" width=\"100.0\" height=\"100.0\" viewBox=\"-0.04 -0.04 1.08 1.08\" preserveAspectRatio=\"xMinYMin meet\"><g transform=\"matrix(1,0,0,-1,0,1.0)\"><path fill-rule=\"evenodd\" fill=\"#66cc99\" stroke=\"#555555\" stroke-width=\"0.0216\" opacity=\"0.6\" d=\"M 0.0,0.0 L 1.0,1.0 L 1.0,0.0 L 0.0,0.0 z\" /></g></svg>"
      ],
      "text/plain": [
       "<shapely.geometry.polygon.Polygon at 0x7f724a91ca90>"
      ]
     },
     "execution_count": 214,
     "metadata": {},
     "output_type": "execute_result"
    }
   ],
   "source": [
    ">>> from shapely.ops import polygonize\n",
    "from shapely.geometry import MultiLineString\n",
    ">>> lines = [\n",
    "...     ((0, 0), (1, 1)),\n",
    "...     ((0, 0), (0, 1)),\n",
    "...     ((0, 1), (1, 1)),\n",
    "...     ((1, 1), (1, 0)),\n",
    "...     ((1, 0), (0, 0))\n",
    "...     ]\n",
    "MultiLineString(lines)\n",
    "pprint(list(polygonize(lines)))\n",
    "list(polygonize(lines))[0]"
   ]
  },
  {
   "cell_type": "code",
   "execution_count": 260,
   "metadata": {},
   "outputs": [
    {
     "data": {
      "text/plain": [
       "[(1.3333333333333333, 2.3333333333333335)]"
      ]
     },
     "execution_count": 260,
     "metadata": {},
     "output_type": "execute_result"
    },
    {
     "data": {
      "image/png": "[encoded data removed]",
      "text/plain": [
       "<Figure size 432x288 with 1 Axes>"
      ]
     },
     "metadata": {
      "needs_background": "light"
     },
     "output_type": "display_data"
    }
   ],
   "source": [
    "from shapely.geometry import LineString\n",
    "import matplotlib.pyplot as plt\n",
    "import numpy as np\n",
    "\n",
    "line1 = LineString([(1,2),(2,3)])\n",
    "line2 = LineString([(2,1),(1,3)])\n",
    "inte = line1.intersection(line2)\n",
    "\n",
    "line1pts = np.asarray(line1)\n",
    "line2pts = np.asarray(line2)\n",
    "intepts = np.asarray(inte)\n",
    "\n",
    "plt.plot(*line1pts, color='green')\n",
    "plt.plot(*line2pts, color='blue')\n",
    "plt.plot(*intepts, 'r.',markersize=15)\n",
    "inte.coords[:]"
   ]
  },
  {
   "cell_type": "code",
   "execution_count": 262,
   "metadata": {},
   "outputs": [
    {
     "data": {
      "image/png": "[encoded data removed]",
      "text/plain": [
       "<Figure size 432x288 with 1 Axes>"
      ]
     },
     "metadata": {
      "needs_background": "light"
     },
     "output_type": "display_data"
    }
   ],
   "source": [
    "from io import BytesIO\n",
    "import matplotlib.pyplot as plt\n",
    "import numpy as np\n",
    "import requests\n",
    "import shapely.geometry as shp\n",
    "\n",
    "# Read the points    \n",
    "AFURL = 'http://m-selig.ae.illinois.edu/ads/coord_seligFmt/ah79100c.dat'\n",
    "afpts = np.loadtxt(BytesIO(requests.get(AFURL).content), skiprows=1)\n",
    "\n",
    "# Create a Polygon from the nx2 array in `afpts`\n",
    "afpoly = shp.Polygon(afpts)\n",
    "afpoly1 = shp.LineString(afpts)\n",
    "\n",
    "# Create offset airfoils, both inward and outward\n",
    "#poffafpoly = afpoly.buffer(0.03)  # Outward offset\n",
    "poffafpoly = afpoly1.parallel_offset(0.03)\n",
    "noffafpoly = afpoly.buffer(-0.03)  # Inward offset\n",
    "\n",
    "# Turn polygon points into numpy arrays for plotting\n",
    "afpolypts = np.array(afpoly.exterior)\n",
    "poffafpolypts = np.array(poffafpoly)\n",
    "noffafpolypts = np.array(noffafpoly.exterior)\n",
    "\n",
    "# Plot points\n",
    "plt.plot(*afpolypts.T, color='black')\n",
    "plt.plot(*poffafpolypts.T, color='red')\n",
    "plt.plot(*noffafpolypts.T, color='green')\n",
    "plt.axis('equal')\n",
    "plt.show()"
   ]
  },
  {
   "cell_type": "code",
   "execution_count": null,
   "metadata": {},
   "outputs": [],
   "source": []
  }
 ],
 "metadata": {
  "kernelspec": {
   "display_name": "Python 3",
   "language": "python",
   "name": "python3"
  },
  "language_info": {
   "codemirror_mode": {
    "name": "ipython",
    "version": 3
   },
   "file_extension": ".py",
   "mimetype": "text/x-python",
   "name": "python",
   "nbconvert_exporter": "python",
   "pygments_lexer": "ipython3",
   "version": "3.7.6"
  }
 },
 "nbformat": 4,
 "nbformat_minor": 4
}
