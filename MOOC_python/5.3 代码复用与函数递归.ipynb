{
 "cells": [
  {
   "cell_type": "markdown",
   "metadata": {},
   "source": [
    "# 代码复用与函数递归"
   ]
  },
  {
   "cell_type": "markdown",
   "metadata": {},
   "source": [
    "函数 和 对象 是代码复用的两种主要形式\n",
    "- 紧 耦合： 两个 部分之间交流很多，无法独立存在\n",
    "- 松 耦合：两个部分之间交流较少，可以独立存在\n",
    "- 模块 内部紧耦合、模块之间松耦合\n",
    "\n",
    "# 递归的定义\n",
    "两个关键特征：\n",
    "1. 链条：计算过程存在递归链条\n",
    "2. 基例：存在一个或多个不需要再次递归的基例\n"
   ]
  },
  {
   "cell_type": "code",
   "execution_count": 2,
   "metadata": {},
   "outputs": [
    {
     "data": {
      "text/plain": [
       "'olleh'"
      ]
     },
     "execution_count": 2,
     "metadata": {},
     "output_type": "execute_result"
    }
   ],
   "source": [
    "def rvs(s):\n",
    "    if s == '':\n",
    "        return s\n",
    "    else:\n",
    "        return rvs(s[1:])+s[0]\n",
    "    \n",
    "rvs('hello')"
   ]
  },
  {
   "cell_type": "code",
   "execution_count": 6,
   "metadata": {},
   "outputs": [
    {
     "name": "stdout",
     "output_type": "stream",
     "text": [
      "1:A->C\n",
      "2:A->B\n",
      "1:C->B\n",
      "3:A->C\n",
      "1:B->A\n",
      "2:B->C\n",
      "1:A->C\n",
      "7\n"
     ]
    }
   ],
   "source": [
    "count = 0\n",
    "def hanoi(n,src,dst,mid):\n",
    "    global count\n",
    "    if n==1:\n",
    "        print(\"{}:{}->{}\".format(1,src,dst))\n",
    "        count += 1\n",
    "    else:\n",
    "        hanoi(n-1,src,mid,dst)\n",
    "        print(\"{}:{}->{}\".format(n,src,dst))\n",
    "        count += 1\n",
    "        hanoi(n-1,mid,dst,src)\n",
    "\n",
    "hanoi(3,'A','C','B')\n",
    "print(count)"
   ]
  }
 ],
 "metadata": {
  "kernelspec": {
   "display_name": "Python 3",
   "language": "python",
   "name": "python3"
  },
  "language_info": {
   "codemirror_mode": {
    "name": "ipython",
    "version": 3
   },
   "file_extension": ".py",
   "mimetype": "text/x-python",
   "name": "python",
   "nbconvert_exporter": "python",
   "pygments_lexer": "ipython3",
   "version": "3.6.8"
  }
 },
 "nbformat": 4,
 "nbformat_minor": 4
}
