{
 "cells": [
  {
   "cell_type": "markdown",
   "metadata": {},
   "source": [
    "# wordcloud基本使用\n",
    "wordcloud库把词云当作一个 WordCloud 对象\n",
    "- wordcloud.WordCloud 代表一个文本对应的词云\n",
    "- 可以根据文本中词语出现的频率等参数绘制词云\n",
    "- 绘制词云的形状、尺寸和颜色都可以设定\n",
    "\n",
    "| 参数           | 描述 |\n",
    "| :---------: |:---------------------------------- :|\n",
    "| width            | 指定词云对象生成图片的宽度，默认400 像素|\n",
    "| height           | 指定词云对象生成图片的高度，默认200 像素|\n",
    "| min_font_size    | 指定词云中字体的最小字号，默认|\n",
    "| max_font_size    | 指定词云中字体的最大字号，根据高度自动调节|\n",
    "| font_step        | 指定词云中字体字号的步进间隔，默认为1|\n",
    "| font_path        | 指定字体文件的路径，默认None                   |\n",
    "| max_words        | 指定词云显示的最大单词数量，默认200 |\n",
    "| stop_words       | 指定词云的排除词列表，即不显示的单词列表  |\n",
    "| mask             | 指定词云形状，默认为长方形，需要引用imread 函数|\n",
    "| background_color | 指定词云图片的背景颜色，默认为黑色 "
   ]
  },
  {
   "cell_type": "code",
   "execution_count": null,
   "metadata": {},
   "outputs": [],
   "source": [
    "import wordcloud\n",
    "w = wordcloud.WordCloud()\n",
    "w.generate(txt) # 向WordCloud对象w中加载文本txt\n",
    "w.to_file(filename) # 将词云输出为图像文件，.png或.jpg格式\n"
   ]
  },
  {
   "cell_type": "code",
   "execution_count": 3,
   "metadata": {},
   "outputs": [
    {
     "data": {
      "text/plain": [
       "<wordcloud.wordcloud.WordCloud at 0x7f9d8e5eae48>"
      ]
     },
     "execution_count": 3,
     "metadata": {},
     "output_type": "execute_result"
    }
   ],
   "source": [
    "import wordcloud\n",
    "txt = 'life is short, you need python'\n",
    "w = wordcloud.WordCloud(background_color = 'white')\n",
    "w.generate(txt)\n",
    "w.to_file('pywcloud.png')"
   ]
  },
  {
   "cell_type": "code",
   "execution_count": null,
   "metadata": {},
   "outputs": [],
   "source": []
  }
 ],
 "metadata": {
  "kernelspec": {
   "display_name": "Python 3",
   "language": "python",
   "name": "python3"
  },
  "language_info": {
   "codemirror_mode": {
    "name": "ipython",
    "version": 3
   },
   "file_extension": ".py",
   "mimetype": "text/x-python",
   "name": "python",
   "nbconvert_exporter": "python",
   "pygments_lexer": "ipython3",
   "version": "3.6.8"
  }
 },
 "nbformat": 4,
 "nbformat_minor": 4
}
