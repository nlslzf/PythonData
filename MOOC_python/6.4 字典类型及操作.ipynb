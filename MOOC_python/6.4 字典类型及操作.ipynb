{
 "cells": [
  {
   "cell_type": "markdown",
   "metadata": {},
   "source": [
    "# 字典类型及操作\n",
    "映射是一种键(索引) 和值(数据)的对应\n",
    "- 键值对：键是数据索引的扩展\n",
    "- 字典是键值对的集合，键值对之间无序\n",
    "- 采用大括号{}和 dict() 创建， 键值 对用冒号 : 表示\n",
    " <字典变量> = {<键1>:<值1>,...,<键n>:<值n>}\n",
    " <值> = <字典变量>[键]  <字典变量>[键] = <值>\n",
    " "
   ]
  },
  {
   "cell_type": "code",
   "execution_count": 1,
   "metadata": {},
   "outputs": [],
   "source": [
    "d = {'中国':'北京','美国':'华盛顿'}"
   ]
  },
  {
   "cell_type": "code",
   "execution_count": 2,
   "metadata": {},
   "outputs": [
    {
     "data": {
      "text/plain": [
       "{'中国': '北京', '美国': '华盛顿'}"
      ]
     },
     "execution_count": 2,
     "metadata": {},
     "output_type": "execute_result"
    }
   ],
   "source": [
    "d"
   ]
  },
  {
   "cell_type": "code",
   "execution_count": 4,
   "metadata": {},
   "outputs": [
    {
     "data": {
      "text/plain": [
       "'北京'"
      ]
     },
     "execution_count": 4,
     "metadata": {},
     "output_type": "execute_result"
    }
   ],
   "source": [
    "type(d)\n",
    "d['中国']"
   ]
  },
  {
   "cell_type": "code",
   "execution_count": 7,
   "metadata": {},
   "outputs": [
    {
     "data": {
      "text/plain": [
       "dict_items([('中国', '北京'), ('美国', '华盛顿')])"
      ]
     },
     "execution_count": 7,
     "metadata": {},
     "output_type": "execute_result"
    }
   ],
   "source": [
    "d.keys()\n",
    "d.values()\n",
    "d.items()"
   ]
  },
  {
   "cell_type": "markdown",
   "metadata": {},
   "source": [
    "## 字典类型操作函数和方法\n",
    "|函数或方法|描述|\n",
    "|:--:|:--:|\n",
    "|del d[k]|删除字典d 中键 k 对应的数据值\n",
    "|k in d |判断键k 是否在字典 d 中，如果在返回 True ，否则 False|\n",
    "|d.keys|返回字典d 中所有的键信息|\n",
    "|d.values|返回字典d 中所有的值信息|\n",
    "|d.items|返回字典d 中所有的键值对信息|\n",
    "|d.get(k,<default\\>)|键k存在，则返回相应值，不在则返回<default\\> 值|\n",
    "|d.pop(k,<default\\>)|键k存在，则取出相应值，不在则返回<default\\>值|\n",
    "|d.popitem()|随机从字典d 中取出一个键值对，以元组形式返回|\n",
    "|d.clear()|删除所有的键值对|\n",
    "|len(d)|返回字典d中元素的个数|"
   ]
  },
  {
   "cell_type": "code",
   "execution_count": null,
   "metadata": {},
   "outputs": [],
   "source": []
  }
 ],
 "metadata": {
  "kernelspec": {
   "display_name": "Python 3",
   "language": "python",
   "name": "python3"
  },
  "language_info": {
   "codemirror_mode": {
    "name": "ipython",
    "version": 3
   },
   "file_extension": ".py",
   "mimetype": "text/x-python",
   "name": "python",
   "nbconvert_exporter": "python",
   "pygments_lexer": "ipython3",
   "version": "3.6.8"
  }
 },
 "nbformat": 4,
 "nbformat_minor": 4
}
