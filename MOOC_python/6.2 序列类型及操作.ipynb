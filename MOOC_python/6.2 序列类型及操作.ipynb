{
 "cells": [
  {
   "cell_type": "markdown",
   "metadata": {},
   "source": [
    "# 序列类型及操作\n",
    "\n",
    "序列是具有先后关系的一组元素\n",
    "- 序列是一维元素向量 ，元素类型可以不同\n",
    "- 类似数学元素序列： s0 , s1 , … , sn-1\n",
    "- 元素 间由序号引导， 通过 下标 访问序列的特定元素\n",
    "\n",
    "## 序列类型通用操作符\n",
    "|操作符及应用|描述|\n",
    "|:--:|:--:|\n",
    "| x in s | 如果x 是序列 s 的元素，返回 True ，否则返回 False|\n",
    "| x not in s| 如果x 是序列 s 的元素，返回 False ，否则返回 True|\n",
    "|s + t | 连接两个序列s 和 t|\n",
    "|s*n 或 n*s | 将序列s复制n次|\n",
    "|s[i]| 索引，返回s 中的第 i 个元素， i 是序列的序号|\n",
    "|s[i:j]或s[i:j:k]| 切片，返回序列s 中第 i 到 j 以 k 为步长的元素子序列|\n",
    "\n",
    "## 序列类型通用函数和方法\n",
    "|函数和方法|描述|\n",
    "|:--:|:--:|\n",
    "|len|返回序列s 的长度|\n",
    "|min(s)|返回序列s 的最小元素， s 中元素需要可比较|\n",
    "|max(s)|返回序列s 的最大元素， s 中元素需要可比较|\n",
    "|s.index(x) 或s.index(x,i,j)| 返回序列s 从 i 开始到 j 位置中第一次出现元素 x 的位置|\n",
    "|s.count| 返回序列s 中出现 x 的总次数|\n",
    "\n",
    "## 元组类型定义\n",
    "元组类型是序列类型的一种扩展\n",
    "\n",
    "- 元组是一种序列类型，一旦创建就不能被修改\n",
    "- 使用小括号 () 或 tuple() 创建，元素间用逗号 , 分隔\n",
    "- 可以使用或不使用小括号\n",
    "\n",
    "## 列表类型定义\n",
    "列表是序列类型的一种扩展，十分常用\n",
    "\n",
    "- 列表 是一种序列类型，创建后可以随意被修改\n",
    "- 使用方括号 或 list() 创建 ，元素间用逗号 , 分隔\n",
    "- 列表中各元素类型可以不同，无长度限制\n",
    "\n",
    "### 列表类型操作函数和方法\n",
    "\n",
    "|函数或方法|描述|\n",
    "|:--:|:--:|\n",
    "|ls[i ] = x| 替换列表ls 第 i 元素为 x|\n",
    "|ls[i : j: k]= lt |用列表lt 替换 ls 切片后所对应元素子列表|\n",
    "|del ls[i]| 删除列表ls 中第 i 元素|\n",
    "|del ls[i : j:k]| 删除列表ls 中第 i 到第 j 以 k 为步长的元素|\n",
    "|ls += lt | 更新列表ls ，将列表 lt 元素增加到列表 ls 中|\n",
    "|ls \\*= n  |更新列表ls ，其元素重复 n 次|\n",
    "|ls.append| 在列表ls 最后增加一个元素 x|\n",
    "|ls.clear|删除列表ls 中所有元素|\n",
    "|ls.copy|生成一个新列表，赋值ls 中所有元素\n",
    "|ls.insert(i,x)| 在列表ls 的第 i 位置增加元素 x|\n",
    "|ls.pop|i 将列表ls 中第 i 位置元素取出并删除该元素|\n",
    "|ls.remove| 将列表ls 中出现的第一个元素 x 删除|\n",
    "|ls.reverse|将列表ls 中的元素反转|"
   ]
  },
  {
   "cell_type": "code",
   "execution_count": 1,
   "metadata": {},
   "outputs": [
    {
     "data": {
      "text/plain": [
       "('human', 'tiger', 'dog', 'cat')"
      ]
     },
     "execution_count": 1,
     "metadata": {},
     "output_type": "execute_result"
    }
   ],
   "source": [
    "creature  = 'cat','dog','tiger','human'\n",
    "creature[::-1]"
   ]
  },
  {
   "cell_type": "code",
   "execution_count": 2,
   "metadata": {},
   "outputs": [
    {
     "data": {
      "text/plain": [
       "'u'"
      ]
     },
     "execution_count": 2,
     "metadata": {},
     "output_type": "execute_result"
    }
   ],
   "source": [
    "color = (0x001100, \"blue\")\n",
    "color[-1][2]\n",
    "         "
   ]
  },
  {
   "cell_type": "code",
   "execution_count": null,
   "metadata": {},
   "outputs": [],
   "source": []
  }
 ],
 "metadata": {
  "kernelspec": {
   "display_name": "Python 3",
   "language": "python",
   "name": "python3"
  },
  "language_info": {
   "codemirror_mode": {
    "name": "ipython",
    "version": 3
   },
   "file_extension": ".py",
   "mimetype": "text/x-python",
   "name": "python",
   "nbconvert_exporter": "python",
   "pygments_lexer": "ipython3",
   "version": "3.6.8"
  }
 },
 "nbformat": 4,
 "nbformat_minor": 4
}
