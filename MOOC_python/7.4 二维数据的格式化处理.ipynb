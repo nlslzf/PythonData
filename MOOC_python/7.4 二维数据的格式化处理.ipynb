{
 "cells": [
  {
   "cell_type": "code",
   "execution_count": null,
   "metadata": {},
   "outputs": [],
   "source": [
    "# 从csv格式的文件中读入数据\n",
    "fo = open(fname)\n",
    "ls = []\n",
    "for line in fo:\n",
    "    line = line.replace('\\n','')\n",
    "    ls.append(line.split(','))\n",
    "fo.close()"
   ]
  },
  {
   "cell_type": "code",
   "execution_count": null,
   "metadata": {},
   "outputs": [],
   "source": [
    "# 将数据写入csv格式的文件\n",
    "ls = [[],[],[]]\n",
    "f = open(fname,'w')\n",
    "for item in ls:\n",
    "    f.write(','.join(item)+'\\n')\n",
    "f.close()"
   ]
  },
  {
   "cell_type": "code",
   "execution_count": null,
   "metadata": {},
   "outputs": [],
   "source": [
    "# 二维数据的逐一处理\n",
    "ls = [[],[],[]]\n",
    "for row in ls:\n",
    "    for column in row:\n",
    "        print(ls[row][column])"
   ]
  }
 ],
 "metadata": {
  "kernelspec": {
   "display_name": "Python 3",
   "language": "python",
   "name": "python3"
  },
  "language_info": {
   "codemirror_mode": {
    "name": "ipython",
    "version": 3
   },
   "file_extension": ".py",
   "mimetype": "text/x-python",
   "name": "python",
   "nbconvert_exporter": "python",
   "pygments_lexer": "ipython3",
   "version": "3.6.8"
  }
 },
 "nbformat": 4,
 "nbformat_minor": 4
}
