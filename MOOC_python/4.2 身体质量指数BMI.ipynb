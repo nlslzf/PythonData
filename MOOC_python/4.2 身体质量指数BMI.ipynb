{
 "cells": [
  {
   "cell_type": "markdown",
   "metadata": {},
   "source": [
    "# 身体质量指数BMI"
   ]
  },
  {
   "cell_type": "code",
   "execution_count": 6,
   "metadata": {},
   "outputs": [
    {
     "name": "stdout",
     "output_type": "stream",
     "text": [
      "BMI数值为：27.17\n",
      "BMI指标国际为：国际'偏胖'\n"
     ]
    }
   ],
   "source": [
    "height = 1.75\n",
    "weight = 83.2\n",
    "bmi = weight / pow(height,2)\n",
    "print('BMI数值为：{:.2f}'.format(bmi))\n",
    "who = ''\n",
    "if bmi < 18.5:\n",
    "    who = '偏瘦'\n",
    "elif 18.5 <= bmi < 25:\n",
    "    who = '正常'\n",
    "elif 25 <= bmi < 30:\n",
    "    who = '偏胖'\n",
    "else :\n",
    "    who = '肥胖'\n",
    "print(\"BMI指标国际为：国际'{0}'\".format(who))"
   ]
  }
 ],
 "metadata": {
  "kernelspec": {
   "display_name": "Python 3",
   "language": "python",
   "name": "python3"
  },
  "language_info": {
   "codemirror_mode": {
    "name": "ipython",
    "version": 3
   },
   "file_extension": ".py",
   "mimetype": "text/x-python",
   "name": "python",
   "nbconvert_exporter": "python",
   "pygments_lexer": "ipython3",
   "version": "3.6.8"
  }
 },
 "nbformat": 4,
 "nbformat_minor": 4
}
