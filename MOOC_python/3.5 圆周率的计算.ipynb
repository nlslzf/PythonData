{
 "cells": [
  {
   "cell_type": "markdown",
   "metadata": {},
   "source": [
    "# 圆周率的计算"
   ]
  },
  {
   "cell_type": "code",
   "execution_count": 2,
   "metadata": {},
   "outputs": [
    {
     "name": "stdout",
     "output_type": "stream",
     "text": [
      "圆周率数值是：3.141592653589793\n"
     ]
    }
   ],
   "source": [
    "pi = 0\n",
    "N = 100\n",
    "for k in range(N):\n",
    "    pi += pow(1/16,k)*(4/(8*k+1)-2/(8*k+4)-1/(8*k+5)-1/(8*k+6))\n",
    "print('圆周率数值是：{}'.format(pi))"
   ]
  },
  {
   "cell_type": "code",
   "execution_count": 7,
   "metadata": {},
   "outputs": [
    {
     "name": "stdout",
     "output_type": "stream",
     "text": [
      "圆周率是：3.142048\n",
      "运行时间是:0.23829s\n"
     ]
    }
   ],
   "source": [
    "from random import random\n",
    "from time import perf_counter\n",
    "DARTS = 500*500\n",
    "hits = 0.0\n",
    "start = perf_counter()\n",
    "for i in range(1,DARTS+1):\n",
    "    x,y = random(),random()\n",
    "    dist = pow(x**2 + y**2,0.5)\n",
    "    if dist <= 1.0:\n",
    "        hits += 1\n",
    "pi = 4 * (hits/DARTS)\n",
    "print('圆周率是：{}'.format(pi))\n",
    "print('运行时间是:{:.5f}s'.format(perf_counter()- start))"
   ]
  },
  {
   "cell_type": "code",
   "execution_count": null,
   "metadata": {},
   "outputs": [],
   "source": []
  }
 ],
 "metadata": {
  "kernelspec": {
   "display_name": "Python 3",
   "language": "python",
   "name": "python3"
  },
  "language_info": {
   "codemirror_mode": {
    "name": "ipython",
    "version": 3
   },
   "file_extension": ".py",
   "mimetype": "text/x-python",
   "name": "python",
   "nbconvert_exporter": "python",
   "pygments_lexer": "ipython3",
   "version": "3.6.8"
  }
 },
 "nbformat": 4,
 "nbformat_minor": 4
}
