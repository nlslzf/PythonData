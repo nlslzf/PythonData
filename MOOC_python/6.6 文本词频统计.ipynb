{
 "cells": [
  {
   "cell_type": "markdown",
   "metadata": {},
   "source": [
    "# 文本词频统计\n"
   ]
  },
  {
   "cell_type": "code",
   "execution_count": 2,
   "metadata": {},
   "outputs": [
    {
     "name": "stdout",
     "output_type": "stream",
     "text": [
      "the         989\n",
      "and         703\n",
      "of          628\n",
      "to          626\n",
      "I           542\n",
      "you         499\n",
      "a           465\n",
      "my          441\n",
      "in          400\n",
      "HAMLET      385\n"
     ]
    }
   ],
   "source": [
    "def getText():\n",
    "    txt = open('hamlet.txt','r').read()\n",
    "    tet = txt.lower()\n",
    "    for ch in '!\"#$%&()*+,-./:;<=>?@[\\\\]^_‘{|}~':\n",
    "        txt = txt.replace(ch,' ')\n",
    "    return txt\n",
    "\n",
    "hamletTxt = getText()\n",
    "words = hamletTxt.split()\n",
    "counts = {}\n",
    "for word in words:\n",
    "    counts[word] = counts.get(word,0) + 1\n",
    "items = list(counts.items())\n",
    "items.sort(key=lambda x:x[1], reverse = True)\n",
    "for i in range(10):\n",
    "    word,count = items[i]\n",
    "    print('{0:<10}{1:>5}'.format(word,count))"
   ]
  },
  {
   "cell_type": "code",
   "execution_count": 12,
   "metadata": {},
   "outputs": [
    {
     "name": "stdout",
     "output_type": "stream",
     "text": [
      "曹操         1451\n",
      "刘备         1252\n",
      "孔明          836\n",
      "关羽          784\n",
      "将军          772\n",
      "却说          656\n",
      "诸葛          627\n",
      "二人          469\n",
      "不可          440\n",
      "荆州          425\n"
     ]
    }
   ],
   "source": [
    "import jieba\n",
    "txt = open('threekingdoms.txt','r',encoding='utf-8').read()\n",
    "excludes = {'将军','却说','荆州','二人','不可','不能','如此'}\n",
    "words = jieba.lcut(txt)\n",
    "counts = {}\n",
    "for word in words:\n",
    "    if len(word) == 1:\n",
    "        continue\n",
    "    elif word == '诸葛亮' or word == '孔明曰':\n",
    "        rword = '诸葛'\n",
    "    elif word == '关公' or word == '云长':\n",
    "        rword = '关羽'\n",
    "    elif word == '玄德' or word == '玄德曰':\n",
    "        rword = '刘备'\n",
    "    elif word == '孟德' or word == '丞相':\n",
    "        rword = '曹操'\n",
    "    else:\n",
    "        rword = word\n",
    "    counts[rword] = counts.get(rword,0) + 1\n",
    "#for word in excludes:\n",
    "#    del counts[word]\n",
    "items = list(counts.items())\n",
    "items.sort(key = lambda x:x[1],reverse=True)\n",
    "for i in range(10):\n",
    "    word,count = items[i]\n",
    "    print('{:<10}{:>5}'.format(word,count))"
   ]
  },
  {
   "cell_type": "code",
   "execution_count": 9,
   "metadata": {},
   "outputs": [
    {
     "data": {
      "text/plain": [
       "[('key1', 'value1'), ('key2', 'value2'), ('key3', 'value3')]"
      ]
     },
     "execution_count": 9,
     "metadata": {},
     "output_type": "execute_result"
    }
   ],
   "source": [
    "test = {'key1':'value1','key2':'value2','key3':'value3'}\n",
    "items = list(test.items())\n",
    "items"
   ]
  },
  {
   "cell_type": "code",
   "execution_count": null,
   "metadata": {},
   "outputs": [],
   "source": []
  }
 ],
 "metadata": {
  "kernelspec": {
   "display_name": "Python 3",
   "language": "python",
   "name": "python3"
  },
  "language_info": {
   "codemirror_mode": {
    "name": "ipython",
    "version": 3
   },
   "file_extension": ".py",
   "mimetype": "text/x-python",
   "name": "python",
   "nbconvert_exporter": "python",
   "pygments_lexer": "ipython3",
   "version": "3.6.8"
  }
 },
 "nbformat": 4,
 "nbformat_minor": 4
}
