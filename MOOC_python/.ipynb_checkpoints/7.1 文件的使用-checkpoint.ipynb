{
 "cells": [
  {
   "cell_type": "markdown",
   "metadata": {},
   "source": [
    "# 文件的使用\n",
    "文件是数据的抽象和集合\n",
    "- 文件是存储在辅助存储器上的数据序列\n",
    "- 文件 是数据存储的一种形式\n",
    "- 文件展现形态：文本文件和二进制文件\n",
    "\n",
    "文本文件 VS. 二进制文件\n",
    "- 文件文件和二进制文件只是文件的展示方式\n",
    "- 本质 上，所有文件都是二进制形式存储\n",
    "- 形式 上， 所有文件采用两种方式展示\n",
    "\n",
    "- 由 单一特定编码 组成的文件，如 UTF-8 编码\n",
    "- 由于存在编码，也被看成是存储着的长字符串\n",
    "- 适用于例如：.txt 文件 .py 文件等\n",
    "- 直接由比特 0 和 1 组成， 没有统一字符编码\n",
    "- 一般存在二 进制 0 和 1 的组织结构，即文件格式\n",
    "- 适用于例如： png 文件、 avi 文件等\n",
    "\n",
    "|文件的打开模式|描述|\n",
    "|:--:|:--:|\n",
    "|'r'|只读模式，默认值，如果文件不存在，返回FileNotFoundError|\n",
    "|'w'|覆盖写模式，文件不存在则创建，存在则完全覆盖|\n",
    "|'x'|创建写模式，文件不存在则创建，存在则返回FileExistsError|\n",
    "|'a'|追加写模式，文件不存在则创建，存在则在文件最后追加内容|\n",
    "|'b'|二进制文件模式|\n",
    "|'t'|文本文件模式，默认值|\n",
    "|'+'|与r/w/x/a 一同使用，在原功能基础上增加同时读写功能|\n",
    "\n",
    "f.read(size=-1)： 读入全部内容，如果给出参数，读入前size 长度\n",
    "\n",
    "f.readline(size=-1): 读入一行内容，如果给出参数，读入该行前size 长度\n",
    "\n",
    "f.readlines(hint=-1): 读入文件所有行，以每行为元素形成列表如果给出参数，读入前 hint 行\n",
    "\n",
    "f.write(s): 向文件写入一个字符串或字节流\n",
    "\n",
    "f.writelines(lines): 将一个元素全为字符串的列表写入文件\n",
    "\n",
    "f.seek(offset): 改变当前文件操作指针的位置，offset 含义如下：0 文件开头；1 当前位置； 2 文件结尾"
   ]
  },
  {
   "cell_type": "code",
   "execution_count": 21,
   "metadata": {},
   "outputs": [
    {
     "name": "stdout",
     "output_type": "stream",
     "text": [
      "['中国是一个伟大的国家\\n', '南通是一个美丽的地方\\n']\n"
     ]
    }
   ],
   "source": [
    "tf = open('a.txt','rt') ## 'rt'与'rb'\n",
    "print(tf.readlines())\n",
    "tf.close()"
   ]
  },
  {
   "cell_type": "code",
   "execution_count": 22,
   "metadata": {},
   "outputs": [
    {
     "name": "stdout",
     "output_type": "stream",
     "text": [
      "中国是一个伟大的国家\n",
      "\n",
      "南通是一个美丽的地方\n",
      "\n"
     ]
    }
   ],
   "source": [
    "# 一次读入，分行处理\n",
    "fo = open('a.txt','rt')\n",
    "for line in fo.readlines():\n",
    "    print(line)\n",
    "fo.close()"
   ]
  },
  {
   "cell_type": "code",
   "execution_count": 23,
   "metadata": {},
   "outputs": [
    {
     "name": "stdout",
     "output_type": "stream",
     "text": [
      "中国是一个伟大的国家\n",
      "\n",
      "南通是一个美丽的地方\n",
      "\n"
     ]
    }
   ],
   "source": [
    "# 分行读入，逐行处理\n",
    "fo = open('a.txt','rt')\n",
    "for line in fo:\n",
    "    print(line)\n",
    "fo.close()"
   ]
  },
  {
   "cell_type": "code",
   "execution_count": 33,
   "metadata": {},
   "outputs": [],
   "source": [
    "fa = open('b.txt','w+')\n",
    "fa.write('中国是一个伟大的国家\\n南通是一个伟大的地方')\n",
    "fa.close()"
   ]
  },
  {
   "cell_type": "code",
   "execution_count": 34,
   "metadata": {},
   "outputs": [
    {
     "name": "stdout",
     "output_type": "stream",
     "text": [
      "中国\n",
      "\n",
      "法国\n",
      "\n",
      "美国\n"
     ]
    }
   ],
   "source": [
    "fb = open('c.txt','w+')\n",
    "ls = ['中国\\n','法国\\n','美国']\n",
    "fb.writelines(ls)\n",
    "fb.seek(0)\n",
    "for line in fb:\n",
    "    print(line)\n",
    "fb.close()"
   ]
  }
 ],
 "metadata": {
  "kernelspec": {
   "display_name": "Python 3",
   "language": "python",
   "name": "python3"
  },
  "language_info": {
   "codemirror_mode": {
    "name": "ipython",
    "version": 3
   },
   "file_extension": ".py",
   "mimetype": "text/x-python",
   "name": "python",
   "nbconvert_exporter": "python",
   "pygments_lexer": "ipython3",
   "version": "3.7.6"
  }
 },
 "nbformat": 4,
 "nbformat_minor": 4
}
