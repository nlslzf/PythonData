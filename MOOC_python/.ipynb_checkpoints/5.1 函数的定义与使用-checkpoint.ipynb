{
 "cells": [
  {
   "cell_type": "markdown",
   "metadata": {},
   "source": [
    "# 函数的定义与使用"
   ]
  },
  {
   "cell_type": "code",
   "execution_count": 23,
   "metadata": {},
   "outputs": [
    {
     "data": {
      "text/plain": [
       "120"
      ]
     },
     "execution_count": 23,
     "metadata": {},
     "output_type": "execute_result"
    }
   ],
   "source": [
    "def fact(n,m=0,*b):\n",
    "    s = 1\n",
    "    for i in range(1,n+1):\n",
    "        s *= i\n",
    "    for item in b:\n",
    "        s *= item\n",
    "    return s\n",
    "\n",
    "fact(5,6,7)\n",
    "fact(m=2,n=5)"
   ]
  },
  {
   "cell_type": "code",
   "execution_count": 26,
   "metadata": {},
   "outputs": [
    {
     "name": "stdout",
     "output_type": "stream",
     "text": [
      "725760 10 5\n"
     ]
    }
   ],
   "source": [
    "def fact(n,m=1):\n",
    "    s = 1\n",
    "    for i in range(1,n+1):\n",
    "        s *= i\n",
    "    return s//m,n,m\n",
    "\n",
    "a,b,c=fact(10,5)\n",
    "print(a,b,c)"
   ]
  },
  {
   "cell_type": "markdown",
   "metadata": {},
   "source": [
    "1. 局部变量和全局变量是不同变量\n",
    "    - 局部变量是函数内部的占位符，与全局变量可能重名但不同\n",
    "    - 函数运算结束后，局部变量被释放\n",
    "    - 可以 使用 global 保留字在函数内部使用全局变量\n",
    "2. 局部变量为组合数据类型且未创建，等同于全局变量"
   ]
  },
  {
   "cell_type": "code",
   "execution_count": 27,
   "metadata": {},
   "outputs": [
    {
     "name": "stdout",
     "output_type": "stream",
     "text": [
      "['f', 'F', 'c']\n"
     ]
    }
   ],
   "source": [
    "ls = ['f','F']\n",
    "def func(a):\n",
    "    ls.append(a)\n",
    "    return\n",
    "func('c')\n",
    "print(ls)"
   ]
  },
  {
   "cell_type": "code",
   "execution_count": 28,
   "metadata": {},
   "outputs": [
    {
     "name": "stdout",
     "output_type": "stream",
     "text": [
      "['f', 'F']\n"
     ]
    }
   ],
   "source": [
    "ls = ['f','F']\n",
    "def func(a):\n",
    "    ls=[]\n",
    "    ls.append(a)\n",
    "    return\n",
    "func('c')\n",
    "print(ls)"
   ]
  },
  {
   "cell_type": "markdown",
   "metadata": {},
   "source": [
    "## 局部变量和全局变量使用规则\n",
    "1. 基本 数据类型，无论是否重名，局 部变量与全局变量不同\n",
    "2. 可以通过 ***global*** 保留字在函数内部声明全局变量\n",
    "3. 组合 数据类型，如果局部变量未真实创建，则是全局变量\n",
    "\n",
    "## lambda函数\n",
    "<函数名> = lambda <参数>:< 表达式 >\n",
    "- l ambda 函数是一种匿名函数，即没有名字的函数\n",
    "- 使用 lambda 保留字定义，函数名是返回结果\n",
    "- lambda 函数用于定义简单的、能够在一行内表示的函数"
   ]
  },
  {
   "cell_type": "code",
   "execution_count": 31,
   "metadata": {},
   "outputs": [
    {
     "data": {
      "text/plain": [
       "39"
      ]
     },
     "execution_count": 31,
     "metadata": {},
     "output_type": "execute_result"
    }
   ],
   "source": [
    "f = lambda x,y:x+y\n",
    "f(20,19)"
   ]
  }
 ],
 "metadata": {
  "kernelspec": {
   "display_name": "Python 3",
   "language": "python",
   "name": "python3"
  },
  "language_info": {
   "codemirror_mode": {
    "name": "ipython",
    "version": 3
   },
   "file_extension": ".py",
   "mimetype": "text/x-python",
   "name": "python",
   "nbconvert_exporter": "python",
   "pygments_lexer": "ipython3",
   "version": "3.7.6"
  }
 },
 "nbformat": 4,
 "nbformat_minor": 4
}
