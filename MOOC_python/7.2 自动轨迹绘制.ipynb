{
 "cells": [
  {
   "cell_type": "code",
   "execution_count": null,
   "metadata": {},
   "outputs": [],
   "source": [
    "import turtle as t\n",
    "t.title('自动轨迹绘制')\n",
    "t.setup(800, 600, 0, 0)\n",
    "t.pencolor(\"red\")\n",
    "t.pensize(5)\n",
    "#数据读取\n",
    "datals = []\n",
    "f = open(\"data.txt\")\n",
    "for line in f:\n",
    "    line = line.replace(\"\\n\",\"\")\n",
    "    datals.append(list(map(eval, line.split(\",\"))))\n",
    "f.close()\n",
    "#自动绘制\n",
    "for i in range(len(datals)):\n",
    "    t.pencolor(datals[i][3],datals[i][4],datals[i][5])\n",
    "    t.fd(datals[i][0])\n",
    "    if datals[i][1]:\n",
    "        t.rt(datals[i][2])\n",
    "    else:\n",
    "        t.lt(datals[i][2])"
   ]
  }
 ],
 "metadata": {
  "kernelspec": {
   "display_name": "Python 3",
   "language": "python",
   "name": "python3"
  },
  "language_info": {
   "codemirror_mode": {
    "name": "ipython",
    "version": 3
   },
   "file_extension": ".py",
   "mimetype": "text/x-python",
   "name": "python",
   "nbconvert_exporter": "python",
   "pygments_lexer": "ipython3",
   "version": "3.6.8"
  }
 },
 "nbformat": 4,
 "nbformat_minor": 4
}
