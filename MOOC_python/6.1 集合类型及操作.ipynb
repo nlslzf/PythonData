{
 "cells": [
  {
   "cell_type": "markdown",
   "metadata": {},
   "source": [
    "# 集合类型及操作\n"
   ]
  },
  {
   "cell_type": "markdown",
   "metadata": {},
   "source": [
    "集合是多个元素的无序组合\n",
    "- 集合类型与数学中的集合概念一致\n",
    "- 集合元素之间无序，每个元素唯一，不存在相同元素\n",
    "- 集合 元素不可更改，不能是可变数据类型\n",
    "- 集合用大括号 {} 表示，元素间用逗号分隔\n",
    "- 建立集合类型用 {} 或 set()\n",
    "- 建立空集合类型，必须使用 set()"
   ]
  },
  {
   "cell_type": "code",
   "execution_count": 9,
   "metadata": {},
   "outputs": [
    {
     "name": "stdout",
     "output_type": "stream",
     "text": [
      "{('python', 123), 123, 'Python'}\n"
     ]
    },
    {
     "data": {
      "text/plain": [
       "set"
      ]
     },
     "execution_count": 9,
     "metadata": {},
     "output_type": "execute_result"
    }
   ],
   "source": [
    "A = {'Python',123,('python',123)} # 使用{}建立集合\n",
    "print(A)\n",
    "type(A)"
   ]
  },
  {
   "cell_type": "code",
   "execution_count": null,
   "metadata": {},
   "outputs": [],
   "source": []
  },
  {
   "cell_type": "code",
   "execution_count": 5,
   "metadata": {},
   "outputs": [
    {
     "name": "stdout",
     "output_type": "stream",
     "text": [
      "{'h', 'o', 'y', 't', 'n', 'P'}\n"
     ]
    }
   ],
   "source": [
    "B = set('Python')\n",
    "print(B)"
   ]
  },
  {
   "cell_type": "code",
   "execution_count": 6,
   "metadata": {},
   "outputs": [
    {
     "name": "stdout",
     "output_type": "stream",
     "text": [
      "{123, 'Python'}\n"
     ]
    }
   ],
   "source": [
    "C = {'Python',123,'Python'}\n",
    "print(C)"
   ]
  },
  {
   "cell_type": "markdown",
   "metadata": {},
   "source": [
    "集合操作符： S|T   S-T   S&T   S^T   S<=T   S>=T\n",
    "\n",
    "增强操作符：S|=T   S-=T   S&=T   S^=T\n",
    "\n",
    "## 集合处理方法\n",
    "|操作函数或方法|描述|\n",
    "|:---:|:----:|\n",
    "|S.add|如果x 不在集合 S 中，将 x 增加到 S|\n",
    "|S.discard|移除S 中元素 x ，如果 x 不在集合 S 中，不报错|\n",
    "|S.remove| 移除S 中元素 x ，如果 x 不在集合 S 中，产生 KeyError 异常|\n",
    "|S.clear|移除S 中所有元素|\n",
    "|S.pop|随机返回S 的一个元素，更新 S ，若 S 为空产生 KeyError 异常|\n",
    "\n",
    "## 集合处理方法\n",
    "\n",
    " |操作函数或方法 | 描述 |\n",
    " |:-----------:|:-------------------------------:|\n",
    " |S\\.copy\\(\\) | 返回集合S的一个副本                      |  \n",
    " |len\\(S\\)    | 返回集合S的元素个数                      |  \n",
    " |x in S      | 判断S中元素x，x在集合S中，返回True，否则返回False |  \n",
    " |set\\(x\\)    | 将其他类型变量x转变为集合类型                 | \n",
    "\n"
   ]
  },
  {
   "cell_type": "code",
   "execution_count": 8,
   "metadata": {},
   "outputs": [
    {
     "name": "stdout",
     "output_type": "stream",
     "text": [
      "[123, 'p', 'y']\n"
     ]
    }
   ],
   "source": [
    "# 数据去重\n",
    "ls = ['p','p','y','y',123]\n",
    "s = set(ls)\n",
    "lt = list(s)\n",
    "print(lt)"
   ]
  },
  {
   "cell_type": "code",
   "execution_count": null,
   "metadata": {},
   "outputs": [],
   "source": []
  }
 ],
 "metadata": {
  "kernelspec": {
   "display_name": "Python 3",
   "language": "python",
   "name": "python3"
  },
  "language_info": {
   "codemirror_mode": {
    "name": "ipython",
    "version": 3
   },
   "file_extension": ".py",
   "mimetype": "text/x-python",
   "name": "python",
   "nbconvert_exporter": "python",
   "pygments_lexer": "ipython3",
   "version": "3.6.8"
  }
 },
 "nbformat": 4,
 "nbformat_minor": 4
}
