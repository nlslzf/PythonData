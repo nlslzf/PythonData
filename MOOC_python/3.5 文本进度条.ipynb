{
 "cells": [
  {
   "cell_type": "markdown",
   "metadata": {},
   "source": [
    "# 文本进度条"
   ]
  },
  {
   "cell_type": "code",
   "execution_count": 7,
   "metadata": {},
   "outputs": [
    {
     "name": "stdout",
     "output_type": "stream",
     "text": [
      "-------执行开始-------\n",
      " 0 %[->..........]\n",
      "10 %[*->.........]\n",
      "20 %[**->........]\n",
      "30 %[***->.......]\n",
      "40 %[****->......]\n",
      "50 %[*****->.....]\n",
      "60 %[******->....]\n",
      "70 %[*******->...]\n",
      "80 %[********->..]\n",
      "90 %[*********->.]\n",
      "100%[**********->]\n",
      "-------执行结束-------\n"
     ]
    }
   ],
   "source": [
    "import time \n",
    "scale = 10\n",
    "print('{:-^18}'.format('执行开始'))\n",
    "for i in range(scale+1):\n",
    "    a = i * '*'\n",
    "    b = (scale - i) * '.'\n",
    "    c = (i/scale) * 100\n",
    "    print('{: ^3.0f}%[{}->{}]'.format(c,a,b))\n",
    "    time.sleep(0.5)\n",
    "print('{:-^18}'.format('执行结束'))"
   ]
  },
  {
   "cell_type": "code",
   "execution_count": 9,
   "metadata": {},
   "outputs": [
    {
     "name": "stdout",
     "output_type": "stream",
     "text": [
      "100%"
     ]
    }
   ],
   "source": [
    "import time \n",
    "for i in range(101):\n",
    "    print(\"\\r{:3}%\".format(i),end='')\n",
    "    time.sleep(0.1)"
   ]
  },
  {
   "cell_type": "code",
   "execution_count": 20,
   "metadata": {},
   "outputs": [
    {
     "name": "stdout",
     "output_type": "stream",
     "text": [
      "------------------------------执行开始-----------------------------\n",
      "100%[**************************************************->]5.02s\n",
      "------------------------------执行结束-----------------------------\n"
     ]
    }
   ],
   "source": [
    "import time \n",
    "scale = 50\n",
    "print('执行开始'.center(scale+13,'-'))\n",
    "start = time.perf_counter()\n",
    "for i in range(scale+1):\n",
    "    a = i * '*'\n",
    "    b = (scale - i) * '.'\n",
    "    c = (i/scale) * 100\n",
    "    dur = time.perf_counter() - start\n",
    "    print(\"\\r{: ^3.0f}%[{}->{}]{:.2f}s\".format(c,a,b,dur),end='')\n",
    "    time.sleep(0.1)\n",
    "print('\\n'+ '执行结束'.center(scale+13,'-'))"
   ]
  },
  {
   "cell_type": "code",
   "execution_count": null,
   "metadata": {},
   "outputs": [],
   "source": []
  }
 ],
 "metadata": {
  "kernelspec": {
   "display_name": "Python 3",
   "language": "python",
   "name": "python3"
  },
  "language_info": {
   "codemirror_mode": {
    "name": "ipython",
    "version": 3
   },
   "file_extension": ".py",
   "mimetype": "text/x-python",
   "name": "python",
   "nbconvert_exporter": "python",
   "pygments_lexer": "ipython3",
   "version": "3.6.8"
  }
 },
 "nbformat": 4,
 "nbformat_minor": 4
}
