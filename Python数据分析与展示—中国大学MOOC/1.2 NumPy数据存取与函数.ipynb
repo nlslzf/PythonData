{
 "cells": [
  {
   "cell_type": "markdown",
   "metadata": {},
   "source": [
    "## np.savetxt(frame, array, fmt='%.18e', delimiter=None)\n",
    "\n",
    "• frame : 文件、字符串或产生器，可以是.gz或.bz2的压缩文件\n",
    "\n",
    "• array : 存入文件的数组\n",
    "\n",
    "• fmt : 写入文件的格式，例如：%d %.2f %.18e\n",
    "\n",
    "• delimiter : 分割字符串，默认是任何空格\n",
    "\n",
    "## np.loadtxt(frame, dtype=np.float, delimiter=None， unpack=False)\n",
    "\n",
    "• frame : 文件、字符串或产生器，可以是.gz或.bz2的压缩文件\n",
    "\n",
    "• dtype : 数据类型，可选\n",
    "\n",
    "• delimiter : 分割字符串，默认是任何空格\n",
    "\n",
    "• unpack : 如果True，读入属性将分别写入不同变量\n",
    "\n",
    "# 多维数据的存取\n",
    "## a.tofile(frame, sep='', format='%s')\n",
    "\n",
    "• frame : 文件、字符串\n",
    "\n",
    "• sep : 数据分割字符串，如果是空串，写入文件为二进制\n",
    "\n",
    "• format : 写入数据的格式\n",
    "\n",
    "## np.fromfile(frame, dtype=float, count=‐1, sep='')\n",
    "• frame : 文件、字符串\n",
    "\n",
    "• dtype : 读取的数据类型\n",
    "\n",
    "• count : 读入元素个数，‐1表示读入整个文件\n",
    "\n",
    "• sep : 数据分割字符串，如果是空串，写入文件为二进制\n",
    "\n",
    "# Numpy的便捷文件存取\n",
    "## np.save(fname, array) 或np.savez(fname, array)\n",
    "• fname : 文件名，以.npy为扩展名，压缩扩展名为.npz\n",
    "\n",
    "• array : 数组变量\n",
    "\n",
    "## np.load(fname)\n",
    "• fname : 文件名，以.npy为扩展名，压缩扩展名为.npz"
   ]
  },
  {
   "cell_type": "code",
   "execution_count": 11,
   "metadata": {
    "scrolled": true
   },
   "outputs": [
    {
     "data": {
      "text/plain": [
       "array([[[ 0,  1,  2,  3,  4,  5,  6,  7,  8,  9, 10, 11, 12, 13, 14, 15,\n",
       "         16, 17, 18, 19, 20, 21, 22, 23, 24],\n",
       "        [25, 26, 27, 28, 29, 30, 31, 32, 33, 34, 35, 36, 37, 38, 39, 40,\n",
       "         41, 42, 43, 44, 45, 46, 47, 48, 49]],\n",
       "\n",
       "       [[50, 51, 52, 53, 54, 55, 56, 57, 58, 59, 60, 61, 62, 63, 64, 65,\n",
       "         66, 67, 68, 69, 70, 71, 72, 73, 74],\n",
       "        [75, 76, 77, 78, 79, 80, 81, 82, 83, 84, 85, 86, 87, 88, 89, 90,\n",
       "         91, 92, 93, 94, 95, 96, 97, 98, 99]]])"
      ]
     },
     "execution_count": 11,
     "metadata": {},
     "output_type": "execute_result"
    }
   ],
   "source": [
    "import numpy as np\n",
    "a = np.arange(100).reshape(5,10,2)\n",
    "a.tofile('b.dat',format='%d')\n",
    "c = np.fromfile('b.dat',dtype=np.int).reshape(2,2,25)\n",
    "c"
   ]
  },
  {
   "cell_type": "markdown",
   "metadata": {},
   "source": [
    "# NumPy的random子库\n",
    "|函数|说明|\n",
    "|:--:|:--:|\n",
    "|rand(d0,d1,..,dn)|根据d0‐dn创建随机数数组，浮点数，[0,1)，均匀分布|\n",
    "|randn(d0,d1,..,dn)| 根据d0‐dn创建随机数数组，标准正态分布|\n",
    "|randint(low[,high,shape])| 根据shape创建随机整数或整数数组，范围是[low, high)|\n",
    "|seed(s)| 随机数种子，s是给定的种子值|\n",
    "|shuffle(a)| 根据数组a的第1轴进行随排列，改变数组x|\n",
    "|permutation(a)| 根据数组a的第1轴产生一个新的乱序数组，不改变数组x|\n",
    "|choice(a[,size,replace,p])| 从一维数组a中以概率p抽取元素，形成size形状新数组replace表示是否可以重用元素，默认为False|\n",
    "|uniform(low,high,size)| 产生具有均匀分布的数组,low起始值,high结束值,size形状|\n",
    "|normal(loc,scale,size)| 产生具有正态分布的数组,loc均值,scale标准差,size形状|\n",
    "|poisson(lam,size)|产生具有泊松分布的数组,lam随机事件发生率,size形状|\n",
    "\n",
    "# NumPy的统计函数\n",
    "|函数|说明|\n",
    "|:--:|:--:|\n",
    "|sum(a, axis=None)| 根据给定轴axis计算数组a相关元素之和，axis整数或元组|\n",
    "|mean(a, axis=None)| 根据给定轴axis计算数组a相关元素的期望，axis整数或元组|\n",
    "|average(a,axis=None,weights=None)| 根据给定轴axis计算数组a相关元素的加权平均值|\n",
    "|std(a, axis=None)| 根据给定轴axis计算数组a相关元素的标准差|\n",
    "|var(a, axis=None)| 根据给定轴axis计算数组a相关元素的方差|\n",
    "|min(a) max(a) |算数组a中元素的最小值、最大值|\n",
    "|argmin(a) argmax(a) |计算数组a中元素最小值、最大值的降一维后下标|\n",
    "|unravel_index(index, shape)| 根据shape将一维下标index转换成多维下标|\n",
    "|ptp(a) |计算数组a中元素最大值与最小值的差|\n",
    "|median(a) |计算数组a中元素的中位数（中值）|\n",
    "\n",
    "# NumPy的梯度函数\n",
    "|函数|说明|\n",
    "|:--:|:--:|\n",
    "|np.gradient(f)| 计算数组f中元素的梯度，当f为多维时，返回每个维度梯度|\n",
    "\n",
    "XY坐标轴连续三个X坐标对应的Y轴值：a, b, c，其中，b的梯度是： (c‐a)/2"
   ]
  }
 ],
 "metadata": {
  "kernelspec": {
   "display_name": "Python 3",
   "language": "python",
   "name": "python3"
  },
  "language_info": {
   "codemirror_mode": {
    "name": "ipython",
    "version": 3
   },
   "file_extension": ".py",
   "mimetype": "text/x-python",
   "name": "python",
   "nbconvert_exporter": "python",
   "pygments_lexer": "ipython3",
   "version": "3.7.7"
  }
 },
 "nbformat": 4,
 "nbformat_minor": 4
}
